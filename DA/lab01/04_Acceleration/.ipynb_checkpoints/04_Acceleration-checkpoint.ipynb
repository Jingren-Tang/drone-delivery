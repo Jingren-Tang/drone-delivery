{
 "cells": [
  {
   "cell_type": "markdown",
   "id": "aeb37443",
   "metadata": {},
   "source": [
    "# Linear regression model for acceleration"
   ]
  },
  {
   "cell_type": "markdown",
   "id": "42f0d3e1-7ef4-4dc5-b0ff-578bff117477",
   "metadata": {},
   "source": [
    "## Context: Acceleration behaviour\n",
    "\n",
    "We have a database of acceleration behaviour in car-following situations.\n",
    "\n",
    "**Task: Specify and estimate a linear model using as explanatory variables:**\n",
    "\n",
    "**- Speed**\n",
    "\n",
    "**- Relative speed (Lead speed and speed differenece)**\n",
    "\n",
    "**- Distance**"
   ]
  }
 ],
 "metadata": {
  "kernelspec": {
   "display_name": "Python 3 (ipykernel)",
   "language": "python",
   "name": "python3"
  },
  "language_info": {
   "codemirror_mode": {
    "name": "ipython",
    "version": 3
   },
   "file_extension": ".py",
   "mimetype": "text/x-python",
   "name": "python",
   "nbconvert_exporter": "python",
   "pygments_lexer": "ipython3",
   "version": "3.11.5"
  }
 },
 "nbformat": 4,
 "nbformat_minor": 5
}
