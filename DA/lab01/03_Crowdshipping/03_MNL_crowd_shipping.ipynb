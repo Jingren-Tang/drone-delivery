{
 "cells": [
  {
   "cell_type": "markdown",
   "id": "aeb37443",
   "metadata": {},
   "source": [
    "# Multinomial logit model (MNL) for mode choice\n",
    "\n",
    "This notebook was written by Evangelos Paschalidis (evangelos.paschalidis@epfl.ch) for the Decision-aid methodologies in transportation course at EPFL (http://edu.epfl.ch/coursebook/en/decision-aid-methodologies-in-transportation-CIVIL-557). \n",
    "\n",
    "Please contact before distributing or reusing the material below.\n",
    "\n",
    "## Overview\n",
    "\n",
    "This notebook covers the estimation of a multinomial logit model in python with maximum likelihhod estimation:\n",
    "\n",
    "* Load necessary packages\n",
    "* Define variables and parameters to estimate\n",
    "* Model specification\n",
    "* Model output\n",
    "\n",
    "Have a go at working through the notebook. To run a code cell, just click on it (to see a green box around it) and then press the **Run** button at the top! \n",
    "\n",
    "Some cells have blank lines for you to complete. There is always a comment telling you what to do!\n",
    "\n",
    "You can also add a new cell by pressing the **+** button at the top of the page."
   ]
  },
  {
   "cell_type": "markdown",
   "id": "7b07c2d1",
   "metadata": {},
   "source": [
    "## Context: Crowdshipping\n",
    "\n",
    "We have a database of crowdshippers acceptance or rejection of suggested routes. Each crowdshipper is evaluating based on variables such as parcel size, fragility, time of the day, travel time, compensation etc.\n",
    "\n",
    "**Task: Specify and estimate a binary choice model using all variables in the data set as explanatory variables**"
   ]
  },
  {
   "cell_type": "markdown",
   "id": "cec84370",
   "metadata": {},
   "source": [
    "## Model specification"
   ]
  },
  {
   "cell_type": "markdown",
   "id": "cb1ad16e",
   "metadata": {},
   "source": [
    "## Load packages\n",
    "\n",
    "Before we estimate the model let's load some packages that we are going to need. When importing a package, it is common to rename it using an abbreviation."
   ]
  },
  {
   "cell_type": "code",
   "execution_count": 1,
   "id": "57a2baa6",
   "metadata": {},
   "outputs": [],
   "source": [
    "import pandas as pd # for data frame processing\n",
    "import numpy as np # for some statistical procedures\n",
    "from scipy.optimize import minimize # optimisation routine for parameter estimation\n",
    "from scipy.stats import norm # normal distribution density function\n",
    "import numdifftools as nd # we use this to calculate t-ratios and p-values\n",
    "from scipy.stats import t # we use this to calculate the CFDs needed for t-ratios and p-values\n",
    "import csv # we need this to store our parameters as csv"
   ]
  },
  {
   "cell_type": "markdown",
   "id": "2660f834",
   "metadata": {},
   "source": [
    "### Let's give a name to our model"
   ]
  },
  {
   "cell_type": "code",
   "execution_count": 2,
   "id": "6bf4a57f",
   "metadata": {},
   "outputs": [],
   "source": [
    "model_name = 'MNL_crowd_shipping' # Name we want to give to our model (this is used when saving the output)"
   ]
  },
  {
   "cell_type": "markdown",
   "id": "e0e295ca",
   "metadata": {},
   "source": [
    "### Panel structure\n",
    "We need to define whether our data is panel (i.e. multiple observations per individual) or not"
   ]
  },
  {
   "cell_type": "code",
   "execution_count": 3,
   "id": "7fb066cb",
   "metadata": {},
   "outputs": [],
   "source": [
    "panel = 0 # switch to 1 if data is panel (any other value if not panel)"
   ]
  },
  {
   "cell_type": "markdown",
   "id": "18001c9b",
   "metadata": {},
   "source": [
    "### Define if we use mixing"
   ]
  },
  {
   "cell_type": "code",
   "execution_count": 4,
   "id": "ff71be17",
   "metadata": {},
   "outputs": [],
   "source": [
    "mixing = 0 # switch to 1 if we apply mixing (any other value if no mixing applied)"
   ]
  },
  {
   "cell_type": "markdown",
   "id": "4e12a2a2",
   "metadata": {},
   "source": [
    "## Load the data\n",
    "\n",
    "Now it is time to load the data. We can do that using the piece of code below.\n",
    "\n",
    "**Important!** Make sure the data is in the same folder with the notebook file"
   ]
  },
  {
   "cell_type": "code",
   "execution_count": 5,
   "id": "be01c858",
   "metadata": {},
   "outputs": [],
   "source": [
    "# Command to load the data\n",
    "data = pd.read_table('data_crowdshipping.txt')\n",
    "\n",
    "# Number of observations (we need this to caclulate goodness-of-fit indices)\n",
    "Nobs = data.shape[0]"
   ]
  },
  {
   "cell_type": "markdown",
   "id": "98e03b17",
   "metadata": {},
   "source": [
    "## Print the data\n",
    "\n",
    "Let's quickly print the data. Simply type *data* in the field below\n",
    "\n",
    "(If we open our data set with a different name e.g. *database* then the latter should be used)\n",
    "\n",
    "* Please make sure to change the name througout the whole script if you change the data frame name."
   ]
  },
  {
   "cell_type": "code",
   "execution_count": 6,
   "id": "176b4f1b",
   "metadata": {},
   "outputs": [
    {
     "data": {
      "text/html": [
       "<div>\n",
       "<style scoped>\n",
       "    .dataframe tbody tr th:only-of-type {\n",
       "        vertical-align: middle;\n",
       "    }\n",
       "\n",
       "    .dataframe tbody tr th {\n",
       "        vertical-align: top;\n",
       "    }\n",
       "\n",
       "    .dataframe thead th {\n",
       "        text-align: right;\n",
       "    }\n",
       "</style>\n",
       "<table border=\"1\" class=\"dataframe\">\n",
       "  <thead>\n",
       "    <tr style=\"text-align: right;\">\n",
       "      <th></th>\n",
       "      <th>ID</th>\n",
       "      <th>trip_duration</th>\n",
       "      <th>time_of_day</th>\n",
       "      <th>Size</th>\n",
       "      <th>Fragile</th>\n",
       "      <th>Compensation</th>\n",
       "      <th>choice</th>\n",
       "    </tr>\n",
       "  </thead>\n",
       "  <tbody>\n",
       "    <tr>\n",
       "      <th>0</th>\n",
       "      <td>1</td>\n",
       "      <td>30.951510</td>\n",
       "      <td>2</td>\n",
       "      <td>0.161859</td>\n",
       "      <td>0</td>\n",
       "      <td>7.240899</td>\n",
       "      <td>1</td>\n",
       "    </tr>\n",
       "    <tr>\n",
       "      <th>1</th>\n",
       "      <td>2</td>\n",
       "      <td>23.530198</td>\n",
       "      <td>3</td>\n",
       "      <td>0.250437</td>\n",
       "      <td>0</td>\n",
       "      <td>8.805259</td>\n",
       "      <td>1</td>\n",
       "    </tr>\n",
       "    <tr>\n",
       "      <th>2</th>\n",
       "      <td>3</td>\n",
       "      <td>38.612719</td>\n",
       "      <td>1</td>\n",
       "      <td>0.331218</td>\n",
       "      <td>0</td>\n",
       "      <td>10.101263</td>\n",
       "      <td>0</td>\n",
       "    </tr>\n",
       "    <tr>\n",
       "      <th>3</th>\n",
       "      <td>4</td>\n",
       "      <td>18.714333</td>\n",
       "      <td>2</td>\n",
       "      <td>0.426646</td>\n",
       "      <td>0</td>\n",
       "      <td>11.268851</td>\n",
       "      <td>0</td>\n",
       "    </tr>\n",
       "    <tr>\n",
       "      <th>4</th>\n",
       "      <td>5</td>\n",
       "      <td>34.559455</td>\n",
       "      <td>3</td>\n",
       "      <td>0.055788</td>\n",
       "      <td>1</td>\n",
       "      <td>12.380939</td>\n",
       "      <td>0</td>\n",
       "    </tr>\n",
       "    <tr>\n",
       "      <th>...</th>\n",
       "      <td>...</td>\n",
       "      <td>...</td>\n",
       "      <td>...</td>\n",
       "      <td>...</td>\n",
       "      <td>...</td>\n",
       "      <td>...</td>\n",
       "      <td>...</td>\n",
       "    </tr>\n",
       "    <tr>\n",
       "      <th>9995</th>\n",
       "      <td>9996</td>\n",
       "      <td>21.443871</td>\n",
       "      <td>2</td>\n",
       "      <td>0.249866</td>\n",
       "      <td>0</td>\n",
       "      <td>16.769894</td>\n",
       "      <td>1</td>\n",
       "    </tr>\n",
       "    <tr>\n",
       "      <th>9996</th>\n",
       "      <td>9997</td>\n",
       "      <td>36.608476</td>\n",
       "      <td>3</td>\n",
       "      <td>0.330630</td>\n",
       "      <td>0</td>\n",
       "      <td>18.550652</td>\n",
       "      <td>1</td>\n",
       "    </tr>\n",
       "    <tr>\n",
       "      <th>9997</th>\n",
       "      <td>9998</td>\n",
       "      <td>29.285178</td>\n",
       "      <td>4</td>\n",
       "      <td>0.425832</td>\n",
       "      <td>0</td>\n",
       "      <td>21.583600</td>\n",
       "      <td>0</td>\n",
       "    </tr>\n",
       "    <tr>\n",
       "      <th>9998</th>\n",
       "      <td>9999</td>\n",
       "      <td>48.568536</td>\n",
       "      <td>1</td>\n",
       "      <td>0.689021</td>\n",
       "      <td>0</td>\n",
       "      <td>6.641191</td>\n",
       "      <td>1</td>\n",
       "    </tr>\n",
       "    <tr>\n",
       "      <th>9999</th>\n",
       "      <td>10000</td>\n",
       "      <td>13.411992</td>\n",
       "      <td>2</td>\n",
       "      <td>0.010719</td>\n",
       "      <td>0</td>\n",
       "      <td>8.348624</td>\n",
       "      <td>1</td>\n",
       "    </tr>\n",
       "  </tbody>\n",
       "</table>\n",
       "<p>10000 rows × 7 columns</p>\n",
       "</div>"
      ],
      "text/plain": [
       "         ID  trip_duration  time_of_day      Size  Fragile  Compensation  \\\n",
       "0         1      30.951510            2  0.161859        0      7.240899   \n",
       "1         2      23.530198            3  0.250437        0      8.805259   \n",
       "2         3      38.612719            1  0.331218        0     10.101263   \n",
       "3         4      18.714333            2  0.426646        0     11.268851   \n",
       "4         5      34.559455            3  0.055788        1     12.380939   \n",
       "...     ...            ...          ...       ...      ...           ...   \n",
       "9995   9996      21.443871            2  0.249866        0     16.769894   \n",
       "9996   9997      36.608476            3  0.330630        0     18.550652   \n",
       "9997   9998      29.285178            4  0.425832        0     21.583600   \n",
       "9998   9999      48.568536            1  0.689021        0      6.641191   \n",
       "9999  10000      13.411992            2  0.010719        0      8.348624   \n",
       "\n",
       "      choice  \n",
       "0          1  \n",
       "1          1  \n",
       "2          0  \n",
       "3          0  \n",
       "4          0  \n",
       "...      ...  \n",
       "9995       1  \n",
       "9996       1  \n",
       "9997       0  \n",
       "9998       1  \n",
       "9999       1  \n",
       "\n",
       "[10000 rows x 7 columns]"
      ]
     },
     "execution_count": 6,
     "metadata": {},
     "output_type": "execute_result"
    }
   ],
   "source": [
    "# Type \"data\" in this field (without the quotation) and run the cell (Shift + return)\n",
    "data"
   ]
  },
  {
   "cell_type": "markdown",
   "id": "3bcff136",
   "metadata": {},
   "source": [
    "## Print the variable names (columns)\n",
    "\n",
    "We can also print the variable names only using the piece of code below\n",
    "\n",
    "* This is useful during model specification to easily access the column names"
   ]
  },
  {
   "cell_type": "code",
   "execution_count": 7,
   "id": "0e385d0d",
   "metadata": {},
   "outputs": [
    {
     "name": "stdout",
     "output_type": "stream",
     "text": [
      "Index(['ID', 'trip_duration', 'time_of_day', 'Size', 'Fragile', 'Compensation',\n",
      "       'choice'],\n",
      "      dtype='object')\n"
     ]
    }
   ],
   "source": [
    "print(data.columns)"
   ]
  },
  {
   "cell_type": "markdown",
   "id": "a32bad5f",
   "metadata": {},
   "source": [
    "## Variable definition\n",
    "\n",
    "We need to define the variables (as numpy arrays) that we will use in our model.\n",
    "\n",
    "* The arrays can have any name but it is more convenient to use the same name as in the data set.\n",
    "* The *\".reshape(-1, 1)\"* is not necessary now but it is required if we include mixing (random effects) in our model.\n",
    "    * Reshape allows to multiply arrays of different dimensions.\n",
    "\n",
    "##### Define explanatory (independent) variables"
   ]
  },
  {
   "cell_type": "code",
   "execution_count": 8,
   "id": "353b6435",
   "metadata": {},
   "outputs": [],
   "source": [
    "# Example: variable_name = np.array(data['variable_name']).reshape(-1, 1)\n",
    "\n",
    "choice = np.array(data['choice']).reshape(-1, 1)\n",
    "trip_duration = np.array(data['trip_duration']).reshape(-1, 1)\n",
    "time_of_day = np.array(data['time_of_day']).reshape(-1, 1)\n",
    "size = np.array(data['Size']).reshape(-1, 1)\n",
    "fragile = np.array(data['Fragile']).reshape(-1, 1)\n",
    "compensation = np.array(data['Compensation']).reshape(-1, 1)\n"
   ]
  },
  {
   "cell_type": "markdown",
   "id": "f429eb25",
   "metadata": {},
   "source": [
    "## Add new variables\n",
    "\n",
    "What if I want to add headway time for all alternatives?"
   ]
  },
  {
   "cell_type": "markdown",
   "id": "463f5c8a",
   "metadata": {},
   "source": [
    "##### Define the ID variable"
   ]
  },
  {
   "cell_type": "code",
   "execution_count": 9,
   "id": "e31e65c5",
   "metadata": {},
   "outputs": [],
   "source": [
    "# Example: ID = np.array(data['ID']) # ID does not need to be reshaped\n",
    "\n",
    "ID = np.array(data['ID']) # ID does not need to be reshaped"
   ]
  },
  {
   "cell_type": "markdown",
   "id": "21fd30ab",
   "metadata": {},
   "source": [
    "##### Delete the data frame\n",
    "*We may want to delete the data frame to preserve some RAM (suggested for very large data sets)*"
   ]
  },
  {
   "cell_type": "code",
   "execution_count": 10,
   "id": "8a78ecfd",
   "metadata": {},
   "outputs": [],
   "source": [
    "# Activate to delete the data frame.\n",
    "# del[data]"
   ]
  },
  {
   "cell_type": "markdown",
   "id": "d58da27f",
   "metadata": {},
   "source": [
    "## Model specification\n",
    "\n",
    "We now need to create a function that includes our model.\n",
    "\n",
    "* Python functions are defined as: def *function_name*(parameters):\n",
    "* We end a function as: return *value_to_return*\n",
    "\n",
    "In the current implementation we specify two different functions as:\n",
    "* *function 1* calculates the log likelihood per observations\n",
    "* *function 2* calculates the sum of log likelihood taking as input the result from *function 1*\n",
    "\n",
    "*We define two different functions to be more flexible in the post estimation processing later in the code*\n",
    "\n",
    "We use some python (numpy) functions such '*exp*' or '*log*'. To execute these in the current example, we need to also call numpy; hence, we have *np.exp()* and *np.log()*."
   ]
  },
  {
   "cell_type": "markdown",
   "id": "27e2f8a5",
   "metadata": {},
   "source": [
    "### Define parameters and starting values\n",
    "\n",
    "Ultimately, we want to estimate the value of some parameters that maximise the likelihood of our observations of the dependent variable.\n",
    "\n",
    "Before starting the estimation process, we need to define some starting values for the parameters to be estimated. The typecal starting value is zero."
   ]
  },
  {
   "cell_type": "code",
   "execution_count": 35,
   "id": "1b60de33",
   "metadata": {},
   "outputs": [],
   "source": [
    "betas_start = {\"asc\": 0, \"beta_dur\": 0, \"beta_time\": 0, \"beta_frag\": 0, \"beta_size\": 0,\n",
    "              \"beta_compen\": 0}"
   ]
  },
  {
   "cell_type": "markdown",
   "id": "edeb4818",
   "metadata": {},
   "source": [
    "### Load old parameter estimates results\n",
    "\n",
    "Sometimes, we want to use results from old models as starting values.\n",
    "* To do that, we will load the iteration file from a previous estimation\n",
    "* Please note that only values of parameters with same names with our current model will be copied"
   ]
  },
  {
   "cell_type": "code",
   "execution_count": 36,
   "id": "b5641c64",
   "metadata": {},
   "outputs": [],
   "source": [
    "# ### Activate this cell to load old results ###\n",
    "\n",
    "# # Open old iteration file\n",
    "# betas_old = pd.read_csv('model_name_iterations.csv') # file with old model iterations (edit accordingly)\n",
    "\n",
    "# # Keep last row\n",
    "# betas_old = betas_old.tail(1)\n",
    "\n",
    "# # Convert to dictionary\n",
    "# betas_old = betas_old.to_dict(orient='records')[0]\n",
    "\n",
    "# # Copy values from old to start for keys that are common to both dictionaries\n",
    "# betas_start = {k: betas_old[k] for k in betas_start.keys() & betas_old.keys()}\n",
    "\n",
    "# # Delete old estimates\n",
    "# del[betas_old]"
   ]
  },
  {
   "cell_type": "markdown",
   "id": "6aca7ff2",
   "metadata": {},
   "source": [
    "### Function 1: log likelihood (LL)\n",
    "This function calculates the log likelihood per observation"
   ]
  },
  {
   "cell_type": "code",
   "execution_count": 37,
   "id": "764b666c",
   "metadata": {},
   "outputs": [],
   "source": [
    "def LL(betas): # betas is a vector with the parameters we want to estimate\n",
    "   \n",
    "    # First let's define the parameters to be estimated.\n",
    "    # The parameter names are imported directly from 'beta_start' that we defined earlier\n",
    "    \n",
    "    for pn in range(len(betas_start.values())):\n",
    "        globals()[np.array(list(betas_start.keys()))[pn]] = betas[pn]\n",
    "        \n",
    "    # Then we need to define the main model specification\n",
    "    \n",
    "    # We need to start by defining the utility functions\n",
    "    # Please make sure that you are using the same names for the parameters as those defined in 'betas_start'\n",
    "    \n",
    "    U_yes = asc + beta_dur * trip_duration + beta_time * time_of_day + beta_size * size + beta_compen * compensation + beta_frag * fragile\n",
    "    U_no = 0\n",
    "\n",
    "    \n",
    "    #######################################################################################\n",
    "    #######################################################################################\n",
    "    \n",
    "    # TASK ALERT #1!! How about adding the headway in the utility function?? #\n",
    "\n",
    "    # TASK ALERT #2!! How about adding alternative specific parameters per travel mode?? #\n",
    "\n",
    "    #######################################################################################\n",
    "    #######################################################################################\n",
    "    \n",
    "    # And we need to take the exponents of utilities as\n",
    "    U_yes = np.exp(U_yes)\n",
    "    U_no = np.exp(U_no)\n",
    "\n",
    "\n",
    "    \n",
    "    # We need the sum of all utilities to calculate our choice probabilities\n",
    "    U_sum = U_yes + U_no\n",
    "    \n",
    "    # And then we need to calculate our chouce probabilities\n",
    "    P_yes = U_yes / U_sum\n",
    "    P_no = U_no / U_sum\n",
    "\n",
    "    \n",
    "    # The total probability is then:\n",
    "    P = P_yes * (choice==1) + P_no * (choice==0) \n",
    "    \n",
    "    ############################################################################################################\n",
    "    ############################################################################################################\n",
    "    # - Now this below is relevant if we have panel data and apply mixing (Do not change this piece of code!) -#\n",
    "    if panel == 1:\n",
    "    # Do it as panel\n",
    "        P = pd.DataFrame(P)\n",
    "        P = pd.concat([pd.Series(ID), pd.DataFrame(P)], axis=1, ignore_index=True)\n",
    "        P.rename(columns={P.columns[0]: 'ID'},inplace=True)\n",
    "    \n",
    "        # We take the product of probabilities per individual per draw and then delete the ID column\n",
    "        P = P.groupby('ID', as_index=False).prod()\n",
    "        P = P.drop('ID', axis=1)\n",
    "   \n",
    "    if mixing == 1:\n",
    "        # We take the average per row to get the average probability per individual (if mixing == 1)\n",
    "        \n",
    "        if panel == 1:\n",
    "            P['mean'] = P.mean(axis=1)\n",
    "            P = np.array(P['mean'])\n",
    "        \n",
    "        if panel == 0:\n",
    "            P = pd.DataFrame(P)\n",
    "            P = pd.concat([pd.Series(ID), pd.DataFrame(P)], axis=1, ignore_index=True)\n",
    "            P.rename(columns={P.columns[0]: 'ID'},inplace=True)\n",
    "    \n",
    "            # We take the product of probabilities per individual per draw and then delete the ID column\n",
    "            P = P.groupby('ID', as_index=False).prod()\n",
    "            P = P.drop('ID', axis=1)\n",
    "            P['mean'] = P.mean(axis=1)\n",
    "            P = np.array(P['mean'])\n",
    "            \n",
    "    P = np.array(P)\n",
    "    ### --- This is where the panel data approach ends. --- ###\n",
    "    ############################################################################################################\n",
    "    ############################################################################################################\n",
    "    \n",
    "    # We then take the log of the density function\n",
    "    logprob = np.log(P)\n",
    "    \n",
    "    return logprob"
   ]
  },
  {
   "cell_type": "markdown",
   "id": "93dc1dcd",
   "metadata": {},
   "source": [
    "### Function 2: sum of log likelihood (SLL)\n",
    "This function simply takes the sum of log likelihood that we calculated with the first function"
   ]
  },
  {
   "cell_type": "code",
   "execution_count": 38,
   "id": "e74b0250",
   "metadata": {},
   "outputs": [],
   "source": [
    "def SLL(betas):\n",
    "    return -sum(LL(betas))"
   ]
  },
  {
   "cell_type": "markdown",
   "id": "82189c90",
   "metadata": {},
   "source": [
    "## Model estimation"
   ]
  },
  {
   "cell_type": "markdown",
   "id": "06dfe8f9",
   "metadata": {},
   "source": [
    "### Warnings\n",
    "\n",
    "Sometimes, optimisation procedures may 'overdo' it with warnings during estimation.\n",
    "We can supress these with the piece of code below (not always advisable)"
   ]
  },
  {
   "cell_type": "code",
   "execution_count": 39,
   "id": "2a142356",
   "metadata": {},
   "outputs": [],
   "source": [
    "import warnings\n",
    "warnings.filterwarnings(\"ignore\")"
   ]
  },
  {
   "cell_type": "markdown",
   "id": "1c84cc3d",
   "metadata": {},
   "source": [
    "### Estimation\n",
    "\n",
    "Now it is finally time to run our estimation command.\n",
    "We use an optimisation algorith called 'BFGS'.\n",
    "\n",
    "**Do not to edit the lines of code below (except optimisation routine if needed).**"
   ]
  },
  {
   "cell_type": "code",
   "execution_count": 40,
   "id": "3f5ae316",
   "metadata": {},
   "outputs": [
    {
     "name": "stdout",
     "output_type": "stream",
     "text": [
      "Initial log likelihood: [-6931.4718056]\n",
      "Current log likelihood: [-6712.88362878]\n",
      "Current log likelihood: [-6711.00428678]\n",
      "Current log likelihood: [-6693.84522733]\n",
      "Current log likelihood: [-6681.37247202]\n",
      "Current log likelihood: [-6670.15172559]\n",
      "Current log likelihood: [-6667.87018597]\n",
      "Current log likelihood: [-6666.04937523]\n",
      "Current log likelihood: [-6659.6003103]\n",
      "Current log likelihood: [-6646.40582791]\n",
      "Current log likelihood: [-6617.85153512]\n",
      "Current log likelihood: [-6576.94739755]\n",
      "Current log likelihood: [-6567.96827651]\n",
      "Current log likelihood: [-6532.04674645]\n",
      "Current log likelihood: [-6519.65287566]\n",
      "Current log likelihood: [-6516.5626133]\n",
      "Current log likelihood: [-6514.22918187]\n",
      "Current log likelihood: [-6507.53810854]\n",
      "Current log likelihood: [-6492.6558638]\n",
      "Current log likelihood: [-6462.23720958]\n",
      "Current log likelihood: [-6425.5847937]\n",
      "Current log likelihood: [-6419.90669773]\n",
      "Current log likelihood: [-6405.05127496]\n",
      "Current log likelihood: [-6402.48308944]\n",
      "Current log likelihood: [-6402.33363339]\n",
      "Current log likelihood: [-6402.32445369]\n",
      "Current log likelihood: [-6402.29061399]\n",
      "Current log likelihood: [-6402.04539562]\n",
      "Current log likelihood: [-6401.59610825]\n",
      "Current log likelihood: [-6400.30587486]\n",
      "Current log likelihood: [-6397.50688619]\n",
      "Current log likelihood: [-6392.10147913]\n",
      "Current log likelihood: [-6385.58727392]\n",
      "Current log likelihood: [-6385.2090124]\n",
      "Current log likelihood: [-6381.52475643]\n",
      "Current log likelihood: [-6380.78786991]\n",
      "Current log likelihood: [-6380.71607207]\n",
      "Current log likelihood: [-6380.69515655]\n",
      "Current log likelihood: [-6380.66727856]\n",
      "Current log likelihood: [-6380.65613278]\n",
      "Current log likelihood: [-6380.58334453]\n",
      "Current log likelihood: [-6380.4413816]\n",
      "Current log likelihood: [-6380.06559236]\n",
      "Current log likelihood: [-6379.3252397]\n",
      "Current log likelihood: [-6378.2084857]\n",
      "Current log likelihood: [-6378.20467633]\n",
      "Current log likelihood: [-6377.33823025]\n",
      "Current log likelihood: [-6377.07269052]\n",
      "Current log likelihood: [-6377.06136377]\n",
      "Current log likelihood: [-6377.03956757]\n",
      "Current log likelihood: [-6377.03867878]\n",
      "Current log likelihood: [-6377.03856875]\n",
      "Current log likelihood: [-6377.03854255]\n",
      "Current log likelihood: [-6377.03854121]\n",
      "Final log likelihood: -6377.038541206292\n"
     ]
    }
   ],
   "source": [
    "# This will give us the initial loglikelihood value as an output\n",
    "def callback1(betas):\n",
    "    print(\"Current log likelihood:\", -SLL(betas))\n",
    "\n",
    "# This function will allow as to store parameter estimates during iterations\n",
    "# Initialise list to store parameter values\n",
    "parameter_values = [np.array(list(betas_start.values()))]\n",
    "# Then define the function\n",
    "def callback2(betas):    \n",
    "    parameter_values.append(betas)\n",
    "    column_names = list(betas_start.keys())\n",
    "    with open(f'{model_name}_iterations.csv','w',newline='') as csvfile:\n",
    "        writer = csv.writer(csvfile)\n",
    "        writer.writerow(column_names)\n",
    "        writer.writerows(parameter_values)\n",
    "\n",
    "# Now let's combine the two callback functions\n",
    "def combined_callback(betas):\n",
    "    callback1(betas)\n",
    "    callback2(betas)\n",
    "        \n",
    "print(\"Initial log likelihood:\", -SLL(np.array(list(betas_start.values()))))\n",
    "\n",
    "# Choose optimisation routine (preferably BFGS)\n",
    "optimiser = 'L-BFGS-B' # BFGS or L-BFGS-B or nelder-mead\n",
    "\n",
    "result = minimize(SLL, np.array(list(betas_start.values())), method=optimiser,callback=combined_callback, \n",
    "                  options={'disp':False}) # ,bounds=bounds1\n",
    "#args = (parameter_values,)\n",
    "print(\"Final log likelihood:\", -result.fun)"
   ]
  },
  {
   "cell_type": "markdown",
   "id": "ae4f05d5",
   "metadata": {},
   "source": [
    "## Post estimation processing\n",
    "\n",
    "We evaluate our parameter estimates using t-ratios (or p-Values).\n",
    "\n",
    "In maximum likelihood estimation, we extract these from the variance-covariance matrix of the parameters.\n",
    "\n",
    "The variance covariance matrix is not readily available but we need to calculate it.\n",
    "\n",
    "This is done with the code below.\n",
    "\n",
    "**DO NOT EDIT THE CHUNK OF CODE BELOW!**"
   ]
  },
  {
   "cell_type": "code",
   "execution_count": 41,
   "id": "bd351453",
   "metadata": {},
   "outputs": [
    {
     "name": "stdout",
     "output_type": "stream",
     "text": [
      "Calculating Hessian, please wait (this may take a while...)\n",
      "... Done!!\n"
     ]
    }
   ],
   "source": [
    "# Vector of parameter estimates\n",
    "parameters = result['x'] \n",
    "\n",
    "# Calculate hessian\n",
    "print(\"Calculating Hessian, please wait (this may take a while...)\")\n",
    "Hess = nd.Hessian(SLL, method = 'forward')\n",
    "hessian = Hess(parameters)\n",
    "inv_hessian = np.linalg.inv(hessian)\n",
    "\n",
    "# Parameter statistics\n",
    "dof = Nobs - len(betas_start) - 1\n",
    "se = np.sqrt(np.diag(inv_hessian)) # Standard errors\n",
    "tratio = parameters/se # t-ratios\n",
    "p_value = (1-t.cdf(np.abs(tratio),dof)) * 2 # p-values\n",
    "\n",
    "\n",
    "# --- Sandwich estimator --- #\n",
    "\n",
    "# The sandwich estimator provides the \"robust\" s.e., t-ratios and p-values.\n",
    "# These should be preferred over the classical parameter statistics.\n",
    "\n",
    "# We first need the gradients at the solution point\n",
    "Grad = nd.Gradient(LL, method = 'forward')\n",
    "gradient = Grad(parameters)\n",
    "\n",
    "# Then we need to calculate the B matrix\n",
    "B = np.array([])\n",
    "for r in range(gradient.shape[0]):\n",
    "    Bm = np.zeros([len(betas_start),len(betas_start)])\n",
    "    gradient0 = gradient[r,:]\n",
    "    for i in range(len(gradient0)):\n",
    "            for j in range(len(gradient0)):\n",
    "                element = gradient0[i]*gradient0[j]\n",
    "                Bm[i][j] = element\n",
    "    if B.size==0:\n",
    "                    B = Bm\n",
    "    else:\n",
    "                    B = B+Bm\n",
    "\n",
    "# Finally we \"sandwich\" the B matrix between the inverese hessian matrices\n",
    "BHHH = (inv_hessian)@(B)@(inv_hessian)\n",
    "\n",
    "print(\"... Done!!\")\n",
    "\n",
    "# Now it is time to calculate some \"robust\" parameter statistics\n",
    "rob_se = np.sqrt(np.diag(BHHH)) # robust standard error\n",
    "rob_tratio = parameters/rob_se # robust t-ratio\n",
    "rob_p_value = (1-t.cdf(np.abs(rob_tratio),dof)) * 2 # robust p-value"
   ]
  },
  {
   "cell_type": "markdown",
   "id": "12586d23",
   "metadata": {},
   "source": [
    "## Results\n",
    "Finally, we got our results. Let's print them!\n",
    "\n",
    "The outputs that we receive are:\n",
    "* Estimates: These are the values of our parameters. We must check if the sign is consistent with our expectations\n",
    "* s.e.: Standard errors of the parameters\n",
    "* tratio: t-ratio of the parameters (significant if absolute value > 1.96)\n",
    "* p_value: p-value of the parameters (significant if < 0.05)\n",
    "\n",
    "The parameter statistics also have their **robust** versions. These should be preferred as they are less susceptible to weakly specified models."
   ]
  },
  {
   "cell_type": "code",
   "execution_count": 43,
   "id": "38e411cc",
   "metadata": {
    "scrolled": true
   },
   "outputs": [
    {
     "data": {
      "text/html": [
       "<div>\n",
       "<style scoped>\n",
       "    .dataframe tbody tr th:only-of-type {\n",
       "        vertical-align: middle;\n",
       "    }\n",
       "\n",
       "    .dataframe tbody tr th {\n",
       "        vertical-align: top;\n",
       "    }\n",
       "\n",
       "    .dataframe thead th {\n",
       "        text-align: right;\n",
       "    }\n",
       "</style>\n",
       "<table border=\"1\" class=\"dataframe\">\n",
       "  <thead>\n",
       "    <tr style=\"text-align: right;\">\n",
       "      <th></th>\n",
       "      <th>Parameter</th>\n",
       "      <th>Estimate</th>\n",
       "      <th>s.e.</th>\n",
       "      <th>t-ratio0</th>\n",
       "      <th>p-value</th>\n",
       "      <th>Rob s.e.</th>\n",
       "      <th>Rob t-ratio0</th>\n",
       "      <th>Rob p-value</th>\n",
       "    </tr>\n",
       "  </thead>\n",
       "  <tbody>\n",
       "    <tr>\n",
       "      <th>0</th>\n",
       "      <td>asc</td>\n",
       "      <td>0.187</td>\n",
       "      <td>0.116</td>\n",
       "      <td>1.609</td>\n",
       "      <td>0.108</td>\n",
       "      <td>0.117</td>\n",
       "      <td>1.594</td>\n",
       "      <td>0.111</td>\n",
       "    </tr>\n",
       "    <tr>\n",
       "      <th>1</th>\n",
       "      <td>beta_dur</td>\n",
       "      <td>-0.004</td>\n",
       "      <td>0.002</td>\n",
       "      <td>-1.739</td>\n",
       "      <td>0.082</td>\n",
       "      <td>0.002</td>\n",
       "      <td>-1.739</td>\n",
       "      <td>0.082</td>\n",
       "    </tr>\n",
       "    <tr>\n",
       "      <th>2</th>\n",
       "      <td>beta_time</td>\n",
       "      <td>-0.238</td>\n",
       "      <td>0.022</td>\n",
       "      <td>-10.691</td>\n",
       "      <td>0.000</td>\n",
       "      <td>0.023</td>\n",
       "      <td>-10.225</td>\n",
       "      <td>0.000</td>\n",
       "    </tr>\n",
       "    <tr>\n",
       "      <th>3</th>\n",
       "      <td>beta_frag</td>\n",
       "      <td>0.950</td>\n",
       "      <td>0.047</td>\n",
       "      <td>20.108</td>\n",
       "      <td>0.000</td>\n",
       "      <td>0.047</td>\n",
       "      <td>20.115</td>\n",
       "      <td>0.000</td>\n",
       "    </tr>\n",
       "    <tr>\n",
       "      <th>4</th>\n",
       "      <td>beta_size</td>\n",
       "      <td>1.097</td>\n",
       "      <td>0.145</td>\n",
       "      <td>7.568</td>\n",
       "      <td>0.000</td>\n",
       "      <td>0.145</td>\n",
       "      <td>7.580</td>\n",
       "      <td>0.000</td>\n",
       "    </tr>\n",
       "    <tr>\n",
       "      <th>5</th>\n",
       "      <td>beta_compen</td>\n",
       "      <td>0.027</td>\n",
       "      <td>0.005</td>\n",
       "      <td>5.519</td>\n",
       "      <td>0.000</td>\n",
       "      <td>0.005</td>\n",
       "      <td>5.520</td>\n",
       "      <td>0.000</td>\n",
       "    </tr>\n",
       "  </tbody>\n",
       "</table>\n",
       "</div>"
      ],
      "text/plain": [
       "     Parameter  Estimate   s.e.  t-ratio0  p-value  Rob s.e.  Rob t-ratio0  \\\n",
       "0          asc     0.187  0.116     1.609    0.108     0.117         1.594   \n",
       "1     beta_dur    -0.004  0.002    -1.739    0.082     0.002        -1.739   \n",
       "2    beta_time    -0.238  0.022   -10.691    0.000     0.023       -10.225   \n",
       "3    beta_frag     0.950  0.047    20.108    0.000     0.047        20.115   \n",
       "4    beta_size     1.097  0.145     7.568    0.000     0.145         7.580   \n",
       "5  beta_compen     0.027  0.005     5.519    0.000     0.005         5.520   \n",
       "\n",
       "   Rob p-value  \n",
       "0        0.111  \n",
       "1        0.082  \n",
       "2        0.000  \n",
       "3        0.000  \n",
       "4        0.000  \n",
       "5        0.000  "
      ]
     },
     "execution_count": 43,
     "metadata": {},
     "output_type": "execute_result"
    }
   ],
   "source": [
    "arrays = np.column_stack((np.array(list(betas_start.keys())),parameters,se,tratio,p_value,rob_se,rob_tratio,rob_p_value))\n",
    "results = pd.DataFrame(arrays, columns = ['Parameter','Estimate','s.e.','t-ratio0','p-value',\n",
    "                                          'Rob s.e.','Rob t-ratio0','Rob p-value'])\n",
    "\n",
    "results[['Estimate','s.e.','t-ratio0','p-value','Rob s.e.','Rob t-ratio0','Rob p-value']] = (\n",
    "results[['Estimate','s.e.','t-ratio0','p-value','Rob s.e.','Rob t-ratio0','Rob p-value']].apply(pd.to_numeric, errors='coerce'))\n",
    "numeric_cols = results.select_dtypes(include='number').columns\n",
    "results[numeric_cols] = results[numeric_cols].round(3)\n",
    "results # print results"
   ]
  },
  {
   "cell_type": "markdown",
   "id": "679899b5",
   "metadata": {},
   "source": [
    "## Goodness-of-fit indices\n",
    "\n",
    "Let's calculate some goodness-of-fit indices now (do not edit)"
   ]
  },
  {
   "cell_type": "code",
   "execution_count": 44,
   "id": "6aeca001",
   "metadata": {},
   "outputs": [
    {
     "name": "stdout",
     "output_type": "stream",
     "text": [
      "Log likelihood at zeros:[-6931.4718056]\n",
      "Initial log likelihood:[-6931.4718056]\n",
      "Final log likelihood:-6377.038541206292\n",
      "rho squared=[0.07998781]\n",
      "adjusted rho squared=[0.0791222]\n",
      "AIC=12766.077082412585\n",
      "BIC=12809.339124644443\n"
     ]
    }
   ],
   "source": [
    "# First let's calculate the GoF indices\n",
    "\n",
    "rho_squared = 1 - ((-result.fun)/(-SLL(np.zeros(len(betas_start)))))\n",
    "adj_rho_squared = 1 - (((-result.fun)-len(betas_start))/(-SLL(np.zeros(len(betas_start)))))\n",
    "\n",
    "AIC = 2*len(betas_start) - 2*(-result.fun)\n",
    "BIC = len(betas_start)*np.log(Nobs) - 2*(-result.fun)\n",
    "\n",
    "LL0t = \"Log likelihood at zeros:\" + str(-SLL(np.zeros(len(betas_start))))\n",
    "LLinit = \"Initial log likelihood:\" + str(-SLL(np.array(list(betas_start.values()))))\n",
    "LLfin = \"Final log likelihood:\" + str(-result.fun)\n",
    "\n",
    "rs1 = \"rho squared=\"+str(rho_squared)\n",
    "rs2 = \"adjusted rho squared=\"+str(adj_rho_squared)\n",
    "ac = \"AIC=\"+str(AIC)\n",
    "bc = \"BIC=\"+str(BIC)\n",
    "\n",
    "# Then let's print the GoF indices\n",
    "\n",
    "print(LL0t)\n",
    "print(LLinit)\n",
    "print(LLfin)\n",
    "\n",
    "print(rs1)\n",
    "print(rs2)\n",
    "print(ac)\n",
    "print(bc)"
   ]
  },
  {
   "cell_type": "markdown",
   "id": "a342cae7",
   "metadata": {},
   "source": [
    "## Save output\n",
    "\n",
    "We can save our output using the code below (do not edit):"
   ]
  },
  {
   "cell_type": "code",
   "execution_count": 45,
   "id": "65b37d2f",
   "metadata": {},
   "outputs": [],
   "source": [
    "with open(f\"{model_name}_results.txt\", 'w') as f:\n",
    "    f.write(f'{LL0t}\\n')\n",
    "    f.write(f'{LLinit}\\n')\n",
    "    f.write(f'{LLfin}\\n')\n",
    "    f.write(f'{rs1}\\n')\n",
    "    f.write(f'{rs2}\\n')\n",
    "    f.write(f'{ac}\\n')\n",
    "    f.write(f'{bc}\\n')\n",
    "    results.to_csv(f, index=False, sep='\\t')\n",
    "results.to_csv(f'{model_name}_results.csv', index=False)"
   ]
  },
  {
   "cell_type": "code",
   "execution_count": null,
   "id": "15beb447-9ecd-4659-ae4d-adbbe433efd2",
   "metadata": {},
   "outputs": [],
   "source": []
  }
 ],
 "metadata": {
  "kernelspec": {
   "display_name": "Python 3 (ipykernel)",
   "language": "python",
   "name": "python3"
  },
  "language_info": {
   "codemirror_mode": {
    "name": "ipython",
    "version": 3
   },
   "file_extension": ".py",
   "mimetype": "text/x-python",
   "name": "python",
   "nbconvert_exporter": "python",
   "pygments_lexer": "ipython3",
   "version": "3.8.19"
  }
 },
 "nbformat": 4,
 "nbformat_minor": 5
}
