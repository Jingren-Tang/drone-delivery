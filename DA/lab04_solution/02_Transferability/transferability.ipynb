{
 "cells": [
  {
   "cell_type": "markdown",
   "id": "8732bbae",
   "metadata": {},
   "source": [
    "# Transferability tests (t-test for individual parameter equivalence)\n",
    "\n",
    "This notebook was written by Evangelos Paschalidis (evangelos.paschalidis@epfl.ch) for the Decision-aid methodologies in transportation course at EPFL (http://edu.epfl.ch/coursebook/en/decision-aid-methodologies-in-transportation-CIVIL-557). \n",
    "\n",
    "Please contact before distributing or reusing the material below.\n",
    "\n",
    "## Overview\n",
    "\n",
    "This notebook covers the t-test for individual parameter equivalence transferability test."
   ]
  },
  {
   "cell_type": "markdown",
   "id": "2fa01775",
   "metadata": {},
   "source": [
    "## Load packages\n",
    "\n",
    "As usually, let's load some packages that we are going to need. When importing a package, it is common to rename it using an abbreviation."
   ]
  },
  {
   "cell_type": "code",
   "execution_count": 2,
   "id": "5211b4ce",
   "metadata": {},
   "outputs": [],
   "source": [
    "import pandas as pd # Usual suspect #1\n",
    "import numpy as np # Usual suspect #2\n",
    "import matplotlib.pyplot as plt # Package that will help us plot\n",
    "import seaborn as sns# Package that will help us plot a density function\n",
    "from scipy.stats import qmc # we use this to generate random numbers for simulation\n",
    "from scipy.stats import norm # normal distribution density function"
   ]
  },
  {
   "cell_type": "markdown",
   "id": "0de77860",
   "metadata": {},
   "source": [
    "## Load result data"
   ]
  },
  {
   "cell_type": "markdown",
   "id": "80759f35",
   "metadata": {},
   "source": [
    "### Load parameter estimates of estimation and application context"
   ]
  },
  {
   "cell_type": "code",
   "execution_count": 3,
   "id": "abfb43c6",
   "metadata": {},
   "outputs": [
    {
     "name": "stdout",
     "output_type": "stream",
     "text": [
      "   Parameter  Estimate   s.e.  t-ratio0  p-value  Rob s.e.  Rob t-ratio0  \\\n",
      "0  alpha_acc     2.509  0.269     9.330    0.000     0.353         7.113   \n",
      "1  alpha_dec    -2.458  0.221   -11.145    0.000     0.319        -7.697   \n",
      "2   beta_acc     0.285  0.039     7.320    0.000     0.042         6.779   \n",
      "3   beta_dec     0.101  0.035     2.871    0.004     0.044         2.296   \n",
      "4  gamma_acc     0.765  0.050    15.222    0.000     0.061        12.513   \n",
      "5  gamma_dec     0.698  0.044    15.849    0.000     0.067        10.480   \n",
      "6  lamda_acc     0.962  0.033    29.595    0.000     0.034        28.222   \n",
      "7  lamda_dec     0.920  0.024    37.810    0.000     0.026        34.792   \n",
      "8  sigma_acc    -0.263  0.007   -36.139    0.000     0.012       -21.419   \n",
      "9  sigma_dec    -0.231  0.007   -31.036    0.000     0.013       -17.941   \n",
      "\n",
      "   Rob p-value  \n",
      "0        0.000  \n",
      "1        0.000  \n",
      "2        0.000  \n",
      "3        0.022  \n",
      "4        0.000  \n",
      "5        0.000  \n",
      "6        0.000  \n",
      "7        0.000  \n",
      "8        0.000  \n",
      "9        0.000  \n",
      "   Parameter  Estimate   s.e.  t-ratio0  p-value  Rob s.e.  Rob t-ratio0  \\\n",
      "0  alpha_acc     0.393  0.073     5.381      0.0     0.212         1.851   \n",
      "1  alpha_dec    -4.574  0.367   -12.455      0.0     1.066        -4.290   \n",
      "2   beta_acc     0.057  0.068     0.841      0.4     0.198         0.290   \n",
      "3   beta_dec    -0.288  0.035    -8.317      0.0     0.093        -3.092   \n",
      "4  gamma_acc     0.246  0.047     5.189      0.0     0.101         2.445   \n",
      "5  gamma_dec     0.611  0.025    24.823      0.0     0.082         7.458   \n",
      "6  lamda_acc     0.910  0.034    27.167      0.0     0.076        11.915   \n",
      "7  lamda_dec     0.918  0.021    44.166      0.0     0.056        16.251   \n",
      "8  sigma_acc    -1.169  0.011  -110.912      0.0     0.036       -32.645   \n",
      "9  sigma_dec    -0.968  0.010   -92.773      0.0     0.034       -28.418   \n",
      "\n",
      "   Rob p-value  \n",
      "0        0.064  \n",
      "1        0.000  \n",
      "2        0.772  \n",
      "3        0.002  \n",
      "4        0.014  \n",
      "5        0.000  \n",
      "6        0.000  \n",
      "7        0.000  \n",
      "8        0.000  \n",
      "9        0.000  \n"
     ]
    }
   ],
   "source": [
    "data_est = pd.read_csv(\"car_following_model_lag1_results.csv\")\n",
    "data_app = pd.read_csv(\"car_following_model25_results.csv\")\n",
    "print(data_est)\n",
    "print(data_app)"
   ]
  },
  {
   "cell_type": "markdown",
   "id": "a9b0ff2e-cfbc-4f48-982e-80939b3cb334",
   "metadata": {},
   "source": [
    "#### We compute the t-test of individual parameter equivalence"
   ]
  },
  {
   "cell_type": "code",
   "execution_count": 5,
   "id": "45a6ec0b-c557-468f-bd0a-fa77a0088a1c",
   "metadata": {},
   "outputs": [
    {
     "name": "stdout",
     "output_type": "stream",
     "text": [
      "0     5.138814\n",
      "1     1.901669\n",
      "2     1.126451\n",
      "3     3.780978\n",
      "4     4.398621\n",
      "5     0.821596\n",
      "6     0.624560\n",
      "7     0.032393\n",
      "8    23.875196\n",
      "9    20.246947\n",
      "dtype: float64\n"
     ]
    }
   ],
   "source": [
    "t_test = (data_est['Estimate']-data_app['Estimate'])/np.sqrt(data_est['Rob s.e.']**2+data_app['Rob s.e.']**2)\n",
    "print(t_test)"
   ]
  },
  {
   "cell_type": "markdown",
   "id": "69347e9e-6b70-4ebe-b396-0c6d8bc7eaca",
   "metadata": {},
   "source": [
    "We notice that for some parameters the t-test has a value > 1.96 (it can also be < -1.96). We implement a few techniques to close this gap."
   ]
  },
  {
   "cell_type": "markdown",
   "id": "8098575d-dcda-41eb-94ab-43c6779a52e9",
   "metadata": {},
   "source": [
    "## Bayesian updating\n",
    "\n",
    "We implement Bayesian updating below"
   ]
  },
  {
   "cell_type": "code",
   "execution_count": 6,
   "id": "d17d17c3-ca08-49fd-9cc8-5717e73656c2",
   "metadata": {},
   "outputs": [
    {
     "name": "stdout",
     "output_type": "stream",
     "text": [
      "0    0.953895\n",
      "1   -2.631914\n",
      "2    0.275183\n",
      "3    0.029852\n",
      "4    0.626284\n",
      "5    0.663171\n",
      "6    0.953328\n",
      "7    0.919645\n",
      "8   -0.353600\n",
      "9   -0.325002\n",
      "dtype: float64\n"
     ]
    }
   ],
   "source": [
    "b_upt = ((data_est['Estimate']/(data_est['Rob s.e.']**2))+\n",
    "         (data_app['Estimate']/(data_app['Rob s.e.']**2)))*((\n",
    "             (1/(data_est['Rob s.e.']**2))+\n",
    "                      (1/(data_app['Rob s.e.']**2))\n",
    "             )**(-1))\n",
    "\n",
    "print(b_upt)"
   ]
  },
  {
   "cell_type": "markdown",
   "id": "d842ea6e-bba3-4876-9c9a-16802ddf7d72",
   "metadata": {},
   "source": [
    "## Combined transfer estimation\n",
    "\n",
    "We implement Combined transfer estimation below "
   ]
  },
  {
   "cell_type": "code",
   "execution_count": null,
   "id": "b0276218-0b70-4d23-84cf-5dde2b50a1b7",
   "metadata": {},
   "outputs": [],
   "source": [
    "a1 = data_est['Estimate']-data_app['Estimate']\n",
    "a2 = data_app['Estimate']-data_est['Estimate']\n",
    "\n",
    "b_upt = ((data_est['Estimate']/((data_est['Rob s.e.']**2)+a1*a2))+\n",
    "         (data_app['Estimate']/(data_app['Rob s.e.']**2)))*((\n",
    "             (1/((data_est['Rob s.e.']**2)+a1*a2))+\n",
    "                      (1/(data_app['Rob s.e.']**2))\n",
    "             )**(-1))\n",
    "\n",
    "print (b_upt)"
   ]
  },
  {
   "cell_type": "markdown",
   "id": "d3c39d56-1ac7-4200-abcb-715bb5467ab6",
   "metadata": {},
   "source": [
    "We observe that after Combined transfer estimation the data_est values get closer to the data_app values"
   ]
  }
 ],
 "metadata": {
  "kernelspec": {
   "display_name": "Python 3 (ipykernel)",
   "language": "python",
   "name": "python3"
  },
  "language_info": {
   "codemirror_mode": {
    "name": "ipython",
    "version": 3
   },
   "file_extension": ".py",
   "mimetype": "text/x-python",
   "name": "python",
   "nbconvert_exporter": "python",
   "pygments_lexer": "ipython3",
   "version": "3.11.5"
  }
 },
 "nbformat": 4,
 "nbformat_minor": 5
}
