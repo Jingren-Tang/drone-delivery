{
 "cells": [
  {
   "cell_type": "code",
   "execution_count": 66,
   "id": "3f3ee766",
   "metadata": {},
   "outputs": [],
   "source": [
    "import math\n",
    "import matplotlib.pyplot as plt\n",
    "import numpy as np"
   ]
  },
  {
   "cell_type": "code",
   "execution_count": 84,
   "id": "e4bd20d9",
   "metadata": {},
   "outputs": [],
   "source": [
    "class Label:\n",
    "    parent = None\n",
    "    customer= None\n",
    "    cost = 0.0\n",
    "    # ex 2.1 \n",
    "    time = 0.0\n",
    "    # ex 2.2\n",
    "    load = 0\n",
    "    # ex 3\n",
    "    Ng_set = []\n",
    "    def __init__(self, l = None, node = 0):\n",
    "        self.customer = node\n",
    "        if l:\n",
    "            self.cost = l.cost + distance[(l.customer,node)] - reward[node]\n",
    "            # ex 2.1 \n",
    "            self.time = resource_extension_T(l, node)\n",
    "            # ex 2.2\n",
    "            self.load = resource_Q(l,node)\n",
    "            # ex 3\n",
    "            self.Ng_set = [elem for elem in l.Ng_set if elem in Ng[node]]\n",
    "            self.Ng_set.append(node)\n",
    "        self.parent = l"
   ]
  },
  {
   "cell_type": "code",
   "execution_count": 85,
   "id": "0ce657be",
   "metadata": {},
   "outputs": [],
   "source": [
    "# Resource extension\n",
    "def resource_extension_T(l, node):\n",
    "    \"\"\"Return resorces used so far\"\"\" \n",
    "    # ex 2.1\n",
    "    return max(early[node], l.time + distance[(l.customer,node)])"
   ]
  },
  {
   "cell_type": "code",
   "execution_count": 86,
   "id": "d1363c0e",
   "metadata": {},
   "outputs": [],
   "source": [
    "def resource_Q(l,node):\n",
    "    # ex 2.2\n",
    "    return l.load + demand[node]"
   ]
  },
  {
   "cell_type": "code",
   "execution_count": 87,
   "id": "eedad1ed",
   "metadata": {},
   "outputs": [],
   "source": [
    "def feasible(l, i):\n",
    "    \"\"\"Returns if extending from label l to node i is feasible\"\"\"\n",
    "    #Is it feasible to go to node i from label l?\n",
    "    if l.customer == i:\n",
    "        return False\n",
    "    # ex 2.1 \n",
    "    if distance[(l.customer,i)] +l.time > late[i]:\n",
    "        return False\n",
    "    # ex 2.2\n",
    "    if l.load + demand[i] > Q:\n",
    "        return False\n",
    "    # ex 3\n",
    "    if i in l.Ng_set:\n",
    "        return False\n",
    "    return True\n",
    "    \"We have to check feasible extensions!\""
   ]
  },
  {
   "cell_type": "code",
   "execution_count": 88,
   "id": "63b4fb28",
   "metadata": {},
   "outputs": [],
   "source": [
    "#dominance\n",
    "def dominance(l1,l2):\n",
    "    \"\"\"Retuns true if l1 dominates l2\"\"\"\n",
    "    if l1.cost <= l2.cost:\n",
    "        # ex 2.1 \n",
    "        if l1.time <= l2.time:\n",
    "            # ex 2.2\n",
    "            if l1.load <= l2.load:\n",
    "                # ex 3\n",
    "                a1 = set(l1.Ng_set)\n",
    "                a2 = set(l2.Ng_set)\n",
    "                if a1.issubset(a2): \n",
    "                    return True\n",
    "    return False\n",
    "    \"Check dominace rules \""
   ]
  },
  {
   "cell_type": "code",
   "execution_count": 89,
   "id": "dfc09c03",
   "metadata": {},
   "outputs": [],
   "source": [
    "def labeling_algorithm():\n",
    "    l0 = Label()\n",
    "    M = {(k,i): [] for k in range(n) for i in range(n)}\n",
    "    M[(0,0)].append(l0)\n",
    "    \n",
    "    for k in range(1, n): \n",
    "\n",
    "        ## k is the number of nodes visited\n",
    "        for i in range(n):\n",
    "            \n",
    "            ## i is the current node\n",
    "            for j in range(1,n):\n",
    "                \n",
    "                ## j is the new node to extend to\n",
    "                if j == i: \n",
    "                    # the new node is different than the current node\n",
    "                    continue\n",
    "              \n",
    "                for l in M[(k-1,i)]:\n",
    "                    #print(\"mkij\", k,i,j)\n",
    "                    # l is all the labels stored in this bucket\n",
    "                    if feasible(l,j):\n",
    "                        l2 = Label(l,j) #extend label\n",
    "                        dominated = False\n",
    "                        for l1 in M[(k,j)]:\n",
    "                            if dominance(l1, l2):\n",
    "                                dominated = True\n",
    "                            elif dominance(l2, l1):\n",
    "                                ## if l1 is dominated then we need to delete l1\n",
    "                                M[(k,j)].remove(l1)\n",
    "                            if dominated:\n",
    "                                break\n",
    "                        if not dominated:\n",
    "                            #if l2 is not dominated add to list of labels\n",
    "                            M[(k,j)].append(l2)       \n",
    "    return best_label(M)"
   ]
  },
  {
   "cell_type": "code",
   "execution_count": 90,
   "id": "3ec53d06",
   "metadata": {},
   "outputs": [],
   "source": [
    "def best_label(M={}):\n",
    "    \"\"\"Find the label with the shortest path back to the depot \"\"\"\n",
    "    best_l = Label()\n",
    "    best_cost = 0\n",
    "    for k in range(1,n):\n",
    "        for i in range(1,n):\n",
    "            for l in M[(k,i)]:\n",
    "                a = distance[(l.customer,Start_id)]\n",
    "                b = distance[(best_l.customer,Start_id)]\n",
    "                if l.cost + a < best_l.cost +b:\n",
    "                    best_l = l\n",
    "                    best_cost = l.cost + a\n",
    "    print(\"Solution value: \", best_cost)\n",
    "    return best_l"
   ]
  },
  {
   "cell_type": "code",
   "execution_count": 91,
   "id": "4a0ef54e",
   "metadata": {},
   "outputs": [],
   "source": [
    "\n",
    "def figure(t):\n",
    "    ax = plt.gca()\n",
    "    ax.cla() # clear things for fresh plot\n",
    "\n",
    "    # change default range so that new circles will work\n",
    "    ax.set_xlim((-5, 105))\n",
    "    ax.set_ylim((-5, 105))\n",
    "    b = []\n",
    "    a = []\n",
    "    \n",
    "    for i in t:\n",
    "        ax.plot(points[i][1],points[i][0], 'o',color = 'r')\n",
    "        a = np.append(a, points[i][1])\n",
    "        b = np.append(b, points[i][0])    \n",
    "    a = np.append(a, points[t[0]][1])\n",
    "    b = np.append(b, points[t[0]][0]) \n",
    "    ax.plot(a,b)\n",
    "    for i in points:\n",
    "        ax.plot(i[1],i[0], 'o',color = 'r')\n",
    "    for i in t:\n",
    "        ax.plot(points[i][1],points[i][0], 'o',color = 'r')\n",
    "    ax.plot(points[0][1],points[0][0], 's', color = 'black')\n",
    "    \n",
    "    #plt.plot(a,b)\n",
    "    \n",
    "    \n",
    "    plt.savefig('foo.png')\n",
    "\n",
    "    plt.show() \n",
    "    "
   ]
  },
  {
   "cell_type": "code",
   "execution_count": 92,
   "id": "3d064724",
   "metadata": {},
   "outputs": [],
   "source": [
    "Start = (50,50) # Depot coordinates\n",
    "points = [(Start)] #coordinates of all customers\n",
    "Start_id = 0 # Depot idendifier\n",
    "points += [(17, 72), (97, 8), (32, 15), (63, 97), (57, 60), (83, 48), (100, 26), (12, 62), (3, 49), (55, 77), \n",
    "          (97, 98), (0, 89), (57, 34), (92, 29), (75, 13), (40, 3), (2, 3), (83, 69), (1, 48), (87, 27), \n",
    "          (54, 92), (3, 67), (28, 97), (56, 63), (70, 29), (44, 29), (86, 28), (97, 58), (37, 2), (53, 71), \n",
    "          (82, 12), (23, 80), (92, 37), (15, 95), (42, 92), (91, 64), (54, 64), (85, 24), (38, 36), (75, 63), \n",
    "          (64, 50), (75, 4), (61, 31), (95, 51), (53, 85), (22, 46), (70, 89), (99, 86), (94, 47), (11, 56)]\n",
    "\n",
    "n = len(points) # total number of nodes"
   ]
  },
  {
   "cell_type": "code",
   "execution_count": 93,
   "id": "2647f2b8",
   "metadata": {},
   "outputs": [],
   "source": [
    "# Distance between two cities (i,j)\n",
    "distance = {(i, j):\n",
    "        math.sqrt(sum((points[i][k]-points[j][k])**2 for k in range(2)))\n",
    "        for i in range(n) for j in range(n)}"
   ]
  },
  {
   "cell_type": "code",
   "execution_count": 94,
   "id": "37940ef3",
   "metadata": {},
   "outputs": [],
   "source": [
    "reward = {46: 43.15033999478041, 50: 20.948831277616726, 8: 17.263102417797167, 1: 21.18033988749895, \n",
    "          32: 27.72004514666935, 23: 30.872991584635255, 34: 29.308440859369416, 12: 38.35909773257803, \n",
    "          22: 40.20360331117452, 9: 20.23606797749979, 19: 47.24717771720739, 17: 80.0253925397308, \n",
    "          29: 38.176560460191574, 16: 17.584482762024336, 3: 32.86129401644173, 26: 27.65863337187866, \n",
    "          39: 27.65863337187866, 41: 33.1049731745428, 6: 36.99351699454112, 36: 26.373825194236886, \n",
    "          28: 15.765391263519088, 44: 11.403215514898179, 49: 14.32114465280323, 33: 21.014692853577536, \n",
    "          27: 14.939759452009628, 38: 7.728656901081649, 20: 8.990716082598492, 14: 13.929168552452033, \n",
    "          7: 26.792291336212188, 2: 33.77246228715468, 31: 26.154320508994672, 42: 19.63014581273465, \n",
    "          15: 25.76305461424021, 25: 25.982599071533098, 43: 14.219544457292887, 13: 22.46424919657298, \n",
    "          40: 38.17800560721074, 18: 33.3452350598575, 48: 35.510760120453945, 11: 40.626024002111855, \n",
    "          47: 39.090644754250064, 4: 20.92577595372165, 21: 22.295630140987, 35: 25.038404810405297, \n",
    "          45: 21.28461606164062, 10: 14.57076657157208, 30: 13.395623132202235, 37: 9.307135789365265, \n",
    "          24: 5.39834563766817, 5: 15.368833275902082}\n",
    "reward[Start_id] = 0"
   ]
  },
  {
   "cell_type": "code",
   "execution_count": 95,
   "id": "ee486ba6",
   "metadata": {},
   "outputs": [],
   "source": [
    "######################################################################\n",
    "########################### EXCERCISE 2 ##############################\n",
    "######################################################################\n",
    "#Solve the SPPRC\n",
    "\n",
    "######################################################################\n",
    "########################## EXCERCISE 2.1 #############################\n",
    "######################################################################\n",
    "\n",
    "###Time constraints\n",
    "\n",
    "early = {46: 0, 50: 0, 8: 12, 1: 22, 32: 39, 23: 53, 34: 69, 12: 91, 22: 109, 9: 111, 19: 156, 17: 191, 29: 194, 16: 209, 3: 227, 26: 236, 39: 255, 41: 274, 6: 292, 36: 300, 28: 308, 44: 312, 49: 322, 33: 333, 27: 337, 38: 340, 20: 346, 14: 354, 7: 373, 2: 388, 31: 399, 42: 408, 15: 425, 25: 434, 43: 439, 13: 456, 40: 466, 18: 490, 48: 502, 11: 530, 47: 541, 4: 551, 21: 563, 35: 576, 45: 584, 10: 591, 30: 598, 37: 600, 24: 603, 5: 615}\n",
    "late = {46: 35, 50: 41, 8: 53, 1: 63, 32: 80, 23: 94, 34: 110, 12: 132, 22: 150, 9: 152, 19: 197, 17: 232, 29: 235, 16: 250, 3: 268, 26: 277, 39: 296, 41: 315, 6: 333, 36: 341, 28: 349, 44: 353, 49: 363, 33: 374, 27: 378, 38: 381, 20: 387, 14: 395, 7: 414, 2: 429, 31: 440, 42: 449, 15: 466, 25: 475, 43: 480, 13: 497, 40: 507, 18: 531, 48: 543, 11: 571, 47: 582, 4: 592, 21: 604, 35: 617, 45: 625, 10: 632, 30: 639, 37: 641, 24: 644, 5: 656}\n"
   ]
  },
  {
   "cell_type": "code",
   "execution_count": 96,
   "id": "84c05e6d",
   "metadata": {},
   "outputs": [],
   "source": [
    "\n",
    "######################################################################\n",
    "########################## EXCERCISE 2.2 #############################\n",
    "######################################################################\n",
    "\n",
    "### Capacity constraints\n",
    "Q = 20 #the vehicle has a capacity of at most Q\n",
    "demand = {e:1 for e in range(1,n)} # each node has a demand of q_i\n"
   ]
  },
  {
   "cell_type": "code",
   "execution_count": 97,
   "id": "e8608935",
   "metadata": {},
   "outputs": [],
   "source": [
    "######################################################################\n",
    "########################### EXCERCISE 3 ##############################\n",
    "######################################################################\n",
    "\n",
    "#Solve the ESPPRC using Ng-route relaxation \n",
    "\n",
    "############################ NG_SETS #################################\n",
    "Ng_v = 5\n",
    "Ng = {}## dictionary with list of nearest neighbors\n",
    "for i in range(1,n):\n",
    "    nearest = []\n",
    "    for j in range(1,n):\n",
    "        nearest.append(j)\n",
    "    res = sorted(nearest, key=lambda ele: distance[(i,ele)])\n",
    "    Ng[i] = res[:Ng_v]\n",
    "######################################################################    "
   ]
  },
  {
   "cell_type": "code",
   "execution_count": 98,
   "id": "86a0af60",
   "metadata": {},
   "outputs": [
    {
     "name": "stdout",
     "output_type": "stream",
     "text": [
      "Solution value:  -286.25753576553\n"
     ]
    }
   ],
   "source": [
    "l = labeling_algorithm() #find the label with the cheapest path"
   ]
  },
  {
   "cell_type": "code",
   "execution_count": 99,
   "id": "f7dc53d3",
   "metadata": {},
   "outputs": [
    {
     "name": "stdout",
     "output_type": "stream",
     "text": [
      "Optimal path:  [0, 46, 8, 22, 9, 19, 17, 3, 26, 39, 41, 6, 40, 18, 48, 11, 47, 4, 21, 45, 10, 0]\n"
     ]
    },
    {
     "data": {
      "image/png": "[encoded data removed]",
      "text/plain": [
       "<Figure size 432x288 with 1 Axes>"
      ]
     },
     "metadata": {
      "needs_background": "light"
     },
     "output_type": "display_data"
    }
   ],
   "source": [
    "tour = []\n",
    "while l.parent:\n",
    "    tour.append(l.customer)\n",
    "    l = l.parent\n",
    "tour.append(Start_id)\n",
    "tour.reverse()\n",
    "tour.append(Start_id)\n",
    "print(\"Optimal path: \",tour)\n",
    "figure(tour)"
   ]
  },
  {
   "cell_type": "code",
   "execution_count": null,
   "id": "b27d2709",
   "metadata": {},
   "outputs": [],
   "source": []
  }
 ],
 "metadata": {
  "kernelspec": {
   "display_name": "Python 3",
   "language": "python",
   "name": "python3"
  },
  "language_info": {
   "codemirror_mode": {
    "name": "ipython",
    "version": 3
   },
   "file_extension": ".py",
   "mimetype": "text/x-python",
   "name": "python",
   "nbconvert_exporter": "python",
   "pygments_lexer": "ipython3",
   "version": "3.8.8"
  }
 },
 "nbformat": 4,
 "nbformat_minor": 5
}
