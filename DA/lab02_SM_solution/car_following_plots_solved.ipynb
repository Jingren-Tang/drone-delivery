{
 "cells": [
  {
   "cell_type": "markdown",
   "id": "8732bbae",
   "metadata": {},
   "source": [
    "# Car-following plots for sensitivity analysis\n",
    "\n",
    "This notebook was written by Evangelos Paschalidis (evangelos.paschalidis@epfl.ch) for the Decision-aid methodologies in transportation course at EPFL (http://edu.epfl.ch/coursebook/en/decision-aid-methodologies-in-transportation-CIVIL-557). \n",
    "\n",
    "Please contact before distributing or reusing the material below.\n",
    "\n",
    "## Overview\n",
    "\n",
    "This notebook covers the estimation of a linear regression model in python with maximum likelihhod estimation:\n",
    "\n",
    "* Load necessary packages\n",
    "* Define variables to use for plots\n",
    "* Syntax for plots\n",
    "\n",
    "Have a go at working through the notebook. To run a code cell, just click on it (to see a green box around it) and then press the **Run** button at the top! \n",
    "\n",
    "Some cells have blank lines for you to complete. There is always a comment telling you what to do!\n",
    "\n",
    "You can also add a new cell by pressing the **+** button at the top of the page."
   ]
  },
  {
   "cell_type": "markdown",
   "id": "2fa01775",
   "metadata": {},
   "source": [
    "## Load packages\n",
    "\n",
    "As usually, let's load some packages that we are going to need. When importing a package, it is common to rename it using an abbreviation."
   ]
  },
  {
   "cell_type": "code",
   "execution_count": null,
   "id": "5211b4ce",
   "metadata": {},
   "outputs": [],
   "source": [
    "import pandas as pd # Usual suspect #1\n",
    "import numpy as np # Usual suspect #2\n",
    "import matplotlib.pyplot as plt # Package that will help us plot"
   ]
  },
  {
   "cell_type": "markdown",
   "id": "0de77860",
   "metadata": {},
   "source": [
    "## Load data\n",
    "\n",
    "We need to load two different files\n",
    "* The traffic data that we used for the estimation of the car-following models\n",
    "* The parameter estimates (results) for which we need to plot"
   ]
  },
  {
   "cell_type": "markdown",
   "id": "b8ade8d9",
   "metadata": {},
   "source": [
    "### Load traffic data"
   ]
  },
  {
   "cell_type": "code",
   "execution_count": null,
   "id": "42ceabb9",
   "metadata": {},
   "outputs": [],
   "source": [
    "df = pd.read_table('I80_data0.txt')"
   ]
  },
  {
   "cell_type": "markdown",
   "id": "80759f35",
   "metadata": {},
   "source": [
    "### Load parameter estimates\n",
    "\n",
    "We take these from the csv file that is automatically created when we estimate a model"
   ]
  },
  {
   "cell_type": "code",
   "execution_count": null,
   "id": "abfb43c6",
   "metadata": {},
   "outputs": [],
   "source": [
    "data = pd.read_csv(\"car_following_model_lag1_results.csv\")\n",
    "print(data)"
   ]
  },
  {
   "cell_type": "markdown",
   "id": "1f9ee7ea",
   "metadata": {},
   "source": [
    "### Parameter estimates data process\n",
    "\n",
    "Before using the parameter estimates values we need to process the data and convert to an easy to use format.\n",
    "\n",
    "There is no need to change anything in the cell below."
   ]
  },
  {
   "cell_type": "code",
   "execution_count": null,
   "id": "0e120dd5",
   "metadata": {},
   "outputs": [],
   "source": [
    "# Create a dictionary  with the parameter estimates #\n",
    "names = data.iloc[:,0] # parameter names\n",
    "parameters = data.iloc[:,1] # parameter values\n",
    "parameters = parameters.to_dict() # convert values to dictionary\n",
    "parameters = dict(zip(names, list(parameters.values()))) # add parameter names\n",
    "del[names] # delete the names series\n",
    "\n",
    "# Convert to data frame and transpose (it makes our life easier to transfer the parameters to the global environment)\n",
    "parameters = pd.DataFrame.from_dict(parameters, orient = 'index')\n",
    "parameters = pd.DataFrame.transpose(parameters)\n",
    "\n",
    "# Transfer parameters to the global environment\n",
    "for col in parameters.columns:\n",
    "    globals()[col] = np.array(parameters[col])[0]\n",
    "del[col]"
   ]
  },
  {
   "cell_type": "markdown",
   "id": "007c4829",
   "metadata": {},
   "source": [
    "## Generate variables\n",
    "\n",
    "In order to plot we need our variables in two different formats:\n",
    "* The mean values\n",
    "* A sequence of *n* numbers in the min,max range observed in the data\n",
    "\n",
    "For example, taking speed into account we need (a) the mean speed in the data and (b) *n* (let's say 1000) values of speed that start from the minimum speed (as observed in the data) to the maximum speed (as observed in the data again)"
   ]
  },
  {
   "cell_type": "markdown",
   "id": "c9438b55",
   "metadata": {},
   "source": [
    "#### The general approach is:\n",
    "\n",
    "Let's say we want to plot acceleration (or deceleration) versus speed i.e. how acceleration is changing with speed.\n",
    "\n",
    "The way we do this is to calculate acceleration values using the same formula that we used to estimate the car-following model.\n",
    "\n",
    "* We replace the variable of interest (speed in our case) with *n* speed values that we generate based on the min and max speed values observed in the data\n",
    "\n",
    "* We replace the remaining variables (relative speed and space headway) with the sample mean values. We need these to be constant as we are only interested in the impact of speed all others being equal\n",
    "\n",
    "* The model also has some parameters. We replace these with the parameter values that we obtained when we estimated our model\n",
    "\n",
    "* We plot acceleration (or deceleration) versus speed. The result is a line showing the acceleration (or deceleration) pattern as speed increases\n",
    "\n",
    "* We repated the process above for space headway and relative speed\n",
    "\n",
    "* Attention! Our model specification is conditional on the sign of relative speed. When we investigate the impact of relative speed we need to generate two different relative speed variables (positive and negative)"
   ]
  },
  {
   "cell_type": "markdown",
   "id": "fb9fb7eb",
   "metadata": {},
   "source": [
    "### Generate mean values of the variables"
   ]
  },
  {
   "cell_type": "code",
   "execution_count": null,
   "id": "e8c4bf70",
   "metadata": {},
   "outputs": [],
   "source": [
    "# Mean speed\n",
    "mean_speed = np.mean(df.Speed)\n",
    "\n",
    "# Mean space headway\n",
    "mean_space_headway = np.mean(df.Space_headway)\n",
    "\n",
    "# Mean relative speed (positive and negative)\n",
    "# Before we calculate the values we need to subset positive and negative cases.\n",
    "rel_speed = np.array(df.Speed_lead - df.Speed) # Relative speed array\n",
    "rel_speed_pos = rel_speed[rel_speed>=0] # Subset of positive values\n",
    "rel_speed_neg = rel_speed[rel_speed<0] # Subset of negative values\n",
    "\n",
    "mean_rel_speed_pos = np.mean(rel_speed_pos) # Mean of positive values\n",
    "mean_rel_speed_neg = np.mean(rel_speed_neg) # Mean of negative values"
   ]
  },
  {
   "cell_type": "markdown",
   "id": "552bd1b2",
   "metadata": {},
   "source": [
    "### Generate sequences of variables' values"
   ]
  },
  {
   "cell_type": "code",
   "execution_count": null,
   "id": "164ec0d1",
   "metadata": {},
   "outputs": [],
   "source": [
    "# First we need to specify how many values we want in our sequences\n",
    "nobs = 1000\n",
    "\n",
    "# Now let's create our sequences.\n",
    "# The command we use is arrange from the numpy package\n",
    "# arrange takes as input *from* ,*to* and *step*\n",
    "# To get *n* number of onservations we divide the *to* with *from* difference with *n*\n",
    "\n",
    "# Speed sequence\n",
    "speed = np.arange(min(df.Speed)+np.exp(-50), max(df.Speed), (max(df.Speed)-min(df.Speed))/nobs)\n",
    "\n",
    "# Space headway sequence\n",
    "space_headway = np.arange(min(df.Space_headway), max(df.Space_headway), (max(df.Space_headway)-min(df.Space_headway))/nobs)\n",
    "\n",
    "# Relative speed sequence\n",
    "# Here things are slightly different. We calculate min and max in advance to avoid complexities later in our code.\n",
    "\n",
    "min_rs = min(df.Speed_lead - df.Speed); max_rs = max(df.Speed_lead - df.Speed)\n",
    "rel_speed_pos = np.arange(0, max_rs, (max_rs-0)/nobs)\n",
    "rel_speed_neg = np.arange(min_rs, 0, (0-min_rs)/nobs)"
   ]
  },
  {
   "cell_type": "markdown",
   "id": "829b3e23",
   "metadata": {},
   "source": [
    "## Time to plot!"
   ]
  },
  {
   "cell_type": "markdown",
   "id": "a17782a0",
   "metadata": {},
   "source": [
    "### Acceleration vs speed plots"
   ]
  },
  {
   "cell_type": "markdown",
   "id": "6539a8e8",
   "metadata": {},
   "source": [
    "#### Step 1: Define the variables we need\n",
    "\n",
    "In theory we can directly use the variables using the names we generated previously in the code.\n",
    "\n",
    "Here, we renamve these to some generic names. If we do this in advance we do not need to specify later which variables are mean values or sequence within the model."
   ]
  },
  {
   "cell_type": "code",
   "execution_count": null,
   "id": "1dac7292",
   "metadata": {},
   "outputs": [],
   "source": [
    "speed_plot = speed # Sequence of speed\n",
    "space_headway_plot = mean_space_headway # Mean value of space headway\n",
    "rel_speed_pos_plot = mean_rel_speed_pos # Mean value of positive relative speed\n",
    "rel_speed_neg_plot = mean_rel_speed_neg # Mean value of negative relative speed"
   ]
  },
  {
   "cell_type": "markdown",
   "id": "330e56cb",
   "metadata": {},
   "source": [
    "#### Step 2: Calculate the acceleration and deceleration values\n",
    "\n",
    "To do this we will use the same model specification with the estimation code."
   ]
  },
  {
   "cell_type": "code",
   "execution_count": null,
   "id": "6127afcb",
   "metadata": {},
   "outputs": [],
   "source": [
    "# Acceleration\n",
    "acc = alpha_acc * ((speed_plot**beta_acc)/(space_headway_plot**gamma_acc)) * abs(rel_speed_pos_plot)**lamda_acc\n",
    "\n",
    "# Deceleration\n",
    "dec = alpha_dec * ((speed_plot**beta_dec)/(space_headway_plot**gamma_dec)) * abs(rel_speed_neg_plot)**lamda_dec"
   ]
  },
  {
   "cell_type": "markdown",
   "id": "05474de0",
   "metadata": {},
   "source": [
    "#### Step 3: Plot for acceleration"
   ]
  },
  {
   "cell_type": "code",
   "execution_count": null,
   "id": "77566aaf",
   "metadata": {},
   "outputs": [],
   "source": [
    "plt.plot(speed_plot,acc,color='magenta') # Set plot variables and colour\n",
    "plt.xlabel('Speed (m/s)') # Label of x axis\n",
    "plt.ylabel('Acceleration $\\mathregular{m/s^{2}}$') # Label of y axis\n",
    "plt.grid(True) # Add grid\n",
    "plt.savefig('acc_speed.jpg', dpi=300) # Save the plot (name must be changed) and specify resolution"
   ]
  },
  {
   "cell_type": "markdown",
   "id": "b3fb8cc4",
   "metadata": {},
   "source": [
    "#### Step 4: Plot for deceleration"
   ]
  },
  {
   "cell_type": "code",
   "execution_count": null,
   "id": "c1964da7",
   "metadata": {},
   "outputs": [],
   "source": [
    "plt.plot(speed_plot,dec,color='cyan') # Set plot variables and colour\n",
    "plt.xlabel('Speed (m/s)') # Label of x axis\n",
    "plt.ylabel('Deceleration $\\mathregular{m/s^{2}}$') # Label of y axis\n",
    "plt.grid(True) # Add grid\n",
    "plt.savefig('dec_speed.jpg', dpi=300) # Save the plot (name must be changed) and specify resolution"
   ]
  },
  {
   "cell_type": "markdown",
   "id": "cf823d3d",
   "metadata": {},
   "source": [
    "### Now we must repeat the same process for space headway 🙄"
   ]
  },
  {
   "cell_type": "markdown",
   "id": "b6a36cf8",
   "metadata": {},
   "source": [
    "#### Step 1: Define the variables we need"
   ]
  },
  {
   "cell_type": "code",
   "execution_count": null,
   "id": "22f3587e",
   "metadata": {},
   "outputs": [],
   "source": [
    "speed_plot = mean_speed # Mean value of speed\n",
    "space_headway_plot = space_headway # Sequence of space headway\n",
    "rel_speed_pos_plot = mean_rel_speed_pos # Mean value of positive relative speed\n",
    "rel_speed_neg_plot = mean_rel_speed_neg # Mean value of negative relative speed"
   ]
  },
  {
   "cell_type": "markdown",
   "id": "0f6bfe17",
   "metadata": {},
   "source": [
    "#### Step 2: Calculate the acceleration and deceleration values"
   ]
  },
  {
   "cell_type": "code",
   "execution_count": null,
   "id": "e5eb366b",
   "metadata": {},
   "outputs": [],
   "source": [
    "# Acceleration\n",
    "acc = alpha_acc * ((speed_plot**beta_acc)/(space_headway_plot**gamma_acc)) * abs(rel_speed_pos_plot)**lamda_acc\n",
    "\n",
    "# Deceleration\n",
    "dec = alpha_dec * ((speed_plot**beta_dec)/(space_headway_plot**gamma_dec)) * abs(rel_speed_neg_plot)**lamda_dec"
   ]
  },
  {
   "cell_type": "markdown",
   "id": "c9a14a95",
   "metadata": {},
   "source": [
    "#### Step 3: Plot for acceleration"
   ]
  },
  {
   "cell_type": "code",
   "execution_count": null,
   "id": "bc6420ca",
   "metadata": {
    "scrolled": true
   },
   "outputs": [],
   "source": [
    "plt.plot(space_headway_plot,acc,color='magenta') # Set plot variables and colour\n",
    "plt.xlabel('Space headway (m)') # Label of x axis\n",
    "plt.ylabel('Acceleration $\\mathregular{m/s^{2}}$') # Label of y axis\n",
    "plt.grid(True) # Add grid\n",
    "plt.savefig('acc_head.jpg', dpi=300) # Save the plot (name must be changed) and specify resolution"
   ]
  },
  {
   "cell_type": "markdown",
   "id": "cd79993b",
   "metadata": {},
   "source": [
    "#### Step 4: Plot for deceleration"
   ]
  },
  {
   "cell_type": "code",
   "execution_count": null,
   "id": "dc815d5b",
   "metadata": {},
   "outputs": [],
   "source": [
    "plt.plot(space_headway_plot,dec,color='cyan') # Set plot variables and colour\n",
    "plt.xlabel('Space headway (m)') # Label of x axis\n",
    "plt.ylabel('Deceleration $\\mathregular{m/s^{2}}$') # Label of y axis\n",
    "plt.grid(True)  # Add grid\n",
    "plt.savefig('dec_head.jpg', dpi=300) # Save the plot (name must be changed) and specify resolution"
   ]
  },
  {
   "cell_type": "markdown",
   "id": "5afd7be6",
   "metadata": {},
   "source": [
    "### And now we must repeat the same process for relative speed 😩😩😩"
   ]
  },
  {
   "cell_type": "markdown",
   "id": "61f2c17b-e122-425f-aac7-40de7741a111",
   "metadata": {},
   "source": [
    "#### Step 1: Define the variables we need"
   ]
  },
  {
   "cell_type": "code",
   "execution_count": null,
   "id": "45d5f07a-4ffa-4100-b428-36d1e974c405",
   "metadata": {},
   "outputs": [],
   "source": [
    "speed_plot = mean_speed # Mean value of speed\n",
    "space_headway_plot = mean_space_headway # Sequence of space headway\n",
    "rel_speed_pos_plot = rel_speed_pos # Mean value of positive relative speed\n",
    "rel_speed_neg_plot = rel_speed_neg # Mean value of negative relative speed"
   ]
  },
  {
   "cell_type": "markdown",
   "id": "6bb6c2ad-db54-488c-9ba2-988dbe6bb671",
   "metadata": {},
   "source": [
    "#### Step 2: Calculate the acceleration and deceleration values"
   ]
  },
  {
   "cell_type": "code",
   "execution_count": null,
   "id": "3e2a977d-bc0c-4c8e-980e-54225920bdb2",
   "metadata": {},
   "outputs": [],
   "source": [
    "# Acceleration\n",
    "acc = alpha_acc * ((speed_plot**beta_acc)/(space_headway_plot**gamma_acc)) * abs(rel_speed_pos_plot)**lamda_acc\n",
    "\n",
    "# Deceleration\n",
    "dec = alpha_dec * ((speed_plot**beta_dec)/(space_headway_plot**gamma_dec)) * abs(rel_speed_neg_plot)**lamda_dec"
   ]
  },
  {
   "cell_type": "markdown",
   "id": "7d4b71f4-a341-4344-8d3a-37a3c323a330",
   "metadata": {},
   "source": [
    "#### Step 3: Plot for acceleration"
   ]
  },
  {
   "cell_type": "code",
   "execution_count": null,
   "id": "c3fb4243-e868-411c-a691-425d5774597a",
   "metadata": {},
   "outputs": [],
   "source": [
    "plt.plot(rel_speed_pos_plot,acc,color='magenta') # Set plot variables and colour\n",
    "plt.xlabel('Relative speed (m)') # Label of x axis\n",
    "plt.ylabel('Acceleration $\\mathregular{m/s^{2}}$') # Label of y axis\n",
    "plt.grid(True) # Add grid\n",
    "plt.savefig('acc_rspeed_pos.jpg', dpi=300) # Save the plot (name must be changed) and specify resolution"
   ]
  },
  {
   "cell_type": "markdown",
   "id": "618dd643-6c18-4b36-8b32-1f73729fffa6",
   "metadata": {},
   "source": [
    "#### Step 4: Plot for deceleration"
   ]
  },
  {
   "cell_type": "code",
   "execution_count": null,
   "id": "5abbd4ca-a3d0-496e-aaee-7b2f39fb4eaa",
   "metadata": {},
   "outputs": [],
   "source": [
    "plt.plot(rel_speed_neg_plot,dec,color='cyan') # Set plot variables and colour\n",
    "plt.xlabel('Relative speed (m)') # Label of x axis\n",
    "plt.ylabel('Acceleration $\\mathregular{m/s^{2}}$') # Label of y axis\n",
    "plt.grid(True) # Add grid\n",
    "plt.savefig('acc_rspeed_neg.jpg', dpi=300) # Save the plot (name must be changed) and specify resolution"
   ]
  }
 ],
 "metadata": {
  "kernelspec": {
   "display_name": "Python 3 (ipykernel)",
   "language": "python",
   "name": "python3"
  },
  "language_info": {
   "codemirror_mode": {
    "name": "ipython",
    "version": 3
   },
   "file_extension": ".py",
   "mimetype": "text/x-python",
   "name": "python",
   "nbconvert_exporter": "python",
   "pygments_lexer": "ipython3",
   "version": "3.11.5"
  }
 },
 "nbformat": 4,
 "nbformat_minor": 5
}
