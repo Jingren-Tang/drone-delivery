{
 "cells": [
  {
   "cell_type": "code",
   "execution_count": 1,
   "id": "5846dbdc",
   "metadata": {},
   "outputs": [],
   "source": [
    "import gurobipy as gp"
   ]
  },
  {
   "cell_type": "code",
   "execution_count": 2,
   "id": "ccfa7b60",
   "metadata": {},
   "outputs": [
    {
     "name": "stdout",
     "output_type": "stream",
     "text": [
      "Set parameter Username\n",
      "Academic license - for non-commercial use only - expires 2025-02-19\n",
      "Gurobi Optimizer version 11.0.0 build v11.0.0rc2 (mac64[rosetta2] - Darwin 21.6.0 21G651)\n",
      "\n",
      "CPU model: Apple M1\n",
      "Thread count: 8 physical cores, 8 logical processors, using up to 8 threads\n",
      "\n",
      "Optimize a model with 0 rows, 0 columns and 0 nonzeros\n",
      "Model fingerprint: 0xf9715da1\n",
      "Coefficient statistics:\n",
      "  Matrix range     [0e+00, 0e+00]\n",
      "  Objective range  [0e+00, 0e+00]\n",
      "  Bounds range     [0e+00, 0e+00]\n",
      "  RHS range        [0e+00, 0e+00]\n",
      "Presolve time: 0.01s\n",
      "Presolve: All rows and columns removed\n",
      "Iteration    Objective       Primal Inf.    Dual Inf.      Time\n",
      "       0    0.0000000e+00   0.000000e+00   0.000000e+00      0s\n",
      "\n",
      "Solved in 0 iterations and 0.01 seconds (0.00 work units)\n",
      "Optimal objective  0.000000000e+00\n"
     ]
    }
   ],
   "source": [
    "m = gp.Model()\n",
    "m.optimize()"
   ]
  },
  {
   "cell_type": "code",
   "execution_count": 4,
   "id": "96c662fd-68e2-428c-a2e1-5a246c2d67a0",
   "metadata": {},
   "outputs": [],
   "source": [
    "from gurobipy import GRB"
   ]
  },
  {
   "cell_type": "code",
   "execution_count": 9,
   "id": "11ac589b-6239-40c9-80b4-833d8d2572b9",
   "metadata": {},
   "outputs": [
    {
     "name": "stdout",
     "output_type": "stream",
     "text": [
      "Optimal objective = 10.0\n",
      "Optimal x value = 4.0\n",
      "Optimal y value = -1.0\n"
     ]
    }
   ],
   "source": [
    "\n",
    "\n",
    "# Create a new model\n",
    "m = gp.Model(\"mip1\")\n",
    "inf = GRB.INFINITY\n",
    "# Create variables\n",
    "x = m.addVar(lb = -inf, vtype = GRB.CONTINUOUS, name=\"x\")\n",
    "y = m.addVar(lb = -inf, vtype = GRB.CONTINUOUS,pip name=\"y\")\n",
    "# z = m.addVar(vtype=GRB.BINARY, name=\"z\")\n",
    "\n",
    "# Set objective\n",
    "m.setObjective(3 * x + 2 * y, GRB.MINIMIZE)\n",
    "\n",
    "# Add constraint: \n",
    "m.addConstr(x - y >= 5, \"c0\")\n",
    "\n",
    "# Add constraint: x + y >= 1\n",
    "m.addConstr(3 * x + 2 * y >= 10, \"c1\")\n",
    "\n",
    "# Optimize model\n",
    "m.setParam(\"OutputFlag\", 0)\n",
    "m.optimize()\n",
    "\n",
    "print(f\"Optimal objective = {m.ObjVal}\")\n",
    "print(f\"Optimal x value = {x.x}\")\n",
    "print(f\"Optimal y value = {y.x}\")\n",
    "# print(f\"Optimal z value = {z.x}\")"
   ]
  },
  {
   "cell_type": "code",
   "execution_count": 12,
   "id": "596539cc-92aa-401a-aaa9-6d85da398656",
   "metadata": {},
   "outputs": [
    {
     "name": "stdout",
     "output_type": "stream",
     "text": [
      "Looking in indexes: https://pypi.tuna.tsinghua.edu.cn/simple/\n",
      "Requirement already satisfied: numpy in /Users/don_giraffe/opt/anaconda3/lib/python3.8/site-packages (1.24.4)\n"
     ]
    }
   ],
   "source": [
    "!pip install numpy"
   ]
  },
  {
   "cell_type": "code",
   "execution_count": null,
   "id": "c60ef680-d0b1-481f-b080-90d384a3c6b5",
   "metadata": {},
   "outputs": [],
   "source": []
  }
 ],
 "metadata": {
  "kernelspec": {
   "display_name": "Python 3 (ipykernel)",
   "language": "python",
   "name": "python3"
  },
  "language_info": {
   "codemirror_mode": {
    "name": "ipython",
    "version": 3
   },
   "file_extension": ".py",
   "mimetype": "text/x-python",
   "name": "python",
   "nbconvert_exporter": "python",
   "pygments_lexer": "ipython3",
   "version": "3.11.7"
  }
 },
 "nbformat": 4,
 "nbformat_minor": 5
}
