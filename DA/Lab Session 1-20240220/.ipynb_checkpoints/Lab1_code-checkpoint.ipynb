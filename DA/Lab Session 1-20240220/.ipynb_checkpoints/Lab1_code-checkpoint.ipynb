{
 "cells": [
  {
   "cell_type": "code",
   "execution_count": 1,
   "id": "c6d2d7bd",
   "metadata": {},
   "outputs": [],
   "source": [
    "import gurobipy as gp"
   ]
  },
  {
   "cell_type": "code",
   "execution_count": 2,
   "id": "fff884d0",
   "metadata": {},
   "outputs": [
    {
     "name": "stdout",
     "output_type": "stream",
     "text": [
      "Set parameter Username\n",
      "Academic license - for non-commercial use only - expires 2025-02-19\n",
      "Gurobi Optimizer version 11.0.0 build v11.0.0rc2 (mac64[rosetta2] - Darwin 21.6.0 21H1123)\n",
      "\n",
      "CPU model: Apple M1\n",
      "Thread count: 8 physical cores, 8 logical processors, using up to 8 threads\n",
      "\n",
      "Optimize a model with 0 rows, 0 columns and 0 nonzeros\n",
      "Model fingerprint: 0xf9715da1\n",
      "Coefficient statistics:\n",
      "  Matrix range     [0e+00, 0e+00]\n",
      "  Objective range  [0e+00, 0e+00]\n",
      "  Bounds range     [0e+00, 0e+00]\n",
      "  RHS range        [0e+00, 0e+00]\n",
      "Presolve time: 0.01s\n",
      "Presolve: All rows and columns removed\n",
      "Iteration    Objective       Primal Inf.    Dual Inf.      Time\n",
      "       0    0.0000000e+00   0.000000e+00   0.000000e+00      0s\n",
      "\n",
      "Solved in 0 iterations and 0.01 seconds (0.00 work units)\n",
      "Optimal objective  0.000000000e+00\n"
     ]
    }
   ],
   "source": [
    "m = gp.Model()\n",
    "m.optimize()"
   ]
  },
  {
   "cell_type": "code",
   "execution_count": 3,
   "id": "7836384d",
   "metadata": {},
   "outputs": [
    {
     "name": "stdout",
     "output_type": "stream",
     "text": [
      "Optimal objective = 3.0\n",
      "Optimal x value = 1.0\n",
      "Optimal y value = 0.0\n",
      "Optimal z value = 1.0\n"
     ]
    }
   ],
   "source": [
    "# Copyright 2023, Gurobi Optimization, LLC\n",
    "\n",
    "# This example formulates and solves the following simple MIP model:\n",
    "#  maximize\n",
    "#        x +   y + 2 z\n",
    "#  subject to\n",
    "#        x + 2 y + 3 z <= 4\n",
    "#        x +   y       >= 1\n",
    "#        x, y, z binary\n",
    "\n",
    "from gurobipy import GRB\n",
    "\n",
    "# Create a new model\n",
    "m = gp.Model(\"mip1\")\n",
    "\n",
    "# Create variables\n",
    "x = m.addVar(vtype=GRB.BINARY, name=\"x\")\n",
    "y = m.addVar(vtype=GRB.BINARY, name=\"y\")\n",
    "z = m.addVar(vtype=GRB.BINARY, name=\"z\")\n",
    "\n",
    "# Set objective\n",
    "m.setObjective(x + y + 2 * z, GRB.MAXIMIZE)\n",
    "\n",
    "# Add constraint: x + 2 y + 3 z <= 4\n",
    "m.addConstr(x + 2 * y + 3 * z <= 4, \"c0\")\n",
    "\n",
    "# Add constraint: x + y >= 1\n",
    "m.addConstr(x + y >= 1, \"c1\")\n",
    "\n",
    "# Optimize model\n",
    "m.setParam(\"OutputFlag\", 0)\n",
    "m.optimize()\n",
    "\n",
    "print(f\"Optimal objective = {m.ObjVal}\")\n",
    "print(f\"Optimal x value = {x.x}\")\n",
    "print(f\"Optimal y value = {y.x}\")\n",
    "print(f\"Optimal z value = {z.x}\")"
   ]
  },
  {
   "cell_type": "code",
   "execution_count": 4,
   "id": "7e1144b8",
   "metadata": {},
   "outputs": [],
   "source": [
    "# First example\n",
    "\n",
    "m = gp.Model()\n",
    "\n",
    "inf = GRB.INFINITY\n",
    "x = m.addVar(lb = -inf, vtype=GRB.CONTINUOUS)\n",
    "\n",
    "# ..."
   ]
  },
  {
   "cell_type": "code",
   "execution_count": 5,
   "id": "23e11416",
   "metadata": {},
   "outputs": [],
   "source": [
    "N = 15166\n",
    "B = 100\n",
    "A = 600"
   ]
  },
  {
   "cell_type": "code",
   "execution_count": 6,
   "id": "2ed5d338",
   "metadata": {},
   "outputs": [
    {
     "ename": "FileNotFoundError",
     "evalue": "[Errno 2] No such file or directory: 'Lab1_a.npy'",
     "output_type": "error",
     "traceback": [
      "\u001b[0;31m---------------------------------------------------------------------------\u001b[0m",
      "\u001b[0;31mFileNotFoundError\u001b[0m                         Traceback (most recent call last)",
      "\u001b[0;32m<ipython-input-6-1c810b5bdad7>\u001b[0m in \u001b[0;36m<module>\u001b[0;34m\u001b[0m\n\u001b[1;32m      1\u001b[0m \u001b[0;32mimport\u001b[0m \u001b[0mnumpy\u001b[0m \u001b[0;32mas\u001b[0m \u001b[0mnp\u001b[0m\u001b[0;34m\u001b[0m\u001b[0;34m\u001b[0m\u001b[0m\n\u001b[0;32m----> 2\u001b[0;31m \u001b[0ma\u001b[0m \u001b[0;34m=\u001b[0m \u001b[0mnp\u001b[0m\u001b[0;34m.\u001b[0m\u001b[0mload\u001b[0m\u001b[0;34m(\u001b[0m\u001b[0;34m\"Lab1_a.npy\"\u001b[0m\u001b[0;34m)\u001b[0m\u001b[0;34m\u001b[0m\u001b[0;34m\u001b[0m\u001b[0m\n\u001b[0m",
      "\u001b[0;32m~/opt/anaconda3/lib/python3.8/site-packages/numpy/lib/npyio.py\u001b[0m in \u001b[0;36mload\u001b[0;34m(file, mmap_mode, allow_pickle, fix_imports, encoding, max_header_size)\u001b[0m\n\u001b[1;32m    403\u001b[0m             \u001b[0mown_fid\u001b[0m \u001b[0;34m=\u001b[0m \u001b[0;32mFalse\u001b[0m\u001b[0;34m\u001b[0m\u001b[0;34m\u001b[0m\u001b[0m\n\u001b[1;32m    404\u001b[0m         \u001b[0;32melse\u001b[0m\u001b[0;34m:\u001b[0m\u001b[0;34m\u001b[0m\u001b[0;34m\u001b[0m\u001b[0m\n\u001b[0;32m--> 405\u001b[0;31m             \u001b[0mfid\u001b[0m \u001b[0;34m=\u001b[0m \u001b[0mstack\u001b[0m\u001b[0;34m.\u001b[0m\u001b[0menter_context\u001b[0m\u001b[0;34m(\u001b[0m\u001b[0mopen\u001b[0m\u001b[0;34m(\u001b[0m\u001b[0mos_fspath\u001b[0m\u001b[0;34m(\u001b[0m\u001b[0mfile\u001b[0m\u001b[0;34m)\u001b[0m\u001b[0;34m,\u001b[0m \u001b[0;34m\"rb\"\u001b[0m\u001b[0;34m)\u001b[0m\u001b[0;34m)\u001b[0m\u001b[0;34m\u001b[0m\u001b[0;34m\u001b[0m\u001b[0m\n\u001b[0m\u001b[1;32m    406\u001b[0m             \u001b[0mown_fid\u001b[0m \u001b[0;34m=\u001b[0m \u001b[0;32mTrue\u001b[0m\u001b[0;34m\u001b[0m\u001b[0;34m\u001b[0m\u001b[0m\n\u001b[1;32m    407\u001b[0m \u001b[0;34m\u001b[0m\u001b[0m\n",
      "\u001b[0;31mFileNotFoundError\u001b[0m: [Errno 2] No such file or directory: 'Lab1_a.npy'"
     ]
    }
   ],
   "source": [
    "import numpy as np\n",
    "a = np.load(\"Lab1_a.npy\")"
   ]
  },
  {
   "cell_type": "code",
   "execution_count": null,
   "id": "908a49ea",
   "metadata": {},
   "outputs": [],
   "source": [
    "F = (N + sum(a)) / (A*B)"
   ]
  },
  {
   "cell_type": "code",
   "execution_count": null,
   "id": "cdb3d7e8",
   "metadata": {},
   "outputs": [],
   "source": [
    "# Container storage problem\n",
    "\n",
    "inf = GRB.INFINITY\n",
    "\n",
    "m = gp.Model()\n",
    "\n",
    "x = {i: m.addVar(vtype=GRB.INTEGER) for i in range(B)}\n",
    "\n",
    "# ..."
   ]
  },
  {
   "cell_type": "code",
   "execution_count": null,
   "id": "fb896a22",
   "metadata": {},
   "outputs": [],
   "source": [
    "N = 20\n",
    "M = 30\n",
    "cost = np.load(\"Lab1_cost.npy\")\n",
    "output = np.load(\"Lab1_output.npy\")\n",
    "allocation = np.load(\"Lab1_allocation.npy\")"
   ]
  },
  {
   "cell_type": "code",
   "execution_count": null,
   "id": "003374c8",
   "metadata": {},
   "outputs": [],
   "source": [
    "# Transportation problem\n",
    "\n",
    "m = gp.Model()\n",
    "\n",
    "# ..."
   ]
  },
  {
   "cell_type": "code",
   "execution_count": null,
   "id": "b3b60904",
   "metadata": {},
   "outputs": [],
   "source": []
  }
 ],
 "metadata": {
  "kernelspec": {
   "display_name": "Python 3 (ipykernel)",
   "language": "python",
   "name": "python3"
  },
  "language_info": {
   "codemirror_mode": {
    "name": "ipython",
    "version": 3
   },
   "file_extension": ".py",
   "mimetype": "text/x-python",
   "name": "python",
   "nbconvert_exporter": "python",
   "pygments_lexer": "ipython3",
   "version": "3.8.8"
  }
 },
 "nbformat": 4,
 "nbformat_minor": 5
}
