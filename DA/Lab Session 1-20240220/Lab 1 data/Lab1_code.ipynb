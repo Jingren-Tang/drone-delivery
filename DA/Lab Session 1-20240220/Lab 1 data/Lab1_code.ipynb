{
 "cells": [
  {
   "cell_type": "code",
   "execution_count": 1,
   "id": "c6d2d7bd",
   "metadata": {},
   "outputs": [],
   "source": [
    "import gurobipy as gp"
   ]
  },
  {
   "cell_type": "code",
   "execution_count": 2,
   "id": "fff884d0",
   "metadata": {},
   "outputs": [
    {
     "name": "stdout",
     "output_type": "stream",
     "text": [
      "Set parameter Username\n",
      "Academic license - for non-commercial use only - expires 2025-02-19\n",
      "Gurobi Optimizer version 11.0.0 build v11.0.0rc2 (mac64[rosetta2] - Darwin 21.6.0 21H1123)\n",
      "\n",
      "CPU model: Apple M1\n",
      "Thread count: 8 physical cores, 8 logical processors, using up to 8 threads\n",
      "\n",
      "Optimize a model with 0 rows, 0 columns and 0 nonzeros\n",
      "Model fingerprint: 0xf9715da1\n",
      "Coefficient statistics:\n",
      "  Matrix range     [0e+00, 0e+00]\n",
      "  Objective range  [0e+00, 0e+00]\n",
      "  Bounds range     [0e+00, 0e+00]\n",
      "  RHS range        [0e+00, 0e+00]\n",
      "Presolve time: 0.00s\n",
      "Presolve: All rows and columns removed\n",
      "Iteration    Objective       Primal Inf.    Dual Inf.      Time\n",
      "       0    0.0000000e+00   0.000000e+00   0.000000e+00      0s\n",
      "\n",
      "Solved in 0 iterations and 0.01 seconds (0.00 work units)\n",
      "Optimal objective  0.000000000e+00\n"
     ]
    }
   ],
   "source": [
    "m = gp.Model()\n",
    "m.optimize()"
   ]
  },
  {
   "cell_type": "code",
   "execution_count": 3,
   "id": "7836384d",
   "metadata": {},
   "outputs": [
    {
     "name": "stdout",
     "output_type": "stream",
     "text": [
      "Optimal objective = 10.0\n",
      "Optimal x value = 4.0\n",
      "Optimal y value = -1.0\n"
     ]
    }
   ],
   "source": [
    "from gurobipy import GRB\n",
    "# Create a new model\n",
    "m = gp.Model(\"mip1\")\n",
    "inf = GRB.INFINITY\n",
    "# Create variables\n",
    "x = m.addVar(lb = -inf, vtype = GRB.CONTINUOUS, name=\"x\")\n",
    "y = m.addVar(lb = -inf, vtype = GRB.CONTINUOUS, name=\"y\")\n",
    "# z = m.addVar(vtype=GRB.BINARY, name=\"z\")\n",
    "\n",
    "# Set objective\n",
    "m.setObjective(3 * x + 2 * y, GRB.MINIMIZE)\n",
    "\n",
    "# Add constraint: \n",
    "m.addConstr(x - y >= 5, \"c0\")\n",
    "\n",
    "# Add constraint: x + y >= 1\n",
    "m.addConstr(3 * x + 2 * y >= 10, \"c1\")\n",
    "\n",
    "# Optimize model\n",
    "m.setParam(\"OutputFlag\", 0)\n",
    "m.optimize()\n",
    "\n",
    "print(f\"Optimal objective = {m.ObjVal}\")\n",
    "print(f\"Optimal x value = {x.x}\")\n",
    "print(f\"Optimal y value = {y.x}\")\n",
    "# print(f\"Optimal z value = {z.x}\")"
   ]
  },
  {
   "cell_type": "code",
   "execution_count": 4,
   "id": "7e1144b8",
   "metadata": {},
   "outputs": [],
   "source": [
    "# First example\n",
    "\n",
    "m = gp.Model()\n",
    "\n",
    "inf = GRB.INFINITY\n",
    "x = m.addVar(lb = -inf, vtype=GRB.CONTINUOUS)\n",
    "\n",
    "# ..."
   ]
  },
  {
   "cell_type": "code",
   "execution_count": 5,
   "id": "1157c12e-aea6-4e36-9a7e-7d8ebc057dc4",
   "metadata": {},
   "outputs": [],
   "source": [
    "from gurobipy import GRB"
   ]
  },
  {
   "cell_type": "code",
   "execution_count": 6,
   "id": "23e11416",
   "metadata": {},
   "outputs": [],
   "source": [
    "N = 15166\n",
    "B = 100\n",
    "A = 600"
   ]
  },
  {
   "cell_type": "code",
   "execution_count": null,
   "id": "2856f773-9539-4a0f-bd90-2d59c26341e0",
   "metadata": {},
   "outputs": [],
   "source": []
  },
  {
   "cell_type": "code",
   "execution_count": 7,
   "id": "2ed5d338",
   "metadata": {},
   "outputs": [],
   "source": [
    "import numpy as np\n",
    "a = np.load(\"Lab1_a.npy\")"
   ]
  },
  {
   "cell_type": "code",
   "execution_count": 8,
   "id": "908a49ea",
   "metadata": {},
   "outputs": [],
   "source": [
    "F = (N + sum(a)) / (A*B)"
   ]
  },
  {
   "cell_type": "code",
   "execution_count": 9,
   "id": "cdb3d7e8",
   "metadata": {},
   "outputs": [],
   "source": [
    "# # Container storage problem\n",
    "# from gurobipy import GRB\n",
    "# inf = GRB.INFINITY\n",
    "\n",
    "# m = gp.Model()\n",
    "\n",
    "# x = {i: m.addVar(vtype=GRB.INTEGER) for i in range(B)}\n",
    "\n",
    "# # ..."
   ]
  },
  {
   "cell_type": "code",
   "execution_count": 10,
   "id": "30695603-8b61-4ef3-b614-fd983579cbc4",
   "metadata": {},
   "outputs": [
    {
     "data": {
      "text/plain": [
       "array([320, 157, 213,  96, 413, 312, 333, 472, 171, 222, 439, 212, 190,\n",
       "       220, 372, 101, 212, 251,  86,  79, 295, 138, 343, 281, 372, 450,\n",
       "       100, 183,  99, 505,  99, 254, 330, 279, 300, 150, 340, 221,  79,\n",
       "       119,   3,  71, 219, 363,  98, 500, 413, 259, 182, 391, 360, 447,\n",
       "       181, 233, 414,  30, 333, 427, 251,  83, 144, 404,  76,  84, 196,\n",
       "       336, 411, 280, 115, 200, 117, 284, 263, 477, 431, 297, 380, 327,\n",
       "       155, 360, 360, 290, 350, 157, 116, 141,  82, 116,  99,  78, 220,\n",
       "       182,  96, 301, 121, 278, 372, 119, 282, 310])"
      ]
     },
     "execution_count": 10,
     "metadata": {},
     "output_type": "execute_result"
    }
   ],
   "source": [
    "a"
   ]
  },
  {
   "cell_type": "code",
   "execution_count": 11,
   "id": "fb896a22",
   "metadata": {},
   "outputs": [],
   "source": [
    "N = 20\n",
    "M = 30\n",
    "cost = np.load(\"Lab1_cost.npy\")\n",
    "output = np.load(\"Lab1_output.npy\")\n",
    "allocation = np.load(\"Lab1_allocation.npy\")"
   ]
  },
  {
   "cell_type": "code",
   "execution_count": 14,
   "id": "bfe2c7b6-c388-45be-8de6-e1d9c9ee4f7b",
   "metadata": {},
   "outputs": [
    {
     "data": {
      "text/plain": [
       "array([ 97, 115, 147,  97, 118, 142,  92, 109,  84, 113,  88,  60, 127,\n",
       "       115,  95,  87, 129,  86, 117,  74])"
      ]
     },
     "execution_count": 14,
     "metadata": {},
     "output_type": "execute_result"
    }
   ],
   "source": [
    "output"
   ]
  },
  {
   "cell_type": "code",
   "execution_count": 15,
   "id": "003374c8",
   "metadata": {},
   "outputs": [
    {
     "name": "stdout",
     "output_type": "stream",
     "text": [
      "Gurobi Optimizer version 11.0.0 build v11.0.0rc2 (mac64[rosetta2] - Darwin 21.6.0 21H1123)\n",
      "\n",
      "CPU model: Apple M1\n",
      "Thread count: 8 physical cores, 8 logical processors, using up to 8 threads\n",
      "\n",
      "Optimize a model with 201 rows, 201 columns and 500 nonzeros\n",
      "Model fingerprint: 0xc183ab32\n",
      "Variable types: 101 continuous, 100 integer (0 binary)\n",
      "Coefficient statistics:\n",
      "  Matrix range     [1e+00, 1e+00]\n",
      "  Objective range  [1e+00, 1e+00]\n",
      "  Bounds range     [0e+00, 0e+00]\n",
      "  RHS range        [5e+00, 4e+02]\n",
      "Found heuristic solution: objective 16453.080008\n",
      "Presolve removed 201 rows and 201 columns\n",
      "Presolve time: 0.00s\n",
      "Presolve: All rows and columns removed\n",
      "\n",
      "Explored 0 nodes (0 simplex iterations) in 0.01 seconds (0.00 work units)\n",
      "Thread count was 1 (of 8 available processors)\n",
      "\n",
      "Solution count 2: 16453.1 16453.1 \n",
      "\n",
      "Optimal solution found (tolerance 1.00e-04)\n",
      "Best objective 1.645308000000e+04, best bound 1.645308000000e+04, gap 0.0000%\n",
      "Optimal objective = 16453.079999999984\n"
     ]
    }
   ],
   "source": [
    "# Transportation problem\n",
    "\n",
    "m = gp.Model(\"mip2\")\n",
    "inf = GRB.INFINITY\n",
    "# Create variables\n",
    "\n",
    "x = {i: m.addVar(lb = 0, vtype=GRB.INTEGER) for i in range(B)}\n",
    "y = m.addVar(lb = -inf, vtype = GRB.CONTINUOUS, name=\"y\")\n",
    "# z = m.addVar(lb = -inf, vtype=GRB.CONTINUOUS, name=\"z\")\n",
    "z = {i: m.addVar(vtype=GRB.CONTINUOUS) for i in range(B)}\n",
    "# Set objective\n",
    "m.setObjective(gp.quicksum(z[i] for i in range(B)), GRB.MINIMIZE)\n",
    "\n",
    "# Add constraint: \n",
    "m.addConstr(gp.quicksum(x[i] for i in range(B)) == N)\n",
    "\n",
    "# Add constraint: \n",
    "for i in range(B):\n",
    "    m.addConstr(z[i] >= a[i] + x[i] - A * F)\n",
    "    m.addConstr(z[i] >= -(a[i] + x[i] - A * F))\n",
    "\n",
    "# Optimize model\n",
    "m.setParam(\"OutputFlag\", 1)\n",
    "m.optimize()\n",
    "\n",
    "print(f\"Optimal objective = {m.ObjVal}\")\n",
    "# print(f\"Optimal x value = {x.x}\")\n",
    "# print(f\"Optimal y value = {y.x}\")\n",
    "# print(f\"Optimal z value = {z.x}\")\n",
    "# ..."
   ]
  },
  {
   "cell_type": "code",
   "execution_count": null,
   "id": "b3b60904",
   "metadata": {},
   "outputs": [],
   "source": []
  }
 ],
 "metadata": {
  "kernelspec": {
   "display_name": "Python 3 (ipykernel)",
   "language": "python",
   "name": "python3"
  },
  "language_info": {
   "codemirror_mode": {
    "name": "ipython",
    "version": 3
   },
   "file_extension": ".py",
   "mimetype": "text/x-python",
   "name": "python",
   "nbconvert_exporter": "python",
   "pygments_lexer": "ipython3",
   "version": "3.11.7"
  }
 },
 "nbformat": 4,
 "nbformat_minor": 5
}
