{
 "cells": [
  {
   "cell_type": "code",
   "execution_count": 1,
   "id": "c6d2d7bd",
   "metadata": {},
   "outputs": [],
   "source": [
    "import gurobipy as gp"
   ]
  },
  {
   "cell_type": "code",
   "execution_count": 2,
   "id": "fff884d0",
   "metadata": {},
   "outputs": [
    {
     "name": "stdout",
     "output_type": "stream",
     "text": [
      "Set parameter Username\n",
      "Academic license - for non-commercial use only - expires 2025-02-19\n",
      "Gurobi Optimizer version 11.0.0 build v11.0.0rc2 (mac64[rosetta2] - Darwin 21.6.0 21G651)\n",
      "\n",
      "CPU model: Apple M1\n",
      "Thread count: 8 physical cores, 8 logical processors, using up to 8 threads\n",
      "\n",
      "Optimize a model with 0 rows, 0 columns and 0 nonzeros\n",
      "Model fingerprint: 0xf9715da1\n",
      "Coefficient statistics:\n",
      "  Matrix range     [0e+00, 0e+00]\n",
      "  Objective range  [0e+00, 0e+00]\n",
      "  Bounds range     [0e+00, 0e+00]\n",
      "  RHS range        [0e+00, 0e+00]\n",
      "Presolve time: 0.01s\n",
      "Presolve: All rows and columns removed\n",
      "Iteration    Objective       Primal Inf.    Dual Inf.      Time\n",
      "       0    0.0000000e+00   0.000000e+00   0.000000e+00      0s\n",
      "\n",
      "Solved in 0 iterations and 0.01 seconds (0.00 work units)\n",
      "Optimal objective  0.000000000e+00\n"
     ]
    }
   ],
   "source": [
    "m = gp.Model()\n",
    "m.optimize()"
   ]
  },
  {
   "cell_type": "code",
   "execution_count": 3,
   "id": "7836384d",
   "metadata": {},
   "outputs": [
    {
     "name": "stdout",
     "output_type": "stream",
     "text": [
      "Optimal objective = 10.0\n",
      "Optimal x value = 4.0\n",
      "Optimal y value = -1.0\n"
     ]
    }
   ],
   "source": [
    "from gurobipy import GRB\n",
    "# Create a new model\n",
    "m = gp.Model(\"mip1\")\n",
    "inf = GRB.INFINITY\n",
    "# Create variables\n",
    "x = m.addVar(lb = -inf, vtype = GRB.CONTINUOUS, name=\"x\")\n",
    "y = m.addVar(lb = -inf, vtype = GRB.CONTINUOUS, name=\"y\")\n",
    "# z = m.addVar(vtype=GRB.BINARY, name=\"z\")\n",
    "\n",
    "# Set objective\n",
    "m.setObjective(3 * x + 2 * y, GRB.MINIMIZE)\n",
    "\n",
    "# Add constraint: \n",
    "m.addConstr(x - y >= 5, \"c0\")\n",
    "\n",
    "# Add constraint: x + y >= 1\n",
    "m.addConstr(3 * x + 2 * y >= 10, \"c1\")\n",
    "\n",
    "# Optimize model\n",
    "m.setParam(\"OutputFlag\", 0)\n",
    "m.optimize()\n",
    "\n",
    "print(f\"Optimal objective = {m.ObjVal}\")\n",
    "print(f\"Optimal x value = {x.x}\")\n",
    "print(f\"Optimal y value = {y.x}\")\n",
    "# print(f\"Optimal z value = {z.x}\")"
   ]
  },
  {
   "cell_type": "code",
   "execution_count": 4,
   "id": "7e1144b8",
   "metadata": {},
   "outputs": [],
   "source": [
    "# First example\n",
    "\n",
    "m = gp.Model()\n",
    "\n",
    "inf = GRB.INFINITY\n",
    "x = m.addVar(lb = -inf, vtype=GRB.CONTINUOUS)\n",
    "\n",
    "# ..."
   ]
  },
  {
   "cell_type": "code",
   "execution_count": 2,
   "id": "1157c12e-aea6-4e36-9a7e-7d8ebc057dc4",
   "metadata": {},
   "outputs": [],
   "source": [
    "from gurobipy import GRB"
   ]
  },
  {
   "cell_type": "code",
   "execution_count": 3,
   "id": "23e11416",
   "metadata": {},
   "outputs": [],
   "source": [
    "N = 15166\n",
    "B = 100\n",
    "A = 600"
   ]
  },
  {
   "cell_type": "code",
   "execution_count": null,
   "id": "2856f773-9539-4a0f-bd90-2d59c26341e0",
   "metadata": {},
   "outputs": [],
   "source": []
  },
  {
   "cell_type": "code",
   "execution_count": 4,
   "id": "2ed5d338",
   "metadata": {},
   "outputs": [],
   "source": [
    "import numpy as np\n",
    "a = np.load(\"Lab1_a.npy\")"
   ]
  },
  {
   "cell_type": "code",
   "execution_count": 5,
   "id": "908a49ea",
   "metadata": {},
   "outputs": [],
   "source": [
    "F = (N + sum(a)) / (A*B)"
   ]
  },
  {
   "cell_type": "code",
   "execution_count": 6,
   "id": "cdb3d7e8",
   "metadata": {},
   "outputs": [
    {
     "name": "stdout",
     "output_type": "stream",
     "text": [
      "Set parameter Username\n",
      "Academic license - for non-commercial use only - expires 2025-02-19\n"
     ]
    }
   ],
   "source": [
    "# # Container storage problem\n",
    "# from gurobipy import GRB\n",
    "# inf = GRB.INFINITY\n",
    "\n",
    "# m = gp.Model()\n",
    "\n",
    "# x = {i: m.addVar(vtype=GRB.INTEGER) for i in range(B)}\n",
    "\n",
    "# # ..."
   ]
  },
  {
   "cell_type": "code",
   "execution_count": 7,
   "id": "fb896a22",
   "metadata": {},
   "outputs": [],
   "source": [
    "N = 20\n",
    "M = 30\n",
    "cost = np.load(\"Lab1_cost.npy\")\n",
    "output = np.load(\"Lab1_output.npy\")\n",
    "allocation = np.load(\"Lab1_allocation.npy\")"
   ]
  },
  {
   "cell_type": "code",
   "execution_count": 6,
   "id": "003374c8",
   "metadata": {},
   "outputs": [
    {
     "name": "stdout",
     "output_type": "stream",
     "text": [
      "Set parameter Username\n",
      "Academic license - for non-commercial use only - expires 2025-02-19\n",
      "Gurobi Optimizer version 11.0.0 build v11.0.0rc2 (mac64[rosetta2] - Darwin 21.6.0 21G651)\n",
      "\n",
      "CPU model: Apple M1\n",
      "Thread count: 8 physical cores, 8 logical processors, using up to 8 threads\n",
      "\n",
      "Optimize a model with 201 rows, 200 columns and 500 nonzeros\n",
      "Model fingerprint: 0x2d0754ba\n",
      "Variable types: 100 continuous, 100 integer (0 binary)\n",
      "Coefficient statistics:\n",
      "  Matrix range     [1e+00, 1e+00]\n",
      "  Objective range  [1e+00, 1e+00]\n",
      "  Bounds range     [0e+00, 0e+00]\n",
      "  RHS range        [5e+00, 2e+04]\n",
      "Found heuristic solution: objective 31288.300007\n",
      "Presolve removed 28 rows and 27 columns\n",
      "Presolve time: 0.00s\n",
      "Presolved: 173 rows, 173 columns, 431 nonzeros\n",
      "Found heuristic solution: objective 31288.300000\n",
      "Variable types: 0 continuous, 173 integer (0 binary)\n",
      "\n",
      "Root relaxation: objective 1.307080e+03, 99 iterations, 0.00 seconds (0.00 work units)\n",
      "\n",
      "    Nodes    |    Current Node    |     Objective Bounds      |     Work\n",
      " Expl Unexpl |  Obj  Depth IntInf | Incumbent    BestBd   Gap | It/Node Time\n",
      "\n",
      "H    0     0                    1307.0800000  653.54000  50.0%     -    0s\n",
      "     0     0 1307.08000    0   82 1307.08000 1307.08000  0.00%     -    0s\n",
      "\n",
      "Explored 1 nodes (99 simplex iterations) in 0.02 seconds (0.00 work units)\n",
      "Thread count was 8 (of 8 available processors)\n",
      "\n",
      "Solution count 2: 1307.08 31288.3 \n",
      "\n",
      "Optimal solution found (tolerance 1.00e-04)\n",
      "Best objective 1.307080000000e+03, best bound 1.307080000000e+03, gap 0.0000%\n",
      "Optimal objective = 1307.0799999999992\n"
     ]
    }
   ],
   "source": [
    "# Transportation problem\n",
    "\n",
    "m = gp.Model(\"mip2\")\n",
    "inf = GRB.INFINITY\n",
    "# Create variables\n",
    "\n",
    "x = {i: m.addVar(lb = 0, vtype=GRB.INTEGER) for i in range(B)}\n",
    "# y = m.addVar(lb = -inf, vtype = GRB.CONTINUOUS, name=\"y\")\n",
    "# z = m.addVar(lb = -inf, vtype=GRB.CONTINUOUS, name=\"z\")\n",
    "z = {i: m.addVar(vtype=GRB.CONTINUOUS) for i in range(B)}\n",
    "# Set objective\n",
    "m.setObjective(gp.quicksum(z[i] for i in range(B)), GRB.MINIMIZE)\n",
    "\n",
    "# Add constraint: \n",
    "m.addConstr(gp.quicksum(x[i] for i in range(B)) == N)\n",
    "\n",
    "# Add constraint: \n",
    "for i in range(B):\n",
    "    m.addConstr(z[i] >= a[i] + x[i] - A * F)\n",
    "    m.addConstr(z[i] >= -(a[i] + x[i] - A * F))\n",
    "\n",
    "# Optimize model\n",
    "m.setParam(\"OutputFlag\", 1)\n",
    "m.optimize()\n",
    "\n",
    "print(f\"Optimal objective = {m.ObjVal}\")\n",
    "# print(f\"Optimal x value = {x.x}\")\n",
    "# print(f\"Optimal y value = {y.x}\")\n",
    "# print(f\"Optimal z value = {z.x}\")\n",
    "# ..."
   ]
  },
  {
   "cell_type": "code",
   "execution_count": null,
   "id": "b3b60904",
   "metadata": {},
   "outputs": [],
   "source": []
  }
 ],
 "metadata": {
  "kernelspec": {
   "display_name": "Python 3 (ipykernel)",
   "language": "python",
   "name": "python3"
  },
  "language_info": {
   "codemirror_mode": {
    "name": "ipython",
    "version": 3
   },
   "file_extension": ".py",
   "mimetype": "text/x-python",
   "name": "python",
   "nbconvert_exporter": "python",
   "pygments_lexer": "ipython3",
   "version": "3.11.7"
  }
 },
 "nbformat": 4,
 "nbformat_minor": 5
}
