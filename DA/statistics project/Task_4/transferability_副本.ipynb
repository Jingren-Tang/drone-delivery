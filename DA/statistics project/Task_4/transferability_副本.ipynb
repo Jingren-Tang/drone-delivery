{
 "cells": [
  {
   "cell_type": "markdown",
   "id": "8732bbae",
   "metadata": {},
   "source": [
    "# Transferability tests (t-test for individual parameter equivalence)\n",
    "\n",
    "This notebook was written by Evangelos Paschalidis (evangelos.paschalidis@epfl.ch) for the Decision-aid methodologies in transportation course at EPFL (http://edu.epfl.ch/coursebook/en/decision-aid-methodologies-in-transportation-CIVIL-557). \n",
    "\n",
    "Please contact before distributing or reusing the material below.\n",
    "\n",
    "## Overview\n",
    "\n",
    "This notebook covers the t-test for individual parameter equivalence transferability test."
   ]
  },
  {
   "cell_type": "markdown",
   "id": "2fa01775",
   "metadata": {},
   "source": [
    "## Load packages\n",
    "\n",
    "As usually, let's load some packages that we are going to need. When importing a package, it is common to rename it using an abbreviation."
   ]
  },
  {
   "cell_type": "code",
   "execution_count": 2,
   "id": "5211b4ce",
   "metadata": {},
   "outputs": [],
   "source": [
    "import pandas as pd # Usual suspect #1\n",
    "import numpy as np # Usual suspect #2\n",
    "import matplotlib.pyplot as plt # Package that will help us plot\n",
    "import seaborn as sns# Package that will help us plot a density function\n",
    "from scipy.stats import qmc # we use this to generate random numbers for simulation\n",
    "from scipy.stats import norm # normal distribution density function"
   ]
  },
  {
   "cell_type": "markdown",
   "id": "0de77860",
   "metadata": {},
   "source": [
    "## Load result data"
   ]
  },
  {
   "cell_type": "markdown",
   "id": "80759f35",
   "metadata": {},
   "source": [
    "### Load parameter estimates of estimation and application context"
   ]
  },
  {
   "cell_type": "code",
   "execution_count": 4,
   "id": "abfb43c6",
   "metadata": {},
   "outputs": [
    {
     "name": "stdout",
     "output_type": "stream",
     "text": [
      "   Parameter  Estimate   s.e.  t-ratio0  p-value  Rob s.e.  Rob t-ratio0  \\\n",
      "0  alpha_acc     1.894  0.238     7.964    0.000     0.291         6.502   \n",
      "1  alpha_dec    -2.715  0.296    -9.160    0.000     0.418        -6.499   \n",
      "2   beta_acc     0.370  0.050     7.449    0.000     0.065         5.660   \n",
      "3   beta_dec     0.106  0.045     2.349    0.019     0.054         1.946   \n",
      "4  gamma_acc     0.737  0.055    13.318    0.000     0.074         9.944   \n",
      "5  gamma_dec     0.753  0.054    14.073    0.000     0.069        10.854   \n",
      "6  lamda_acc     0.926  0.035    26.232    0.000     0.036        25.388   \n",
      "7  lamda_dec     0.923  0.033    28.227    0.000     0.038        24.201   \n",
      "8  sigma_acc    -0.248  0.008   -30.900    0.000     0.012       -20.823   \n",
      "9  sigma_dec    -0.216  0.008   -26.507    0.000     0.014       -15.858   \n",
      "\n",
      "   Rob p-value  \n",
      "0        0.000  \n",
      "1        0.000  \n",
      "2        0.000  \n",
      "3        0.052  \n",
      "4        0.000  \n",
      "5        0.000  \n",
      "6        0.000  \n",
      "7        0.000  \n",
      "8        0.000  \n",
      "9        0.000  \n",
      "   Parameter  Estimate   s.e.  t-ratio0  p-value  Rob s.e.  Rob t-ratio0  \\\n",
      "0  alpha_acc     0.627  0.262     2.394    0.017     0.275         2.283   \n",
      "1  alpha_dec    -6.147  2.576    -2.386    0.017     3.163        -1.944   \n",
      "2   beta_acc    -0.045  0.077    -0.579    0.562     0.086        -0.523   \n",
      "3   beta_dec    -0.096  0.075    -1.291    0.197     0.068        -1.428   \n",
      "4  gamma_acc     0.049  0.110     0.443    0.658     0.121         0.402   \n",
      "5  gamma_dec     0.645  0.128     5.033    0.000     0.145         4.453   \n",
      "6  lamda_acc     0.578  0.047    12.231    0.000     0.050        11.530   \n",
      "7  lamda_dec     0.595  0.063     9.477    0.000     0.061         9.721   \n",
      "8  sigma_acc     0.373  0.007    52.589    0.000     0.010        37.663   \n",
      "9  sigma_dec     0.403  0.008    49.322    0.000     0.011        36.572   \n",
      "\n",
      "   Rob p-value  \n",
      "0        0.022  \n",
      "1        0.052  \n",
      "2        0.601  \n",
      "3        0.153  \n",
      "4        0.688  \n",
      "5        0.000  \n",
      "6        0.000  \n",
      "7        0.000  \n",
      "8        0.000  \n",
      "9        0.000  \n"
     ]
    }
   ],
   "source": [
    "data_est = pd.read_csv(\"Task 1 & 2/car_following_model_lag1_results.csv\")\n",
    "data_app = pd.read_csv(\"car_following_model_US101_results.csv\")\n",
    "print(data_est)\n",
    "print(data_app)"
   ]
  },
  {
   "cell_type": "markdown",
   "id": "a9b0ff2e-cfbc-4f48-982e-80939b3cb334",
   "metadata": {},
   "source": [
    "#### We compute the t-test of individual parameter equivalence"
   ]
  },
  {
   "cell_type": "code",
   "execution_count": 5,
   "id": "45a6ec0b-c557-468f-bd0a-fa77a0088a1c",
   "metadata": {},
   "outputs": [
    {
     "name": "stdout",
     "output_type": "stream",
     "text": [
      "0     3.164475\n",
      "1     1.075693\n",
      "2     3.849695\n",
      "3     2.326300\n",
      "4     4.850727\n",
      "5     0.672561\n",
      "6     5.648279\n",
      "7     4.563927\n",
      "8   -39.755451\n",
      "9   -34.766504\n",
      "dtype: float64\n"
     ]
    }
   ],
   "source": [
    "t_test = (data_est['Estimate']-data_app['Estimate'])/np.sqrt(data_est['Rob s.e.']**2+data_app['Rob s.e.']**2)\n",
    "print(t_test)"
   ]
  },
  {
   "cell_type": "markdown",
   "id": "69347e9e-6b70-4ebe-b396-0c6d8bc7eaca",
   "metadata": {},
   "source": [
    "We notice that for some parameters the t-test has a value > 1.96 (it can also be < -1.96). We implement a few techniques to close this gap."
   ]
  },
  {
   "cell_type": "markdown",
   "id": "8098575d-dcda-41eb-94ab-43c6779a52e9",
   "metadata": {},
   "source": [
    "## Bayesian updating\n",
    "\n",
    "We implement Bayesian updating below"
   ]
  },
  {
   "cell_type": "code",
   "execution_count": 6,
   "id": "d17d17c3-ca08-49fd-9cc8-5717e73656c2",
   "metadata": {},
   "outputs": [
    {
     "name": "stdout",
     "output_type": "stream",
     "text": [
      "0    1.224712\n",
      "1   -2.773909\n",
      "2    0.219120\n",
      "3    0.027879\n",
      "4    0.549721\n",
      "5    0.733059\n",
      "6    0.807189\n",
      "7    0.831300\n",
      "8    0.118492\n",
      "9    0.166726\n",
      "dtype: float64\n"
     ]
    }
   ],
   "source": [
    "b_upt = ((data_est['Estimate']/(data_est['Rob s.e.']**2))+\n",
    "         (data_app['Estimate']/(data_app['Rob s.e.']**2)))*((\n",
    "             (1/(data_est['Rob s.e.']**2))+\n",
    "                      (1/(data_app['Rob s.e.']**2))\n",
    "             )**(-1))\n",
    "\n",
    "print(b_upt)"
   ]
  },
  {
   "cell_type": "markdown",
   "id": "d842ea6e-bba3-4876-9c9a-16802ddf7d72",
   "metadata": {},
   "source": [
    "## Combined transfer estimation\n",
    "\n",
    "We implement Combined transfer estimation below "
   ]
  },
  {
   "cell_type": "code",
   "execution_count": 7,
   "id": "b0276218-0b70-4d23-84cf-5dde2b50a1b7",
   "metadata": {},
   "outputs": [
    {
     "name": "stdout",
     "output_type": "stream",
     "text": [
      "0     0.560690\n",
      "1   -27.615777\n",
      "2    -0.064111\n",
      "3    -0.124080\n",
      "4     0.026775\n",
      "5     0.805792\n",
      "6     0.570584\n",
      "7     0.583083\n",
      "8     0.373161\n",
      "9     0.403196\n",
      "dtype: float64\n"
     ]
    }
   ],
   "source": [
    "a1 = data_est['Estimate']-data_app['Estimate']\n",
    "a2 = data_app['Estimate']-data_est['Estimate']\n",
    "\n",
    "b_upt = ((data_est['Estimate']/((data_est['Rob s.e.']**2)+a1*a2))+\n",
    "         (data_app['Estimate']/(data_app['Rob s.e.']**2)))*((\n",
    "             (1/((data_est['Rob s.e.']**2)+a1*a2))+\n",
    "                      (1/(data_app['Rob s.e.']**2))\n",
    "             )**(-1))\n",
    "\n",
    "print (b_upt)"
   ]
  },
  {
   "cell_type": "markdown",
   "id": "d3c39d56-1ac7-4200-abcb-715bb5467ab6",
   "metadata": {},
   "source": [
    "We observe that after Combined transfer estimation the data_est values get closer to the data_app values"
   ]
  }
 ],
 "metadata": {
  "kernelspec": {
   "display_name": "Python 3 (ipykernel)",
   "language": "python",
   "name": "python3"
  },
  "language_info": {
   "codemirror_mode": {
    "name": "ipython",
    "version": 3
   },
   "file_extension": ".py",
   "mimetype": "text/x-python",
   "name": "python",
   "nbconvert_exporter": "python",
   "pygments_lexer": "ipython3",
   "version": "3.8.19"
  }
 },
 "nbformat": 4,
 "nbformat_minor": 5
}
