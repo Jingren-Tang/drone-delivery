{
 "cells": [
  {
   "cell_type": "markdown",
   "id": "95c55c1a",
   "metadata": {},
   "source": [
    "## Hotel and activity coordinates"
   ]
  },
  {
   "cell_type": "code",
   "execution_count": 1,
   "id": "709a5afe-ddd0-4150-9d10-94a572bc910d",
   "metadata": {},
   "outputs": [],
   "source": [
    "# 导入必要的库\n",
    "import gurobipy as gp\n",
    "import math\n",
    "from gurobipy import Model, GRB, quicksum, tupledict\n",
    "from itertools import combinations\n",
    "import numpy as np\n",
    "import matplotlib.pyplot as plt\n",
    "import pandas as pd"
   ]
  },
  {
   "cell_type": "code",
   "execution_count": 2,
   "id": "3d064724",
   "metadata": {},
   "outputs": [],
   "source": [
    "Start = (50,50) # Hotel coordinates\n",
    "points = [(Start)] #coordinates of all activities\n",
    "Start_id = 0 # Hotel idendifier\n",
    "# points+= [(0,0), (100,100), (100,50), (50,100), (100,0), (0,100)]\n",
    "points += [(17, 72), (97, 8), (32, 15), (63, 97), (57, 60), (83, 48), (100, 26), (12, 62), (3, 49), (55, 77), \n",
    "          (97, 98), (0, 89), (57, 34), (92, 29), (75, 13), (40, 3), (2, 3), (83, 69), (1, 48), (87, 27), \n",
    "          (54, 92), (3, 67), (28, 97), (56, 63), (70, 29), (44, 29), (86, 28), (97, 58), (37, 2), (53, 71), \n",
    "          (82, 12), (23, 80), (92, 37), (15, 95), (42, 92), (91, 64), (54, 64), (85, 24), (38, 36), (75, 63), \n",
    "          (64, 50), (75, 4), (61, 31), (95, 51), (53, 85), (22, 46), (70, 89), (99, 86), (94, 47), (11, 56)]\n",
    "\n",
    "n = len(points) # total number of nodes"
   ]
  },
  {
   "cell_type": "markdown",
   "id": "52a83d46",
   "metadata": {},
   "source": [
    "## Distance and time from node i to node j"
   ]
  },
  {
   "cell_type": "code",
   "execution_count": 3,
   "id": "2647f2b8",
   "metadata": {},
   "outputs": [],
   "source": [
    "# A dictionary of distance between two activities (i,j) \n",
    "distance = {(i, j):\n",
    "        math.sqrt(sum((points[i][k]-points[j][k])**2 for k in range(2)))\n",
    "        for i in range(n) for j in range(n)}"
   ]
  },
  {
   "cell_type": "code",
   "execution_count": 4,
   "id": "008a4a42-b5d1-49ec-a3c9-1ec2fedafb23",
   "metadata": {},
   "outputs": [
    {
     "name": "stdout",
     "output_type": "stream",
     "text": [
      "39.66106403010388\n"
     ]
    }
   ],
   "source": [
    "print(distance[1,0])"
   ]
  },
  {
   "cell_type": "markdown",
   "id": "86968461",
   "metadata": {},
   "source": [
    "## Utility or reward to do an activity"
   ]
  },
  {
   "cell_type": "code",
   "execution_count": 5,
   "id": "37940ef3",
   "metadata": {},
   "outputs": [],
   "source": [
    "reward = {46: 43.15033999478041, 50: 20.948831277616726, 8: 17.263102417797167, 1: 21.18033988749895, \n",
    "          32: 27.72004514666935, 23: 30.872991584635255, 34: 29.308440859369416, 12: 38.35909773257803, \n",
    "          22: 40.20360331117452, 9: 20.23606797749979, 19: 47.24717771720739, 17: 80.0253925397308, \n",
    "          29: 38.176560460191574, 16: 17.584482762024336, 3: 32.86129401644173, 26: 27.65863337187866, \n",
    "          39: 27.65863337187866, 41: 33.1049731745428, 6: 36.99351699454112, 36: 26.373825194236886, \n",
    "          28: 15.765391263519088, 44: 11.403215514898179, 49: 14.32114465280323, 33: 21.014692853577536, \n",
    "          27: 14.939759452009628, 38: 7.728656901081649, 20: 8.990716082598492, 14: 13.929168552452033, \n",
    "          7: 26.792291336212188, 2: 33.77246228715468, 31: 26.154320508994672, 42: 19.63014581273465, \n",
    "          15: 25.76305461424021, 25: 25.982599071533098, 43: 14.219544457292887, 13: 22.46424919657298, \n",
    "          40: 38.17800560721074, 18: 33.3452350598575, 48: 35.510760120453945, 11: 40.626024002111855, \n",
    "          47: 39.090644754250064, 4: 20.92577595372165, 21: 22.295630140987, 35: 25.038404810405297, \n",
    "          45: 21.28461606164062, 10: 14.57076657157208, 30: 13.395623132202235, 37: 9.307135789365265, \n",
    "          24: 5.39834563766817, 5: 15.368833275902082}\n",
    "\n",
    "# reward = {1:10,2:20,3:30,4:40,5:50,6:60}\n",
    "reward[Start_id] = 0\n"
   ]
  },
  {
   "cell_type": "markdown",
   "id": "9f317891",
   "metadata": {},
   "source": [
    "## Time windows"
   ]
  },
  {
   "cell_type": "code",
   "execution_count": 6,
   "id": "ee486ba6",
   "metadata": {},
   "outputs": [],
   "source": [
    "early = {46: 0, 50: 0, 8: 12, 1: 22, 32: 39, 23: 53, 34: 69, 12: 91, 22: 109, 9: 111, 19: 156, 17: 191, 29: 194, 16: 209, 3: 227, 26: 236, 39: 255, 41: 274, 6: 292, 36: 300, 28: 308, 44: 312, 49: 322, 33: 333, 27: 337, 38: 340, 20: 346, 14: 354, 7: 373, 2: 388, 31: 399, 42: 408, 15: 425, 25: 434, 43: 439, 13: 456, 40: 466, 18: 490, 48: 502, 11: 530, 47: 541, 4: 551, 21: 563, 35: 576, 45: 584, 10: 591, 30: 598, 37: 600, 24: 603, 5: 615}\n",
    "late = {46: 35, 50: 41, 8: 53, 1: 63, 32: 80, 23: 94, 34: 110, 12: 132, 22: 150, 9: 152, 19: 197, 17: 232, 29: 235, 16: 250, 3: 268, 26: 277, 39: 296, 41: 315, 6: 333, 36: 341, 28: 349, 44: 353, 49: 363, 33: 374, 27: 378, 38: 381, 20: 387, 14: 395, 7: 414, 2: 429, 31: 440, 42: 449, 15: 466, 25: 475, 43: 480, 13: 497, 40: 507, 18: 531, 48: 543, 11: 571, 47: 582, 4: 592, 21: 604, 35: 617, 45: 625, 10: 632, 30: 639, 37: 641, 24: 644, 5: 656}\n",
    "# early = {1:0, 2:10, 3:20, 4:30, 5:40, 6:50}\n",
    "# late = {1:10, 2:20, 3:30, 4:40, 5:50, 6:60}\n",
    "# early = {}\n",
    "# late = {}\n",
    "# for i in range(1,7):\n",
    "#     early[i]=1\n",
    "#     late[i]=200\n",
    "early[0]=1\n",
    "late[0]=10000000\n",
    "# print(early)"
   ]
  },
  {
   "cell_type": "markdown",
   "id": "5611a99a",
   "metadata": {},
   "source": [
    "## Groups of activities"
   ]
  },
  {
   "cell_type": "code",
   "execution_count": 7,
   "id": "7485db76",
   "metadata": {},
   "outputs": [],
   "source": [
    "Dining = [i for i in range(len(points)) if i % 3 == 0 and i != 0]\n",
    "Sightseeing = [i for i in range(len(points)) if i % 3 == 1]\n",
    "Recreational = [i for i in range(len(points)) if i % 3 == 2]\n",
    "G = [Dining, Sightseeing, Recreational]"
   ]
  },
  {
   "cell_type": "markdown",
   "id": "9beecd95",
   "metadata": {},
   "source": [
    "## Budget"
   ]
  },
  {
   "cell_type": "code",
   "execution_count": 8,
   "id": "84c05e6d",
   "metadata": {},
   "outputs": [],
   "source": [
    "B = 300\n",
    "cost = {e:2 for e in range(1,n)}\n",
    "cost[0] = 0"
   ]
  },
  {
   "cell_type": "code",
   "execution_count": 9,
   "id": "256e35aa-8493-414a-8a26-7717a260db99",
   "metadata": {},
   "outputs": [
    {
     "name": "stdout",
     "output_type": "stream",
     "text": [
      "{1: 2, 2: 2, 3: 2, 4: 2, 5: 2, 6: 2, 7: 2, 8: 2, 9: 2, 10: 2, 11: 2, 12: 2, 13: 2, 14: 2, 15: 2, 16: 2, 17: 2, 18: 2, 19: 2, 20: 2, 21: 2, 22: 2, 23: 2, 24: 2, 25: 2, 26: 2, 27: 2, 28: 2, 29: 2, 30: 2, 31: 2, 32: 2, 33: 2, 34: 2, 35: 2, 36: 2, 37: 2, 38: 2, 39: 2, 40: 2, 41: 2, 42: 2, 43: 2, 44: 2, 45: 2, 46: 2, 47: 2, 48: 2, 49: 2, 50: 2, 0: 0}\n"
     ]
    }
   ],
   "source": [
    "print(cost)"
   ]
  },
  {
   "cell_type": "code",
   "execution_count": 10,
   "id": "90cdf658-26de-49cb-8621-ad6d3f02898a",
   "metadata": {},
   "outputs": [
    {
     "name": "stdout",
     "output_type": "stream",
     "text": [
      "21.18033988749895\n"
     ]
    }
   ],
   "source": [
    "print(reward[1])\n"
   ]
  },
  {
   "cell_type": "code",
   "execution_count": 11,
   "id": "4e65a4a1-3883-4080-b8da-5b03c562ca9b",
   "metadata": {},
   "outputs": [
    {
     "name": "stdout",
     "output_type": "stream",
     "text": [
      "[[3, 6, 9, 12, 15, 18, 21, 24, 27, 30, 33, 36, 39, 42, 45, 48], [1, 4, 7, 10, 13, 16, 19, 22, 25, 28, 31, 34, 37, 40, 43, 46, 49], [2, 5, 8, 11, 14, 17, 20, 23, 26, 29, 32, 35, 38, 41, 44, 47, 50]]\n"
     ]
    }
   ],
   "source": [
    "print(G)"
   ]
  },
  {
   "cell_type": "code",
   "execution_count": 12,
   "id": "756bd56e-4102-4f81-8b88-9ebe3294c05f",
   "metadata": {},
   "outputs": [],
   "source": [
    "# Plots a TSP solution\n",
    "\n",
    "def figure_TSP(sol):\n",
    "    ax = plt.gca() #get cuttent axis\n",
    "    ax.cla() # clear things for fresh plot\n",
    "\n",
    "    # change default range\n",
    "    ax.set_xlim((0, 105))\n",
    "    ax.set_ylim((0, 105))\n",
    "    a = []\n",
    "    b = []\n",
    "    \n",
    "    for i in sol:\n",
    "        a = np.append(a, points[i][1])\n",
    "        b = np.append(b, points[i][0])\n",
    "    \n",
    "    a = np.append(a, points[sol[0]][1])\n",
    "    b = np.append(b, points[sol[0]][0]) \n",
    "    ax.plot(a,b)\n",
    "    \n",
    "    for i in sol:\n",
    "        ax.plot(points[i][1], points[i][0], 'o',color = 'r')\n",
    "        ax.text(points[i][1], points[i][0], str(i), color='black', fontsize=12)\n",
    "    plt.show() "
   ]
  },
  {
   "cell_type": "code",
   "execution_count": 13,
   "id": "f08c9cee-9afc-490d-b5a1-8d5d3a3ca072",
   "metadata": {},
   "outputs": [
    {
     "data": {
      "image/png": "[encoded data removed]",
      "text/plain": [
       "<Figure size 640x480 with 1 Axes>"
      ]
     },
     "metadata": {},
     "output_type": "display_data"
    }
   ],
   "source": [
    "# 绘制输入图形\n",
    "x = [el[1] for el in points]\n",
    "y = [el[0] for el in points]\n",
    "\n",
    "\n",
    "plt.scatter([x[i] for i in Dining], [y[i] for i in Dining], color='r', label='Dining')\n",
    "plt.scatter([x[i] for i in Sightseeing], [y[i] for i in Sightseeing], color='y', label='Sightseeing')\n",
    "plt.scatter([x[i] for i in Recreational], [y[i] for i in Recreational], color='g', label='Recreational')\n",
    "\n",
    "ax = plt.gca()\n",
    "ax.plot(points[Start_id][1], points[Start_id][0], 's', color='black')\n",
    "\n",
    "plt.legend()\n",
    "plt.show()\n"
   ]
  },
  {
   "cell_type": "code",
   "execution_count": null,
   "id": "b96e1ee5-59cc-4dbd-93c3-c27f1a3f7661",
   "metadata": {},
   "outputs": [],
   "source": []
  },
  {
   "cell_type": "code",
   "execution_count": 14,
   "id": "7c3369dd-07dd-45a2-853f-4c29a58804d5",
   "metadata": {},
   "outputs": [
    {
     "ename": "NameError",
     "evalue": "name 'budget' is not defined",
     "output_type": "error",
     "traceback": [
      "\u001b[0;31m---------------------------------------------------------------------------\u001b[0m",
      "\u001b[0;31mNameError\u001b[0m                                 Traceback (most recent call last)",
      "Cell \u001b[0;32mIn[14], line 63\u001b[0m\n\u001b[1;32m     60\u001b[0m     \u001b[38;5;28;01mreturn\u001b[39;00m path, total_reward \u001b[38;5;241m-\u001b[39m total_cost\n\u001b[1;32m     62\u001b[0m \u001b[38;5;66;03m# 使用正确初始化的数据字典调用函数\u001b[39;00m\n\u001b[0;32m---> 63\u001b[0m path, net_reward \u001b[38;5;241m=\u001b[39m heuristic_itinerary(points, distance, Start_id, cost, budget, early, late, Dining, Recreational, Sightseeing, reward, n)\n\u001b[1;32m     64\u001b[0m \u001b[38;5;28mprint\u001b[39m(\u001b[38;5;124m\"\u001b[39m\u001b[38;5;124mPath:\u001b[39m\u001b[38;5;124m\"\u001b[39m, path)\n\u001b[1;32m     65\u001b[0m \u001b[38;5;28mprint\u001b[39m(\u001b[38;5;124m\"\u001b[39m\u001b[38;5;124mNet Reward:\u001b[39m\u001b[38;5;124m\"\u001b[39m, net_reward)\n",
      "\u001b[0;31mNameError\u001b[0m: name 'budget' is not defined"
     ]
    }
   ],
   "source": [
    "def heuristic_itinerary(points, distance, start_id, cost, budget, early, late, Dining, Recreational, Sightseeing, reward, n):\n",
    "    current_position = start_id\n",
    "    path = [start_id]  # Starting at the hotel\n",
    "    total_cost = 0\n",
    "    total_time = 0\n",
    "    total_reward = reward[start_id]  # Initialize reward with the start point's reward\n",
    "    visited = {start_id}  # Keep track of visited points\n",
    "    activities_count = {'Dining': 0, 'Recreational': 0, 'Sightseeing': 0}\n",
    "    activity_limits = {'Dining': 2, 'Recreational': 1, 'Sightseeing': 1}\n",
    "    need_dining_next = False  # Flag to enforce a Dining activity next if needed\n",
    "\n",
    "    # Define activity types based on IDs for easy checking\n",
    "    activity_type_by_id = {i: 'Dining' if i in Dining else 'Recreational' if i in Recreational else 'Sightseeing' for i in range(1, n)}\n",
    "\n",
    "    while not all(activities_count[atype] >= limit for atype, limit in activity_limits.items()):\n",
    "        next_activity = None\n",
    "        best_value = float('-inf')\n",
    "\n",
    "        for i in range(1, n):\n",
    "        \n",
    "            if i != current_position and i not in visited:\n",
    "                if need_dining_next and activity_type_by_id[i] != 'Dining':\n",
    "                    continue  # Skip non-Dining activities if a Dining activity is required next\n",
    "\n",
    "                if activities_count[activity_type_by_id[i]] >= activity_limits[activity_type_by_id[i]]:\n",
    "                    continue  # Skip activities exceeding the limit\n",
    "                \n",
    "\n",
    "\n",
    "                additional_cost = cost[i] + distance[(current_position, i)]\n",
    "                additional_time = distance[(current_position, i)]\n",
    "                if total_cost + additional_cost > budget:\n",
    "                    continue  # Skip activities that exceed budget\n",
    "\n",
    "                if early[i] <= total_time + additional_time <= late[i]:\n",
    "                    value = reward[i] - additional_cost\n",
    "                    if value > best_value:\n",
    "                        next_activity = i\n",
    "                        best_value = value\n",
    "\n",
    "        # print(need_dining_next)\n",
    "        # print(next_activity)\n",
    "        path.append(next_activity)\n",
    "        visited.add(next_activity)\n",
    "        total_cost += cost[next_activity] + distance[(current_position, next_activity)]\n",
    "        total_reward += reward[next_activity]\n",
    "        current_position = next_activity\n",
    "\n",
    "        # Update activities count and check if next activity must be Dining\n",
    "        activities_count[activity_type_by_id[next_activity]] += 1\n",
    "        if activity_type_by_id[next_activity] != 'Dining':\n",
    "            need_dining_next = True  # Set the flag if the selected activity isn't Dining\n",
    "        else:\n",
    "            need_dining_next = False  # Reset the flag if Dining is chosen\n",
    "\n",
    "    if current_position != start_id:\n",
    "        path.append(start_id)\n",
    "        total_cost += distance[(current_position, start_id)]\n",
    "\n",
    "    return path, total_reward - total_cost\n",
    "\n",
    "# 使用正确初始化的数据字典调用函数\n",
    "path, net_reward = heuristic_itinerary(points, distance, Start_id, cost, budget, early, late, Dining, Recreational, Sightseeing, reward, n)\n",
    "print(\"Path:\", path)\n",
    "print(\"Net Reward:\", net_reward)\n"
   ]
  },
  {
   "cell_type": "code",
   "execution_count": null,
   "id": "9497ff4c-f985-4e35-bb4f-96f7a9aaac22",
   "metadata": {},
   "outputs": [],
   "source": [
    "# Dynamic programming to solve the TSP (see Excercises week 3)\n",
    "\n",
    "class Label:\n",
    "    parent = None\n",
    "    customer= None\n",
    "    cost = 0.0\n",
    "    time = 0.0\n",
    "    distance = 0\n",
    "    utility = 0\n",
    "    def __init__(self, l=None, node=0):\n",
    "        self.customer = node\n",
    "        if l:\n",
    "            self.cost = l.cost + distance[(l.customer, node)] + cost_dict[node]\n",
    "            self.time = resource_extension_T(l, node)\n",
    "            self.utility = l.utility + reward[node] - distance[(l.customer, node)] - cost_dict[node]\n",
    "            self.distance = l.distance + distance[(l.customer, node)]\n",
    "            \n",
    "            activity_type = get_activity_type(node)\n",
    "            if activity_type:  # Ensure activity_type is not None before accessing the dictionary\n",
    "                self.activities_count = dict(l.activities_count)\n",
    "                self.activities_count[activity_type] = self.activities_count.get(activity_type, 0) + 1\n",
    "                self.last_activity = activity_type\n",
    "            else:\n",
    "                self.activities_count = dict(l.activities_count)\n",
    "                self.last_activity = None\n",
    "            \n",
    "        else:\n",
    "            self.activities_count = {'Dining': 0, 'Recreational': 0, 'Sightseeing': 0, 'Other': 0}\n",
    "            self.last_activity = None\n",
    "        self.parent = l\n",
    "\n",
    "\n",
    "\n",
    "def get_activity_type(node):\n",
    "    if node in Dining:\n",
    "        return 'Dining'\n",
    "    elif node in Sightseeing:\n",
    "        return 'Sightseeing'\n",
    "    elif node in Recreational:\n",
    "        return 'Recreational'\n",
    "    return 'Other'  # Return a default category if no match is found\n",
    "\n",
    "\n",
    "# Resource extension\n",
    "def resource_extension_T(l, node):\n",
    "    \"\"\"Return resorces used so far\"\"\"\n",
    "    return l.time + distance[(l.customer,node)]\n",
    "\n",
    "# Feasibilty check\n",
    "def feasible(l, i):\n",
    "    \"\"\"Returns if extending from label l to node i is feasible\"\"\"\n",
    "    # #Is it feasible to go to node i from label l?\n",
    "    # if l.customer == i:\n",
    "    #     return False\n",
    "    # if i !=0 and distance[(l.customer,i)] +l.time < early[i]:\n",
    "    #     return False\n",
    "    # if i !=0 and distance[(l.customer,i)] +l.time > late[i]:\n",
    "    #     return False\n",
    "    # if l.cost + distance[(l.customer,i)] + cost_dict[i] > B:\n",
    "    #     return False\n",
    "\n",
    "    #     # Check for returning to start location with incomplete mandatory activities\n",
    "    # if i == Start_id:\n",
    "    #     # Must complete two Dining, one Recreational, and one Sightseeing before returning\n",
    "    #     if l.activities_count['Dining'] < 2 or l.activities_count['Recreational'] < 1 or l.activities_count['Sightseeing'] < 1:\n",
    "    #         return False\n",
    "\n",
    "    # if l.activities_count['Dining'] >= 2 and i != Start_id:\n",
    "    #     return False\n",
    "    # if l.customer == Start_id and i == Start_id:\n",
    "    #     return False\n",
    "    # if l.last_activity in [Recreational, Sightseeing] and i not in Dining:\n",
    "    #     return False\n",
    "    \n",
    "    # if i in Recreational and l.activities_count['Recreational'] >= 1:\n",
    "    #     return False\n",
    "    # if i in Sightseeing and l.activities_count['Sightseeing'] >= 1:\n",
    "    #     return False\n",
    "\n",
    "    return True\n",
    "\n",
    "\n",
    "# alot of acitivity contraints to be added \n",
    "\n",
    "\n",
    "\n",
    "#dominance\n",
    "def dominance(l1,l2):\n",
    "    \"\"\"Retuns true if l1 dominates l2\"\"\"\n",
    "    if l1.utility >= l2.utility:\n",
    "        return True\n",
    "    return False\n",
    "\n",
    "def labeling_algorithm():\n",
    "    l0 = Label()\n",
    "    M = {(k,i): [] for k in range(n) for i in range(n)}\n",
    "    M[(0,0)].append(l0)\n",
    "\n",
    "    for k in range(1, n): \n",
    "\n",
    "        ## k is the number of nodes visited\n",
    "        for i in range(n):\n",
    "            \n",
    "            ## i is the current node\n",
    "            for j in range(1, n):\n",
    "                \n",
    "                ## j is the new node to extend to\n",
    "                if j == i: \n",
    "                    # the new node is different than the current node\n",
    "                    continue\n",
    "              \n",
    "                for l in M[(k-1,i)]:\n",
    "                    #print(\"mkij\", k,i,j)\n",
    "                    # l is all the labels stored in this bucket\n",
    "                    if feasible(l,j):\n",
    "                        l2 = Label(l,j) #extend label\n",
    "                        dominated = False\n",
    "                        for l1 in M[(k,j)]:\n",
    "                            if dominance(l1, l2):\n",
    "                                dominated = True\n",
    "                            elif dominance(l2, l1):\n",
    "                                ## if l1 is dominated then we need to delete l1\n",
    "                                M[(k,j)].remove(l1)\n",
    "                            if dominated:\n",
    "                                break\n",
    "                        if not dominated:\n",
    "                            #if l2 is not dominated add to list of labels\n",
    "                            M[(k,j)].append(l2)       \n",
    "    return best_label(M)\n",
    "\n",
    "def best_label(M):\n",
    "    # 初始化最佳标签和最高效用为负无限大，以便任何实际效用都会更高\n",
    "    best_l = None\n",
    "    highest_utility = float('-inf')\n",
    "\n",
    "    # 遍历字典 M 中的所有标签\n",
    "    for k in range(1, n):\n",
    "        for i in range(1, n):\n",
    "            for label in M[(k, i)]:\n",
    "                # 检查当前标签的效用是否比已知的最高效用还要高\n",
    "                if label.utility > highest_utility:\n",
    "                    best_l = label\n",
    "                    highest_utility = label.utility\n",
    "\n",
    "    # 如果找到了最佳标签，则返回\n",
    "    if best_l is not None:\n",
    "        print(\"Best label found with utility: \", highest_utility)\n",
    "        return best_l\n",
    "    else:\n",
    "        print(\"No valid label found\")\n",
    "        return None\n",
    "\n",
    "# def best_label(M={}):\n",
    "#     \"\"\"Find the label with the shortest path back to the depot \"\"\"\n",
    "#     best_l = Label()\n",
    "#     best_utility = 0\n",
    "#     for k in range(1,n):\n",
    "#         for i in range(1,n):\n",
    "#             for l in M[(k,i)]:\n",
    "#                 print(l)\n",
    "#                 a = reward[Start_id] - distance[(l.customer, Start_id)] \n",
    "#                 b = reward[Start_id] - distance[(best_l.customer, Start_id)] \n",
    "#                 if l.utility + a > best_l.utility +b:\n",
    "#                     best_l = l\n",
    "#                     best_utility = l.utility + a\n",
    "#     print(\"Solution value: \", best_utility)\n",
    "#     return best_l\n",
    "# l = labeling_algorithm() #find the label with the cheapest path"
   ]
  },
  {
   "cell_type": "code",
   "execution_count": null,
   "id": "544538e1-185f-4cef-9e61-d099068b2e22",
   "metadata": {},
   "outputs": [],
   "source": []
  },
  {
   "cell_type": "code",
   "execution_count": null,
   "id": "52b39b85-8b10-4968-a0d6-6e00f677c3bc",
   "metadata": {},
   "outputs": [],
   "source": []
  },
  {
   "cell_type": "code",
   "execution_count": null,
   "id": "40960869-84f6-477a-903a-c8685eb0618a",
   "metadata": {},
   "outputs": [],
   "source": []
  },
  {
   "cell_type": "code",
   "execution_count": null,
   "id": "25012e4e-58ce-48aa-a69f-232e6506280d",
   "metadata": {},
   "outputs": [],
   "source": []
  },
  {
   "cell_type": "code",
   "execution_count": null,
   "id": "5c131988-78a5-41ca-ad92-9b45571c8e58",
   "metadata": {},
   "outputs": [],
   "source": []
  },
  {
   "cell_type": "code",
   "execution_count": null,
   "id": "af6a8799-7a39-460c-8fad-74f3f2eeafb1",
   "metadata": {},
   "outputs": [],
   "source": []
  },
  {
   "cell_type": "code",
   "execution_count": null,
   "id": "25739c8f-f995-4932-8b17-87507d6c64c3",
   "metadata": {},
   "outputs": [],
   "source": [
    "\n"
   ]
  },
  {
   "cell_type": "code",
   "execution_count": null,
   "id": "bd7d8e19-0ce4-4e40-b709-69fbbeaa847d",
   "metadata": {},
   "outputs": [],
   "source": []
  },
  {
   "cell_type": "code",
   "execution_count": null,
   "id": "e96e229a-5b1f-403c-be51-f71a500e4074",
   "metadata": {},
   "outputs": [],
   "source": []
  },
  {
   "cell_type": "code",
   "execution_count": null,
   "id": "2a5d3181-7fd4-44f5-8c1a-2f07e99df41b",
   "metadata": {},
   "outputs": [],
   "source": []
  },
  {
   "cell_type": "code",
   "execution_count": 1,
   "id": "742c13d0-032d-431f-98d8-8a089d235618",
   "metadata": {},
   "outputs": [
    {
     "ename": "NameError",
     "evalue": "name 'points' is not defined",
     "output_type": "error",
     "traceback": [
      "\u001b[0;31m---------------------------------------------------------------------------\u001b[0m",
      "\u001b[0;31mNameError\u001b[0m                                 Traceback (most recent call last)",
      "Cell \u001b[0;32mIn[1], line 2\u001b[0m\n\u001b[1;32m      1\u001b[0m \u001b[38;5;66;03m# Number of points or activities\u001b[39;00m\n\u001b[0;32m----> 2\u001b[0m n \u001b[38;5;241m=\u001b[39m \u001b[38;5;28mlen\u001b[39m(points)  \u001b[38;5;66;03m# Assuming 'points' contains all your locations including the hotel\u001b[39;00m\n\u001b[1;32m      3\u001b[0m x \u001b[38;5;241m=\u001b[39m np\u001b[38;5;241m.\u001b[39mzeros(n, dtype\u001b[38;5;241m=\u001b[39m\u001b[38;5;28mint\u001b[39m)\n\u001b[1;32m      4\u001b[0m \u001b[38;5;66;03m# Transition variables between activities\u001b[39;00m\n\u001b[1;32m      5\u001b[0m \u001b[38;5;66;03m# Binary variable for each pair of activities, 1 if transitioning directly from i to j, 0 otherwise\u001b[39;00m\n",
      "\u001b[0;31mNameError\u001b[0m: name 'points' is not defined"
     ]
    }
   ],
   "source": [
    "# Number of points or activities\n",
    "n = len(points)  # Assuming 'points' contains all your locations including the hotel\n",
    "x = np.zeros(n, dtype=int)\n",
    "# Transition variables between activities\n",
    "# Binary variable for each pair of activities, 1 if transitioning directly from i to j, 0 otherwise\n",
    "y = np.zeros((n, n), dtype=int)\n",
    "t = np.zeros(n, dtype=float)\n",
    "\n",
    "def evaluate_objective(x, y, reward, cost, distance):\n",
    "    total_rewards = sum(reward[i] * x[i] for i in range(len(x)))\n",
    "    total_activity_costs = sum(cost[i] * x[i] for i in range(1, len(x)))\n",
    "    total_transition_costs = sum(distance[(i, j)] * y[i, j] for i in range(len(y)) for j in range(len(y[i])) if i != j)\n",
    "    return total_rewards - total_activity_costs - total_transition_costs\n",
    "def apply_no_self_loop_constraint(y):\n",
    "    for i in range(len(y)):\n",
    "        y[i, i] = 0\n",
    "\n",
    "def enforce_flow_conservation(y):\n",
    "    n = len(y)\n",
    "    for i in range(n):\n",
    "        inflow = sum(y[j][i] for j in range(n))\n",
    "        outflow = sum(y[i][j] for j in range(n))\n",
    "        if inflow != outflow:\n",
    "            return False  # Constraint violated\n",
    "    return True  # All constraints satisfied\n",
    "\n",
    "def enforce_selection_consistency(x, y):\n",
    "    n = len(x)\n",
    "    for i in range(n):\n",
    "        # Check if the sum of y[i, j] for all j equals x[i]\n",
    "        if sum(y[i][j] for j in range(n)) != x[i]:\n",
    "            return False\n",
    "        # Check if the sum of y[j, i] for all j equals x[i]\n",
    "        if sum(y[j][i] for j in range(n)) != x[i]:\n",
    "            return False\n",
    "    return True  # All constraints satisfied\n",
    "\n",
    "def check_budget_constraint(x, y, cost, distance, B):\n",
    "    total_activity_costs = sum(cost[i] * x[i] for i in range(1, len(x)))\n",
    "    total_transition_costs = sum(distance[(i, j)] * y[i, j] for i in range(len(y)) for j in range(len(y[i])) if i != j)\n",
    "    return (total_activity_costs + total_transition_costs) <= B\n",
    "\n",
    "def check_time_windows(x, t, early, late):\n",
    "    for i in range(1, len(x)):\n",
    "        if x[i] == 1:\n",
    "            if not (early[i] <= t[i] <= late[i]):\n",
    "                return False\n",
    "    return True\n",
    "\n",
    "def check_transition_times(x, y, t, distance):\n",
    "    for i in range(len(y)):\n",
    "        for j in range(len(y[i])):\n",
    "            if i != j and y[i][j] == 1:\n",
    "                if i == 0:\n",
    "                    if t[j] < 0 + distance[(i, j)]:\n",
    "                        return False\n",
    "                else:\n",
    "                    if t[j] < t[i] + distance[(i, j)]:\n",
    "                        return False\n",
    "    return True\n",
    "\n",
    "def check_dining_follows(x, y, Recreational, Sightseeing, Dining):\n",
    "    for i in range(1, len(x)):\n",
    "        if i in Recreational or i in Sightseeing:\n",
    "            if x[i] == 1:  # If activity i is selected\n",
    "                if sum(y[i][j] for j in Dining) < 1:\n",
    "                    return False\n",
    "    return True\n",
    "\n",
    "def check_one_activity_per_group(x, group):\n",
    "    return sum(x[i] for i in group) == 1\n",
    "\n",
    "def check_two_dining_activities(x, Dining):\n",
    "    return sum(x[i] for i in Dining) == 2\n",
    "\n",
    "def check_start_from_hotel(y, Start_id):\n",
    "    return sum(y[Start_id][j] for j in range(len(y))) == 1\n",
    "\n",
    "def check_end_at_hotel(y, Start_id):\n",
    "    return sum(y[i][Start_id] for i in range(len(y))) == 1\n"
   ]
  },
  {
   "cell_type": "code",
   "execution_count": null,
   "id": "5a4dd54c-24dd-45bf-a40a-54750657a0c7",
   "metadata": {},
   "outputs": [],
   "source": [
    "apply_no_self_loop_constraint(y)\n",
    "# Example use of constraint checks:\n",
    "flow_ok = enforce_flow_conservation(y)\n",
    "selection_ok = enforce_selection_consistency(x, y)\n",
    "budget_ok = check_budget_constraint(x, y, cost, distance, B)\n",
    "time_window_ok = check_time_windows(x, t, early, late)\n",
    "transition_time_ok = check_transition_times(x, y, t, distance)\n",
    "dining_follows_ok = check_dining_follows(x, y, Recreational, Sightseeing, Dining)\n",
    "recreational_ok = check_one_activity_per_group(x, Recreational)\n",
    "sightseeing_ok = check_one_activity_per_group(x, Sightseeing)\n",
    "dining_ok = check_two_dining_activities(x, Dining)\n",
    "start_from_hotel_ok = check_start_from_hotel(y, Start_id)\n",
    "end_at_hotel_ok = check_end_at_hotel(y, Start_id)"
   ]
  },
  {
   "cell_type": "code",
   "execution_count": null,
   "id": "9eb73311-91a2-4e08-bb9f-4a4908daee29",
   "metadata": {},
   "outputs": [],
   "source": [
    "def random_initial_solution(n, Dining, Recreational, Sightseeing):\n",
    "    x = np.zeros(n, dtype=int)\n",
    "    y = np.zeros((n, n), dtype=int)\n",
    "    t = np.zeros(n, dtype=float)\n",
    "    \n",
    "    # Randomly select one activity from each category, except Dining where we select two\n",
    "    selected_recreational = random.choice(Recreational)\n",
    "    selected_sightseeing = random.choice(Sightseeing)\n",
    "    selected_dining = random.sample(Dining, 2)\n",
    "\n",
    "    activities = [selected_recreational, selected_sightseeing] + selected_dining\n",
    "    for act in activities:\n",
    "        x[act] = 1\n",
    "    \n",
    "    # Create a simple valid route starting and ending at the hotel\n",
    "    route = [0] + activities + [0]\n",
    "    for i in range(len(route) - 1):\n",
    "        y[route[i], route[i + 1]] = 1\n",
    "        t[route[i + 1]] = t[route[i]] + distance[(route[i], route[i + 1])]  # Simplistic time calculation\n",
    "\n",
    "    return x, y, t\n",
    "\n",
    "def valid_solution(x, y, t):\n",
    "    if not all([check_start_from_hotel(y, Start_id),\n",
    "                check_end_at_hotel(y, Start_id),\n",
    "                enforce_flow_conservation(y),\n",
    "                enforce_selection_consistency(x, y),\n",
    "                check_budget_constraint(x, y, cost, distance, B),\n",
    "                check_time_windows(x, t, early, late),\n",
    "                check_transition_times(x, y, t, distance),\n",
    "                check_dining_follows(x, y, Recreational, Sightseeing, Dining),\n",
    "                check_one_activity_per_group(x, Recreational),\n",
    "                check_one_activity_per_group(x, Sightseeing),\n",
    "                check_two_dining_activities(x, Dining)]):\n",
    "        return False\n",
    "    return True\n",
    "\n",
    "def vns(n, Dining, Recreational, Sightseeing, max_iterations=100):\n",
    "    x, y, t = random_initial_solution(n, Dining, Recreational, Sightseeing)\n",
    "    \n",
    "    if not valid_solution(x, y, t):\n",
    "        return \"No valid initial solution found.\"\n",
    "\n",
    "    current_best = (x, y, t)\n",
    "    iteration = 0\n",
    "\n",
    "    while iteration < max_iterations:\n",
    "        k = 1  # Initial neighborhood size\n",
    "        while k < 4:  # Increase the neighborhood size\n",
    "            new_x, new_y, new_t = perturb_solution(current_best, k, n, Dining, Recreational, Sightseeing)\n",
    "            if valid_solution(new_x, new_y, new_t):\n",
    "                current_best = (new_x, new_y, new_t)\n",
    "                k = 1  # Reset neighborhood size if an improvement is found\n",
    "            else:\n",
    "                k += 1\n",
    "        iteration += 1\n",
    "    \n",
    "    return current_best\n",
    "\n",
    "def perturb_solution(solution, k, n, Dining, Recreational, Sightseeing):\n",
    "    x, y, t = solution\n",
    "    # Implement a method to perturb the solution based on neighborhood size `k`\n",
    "    # This could involve swapping activities, changing the order, etc.\n",
    "    # Make sure to maintain the validity of the solution structure (especially with y and t)\n",
    "\n",
    "    # For simplicity, here's a placeholder for how you might start:\n",
    "    if k == 1:  # Simple perturbation\n",
    "        pass\n",
    "    elif k == 2:  # More complex perturbation\n",
    "        pass\n",
    "    elif k == 3:  # Even more complex perturbation\n",
    "        pass\n",
    "\n",
    "    return x, y, t\n",
    "# Run the VNS algorithm\n",
    "best_solution = vns(n, Dining, Recreational, Sightseeing)\n",
    "print(\"Best Solution Found:\", best_solution)"
   ]
  },
  {
   "cell_type": "code",
   "execution_count": null,
   "id": "290cc410-1a12-4346-8125-f58853f07dba",
   "metadata": {},
   "outputs": [],
   "source": []
  },
  {
   "cell_type": "code",
   "execution_count": null,
   "id": "0499fd1c",
   "metadata": {},
   "outputs": [],
   "source": []
  },
  {
   "cell_type": "code",
   "execution_count": null,
   "id": "74c8d0a9",
   "metadata": {},
   "outputs": [],
   "source": []
  },
  {
   "cell_type": "code",
   "execution_count": null,
   "id": "69e6160f",
   "metadata": {},
   "outputs": [],
   "source": []
  },
  {
   "cell_type": "code",
   "execution_count": null,
   "id": "5b713a9c",
   "metadata": {},
   "outputs": [],
   "source": []
  },
  {
   "cell_type": "code",
   "execution_count": null,
   "id": "41055ca1",
   "metadata": {},
   "outputs": [],
   "source": []
  },
  {
   "cell_type": "code",
   "execution_count": null,
   "id": "301cf615",
   "metadata": {},
   "outputs": [],
   "source": []
  },
  {
   "cell_type": "code",
   "execution_count": null,
   "id": "71061888",
   "metadata": {},
   "outputs": [],
   "source": []
  },
  {
   "cell_type": "code",
   "execution_count": null,
   "id": "eddbd8d6",
   "metadata": {},
   "outputs": [],
   "source": []
  },
  {
   "cell_type": "code",
   "execution_count": null,
   "id": "3563fe9c",
   "metadata": {},
   "outputs": [],
   "source": []
  },
  {
   "cell_type": "code",
   "execution_count": null,
   "id": "99c2bb23",
   "metadata": {},
   "outputs": [],
   "source": []
  },
  {
   "cell_type": "code",
   "execution_count": null,
   "id": "ae0b7295",
   "metadata": {},
   "outputs": [],
   "source": []
  },
  {
   "cell_type": "code",
   "execution_count": null,
   "id": "243a8c88",
   "metadata": {},
   "outputs": [],
   "source": []
  },
  {
   "cell_type": "code",
   "execution_count": null,
   "id": "b369009f",
   "metadata": {},
   "outputs": [],
   "source": []
  },
  {
   "cell_type": "code",
   "execution_count": null,
   "id": "72f6f2a0",
   "metadata": {},
   "outputs": [],
   "source": []
  },
  {
   "cell_type": "code",
   "execution_count": null,
   "id": "c4eb69d8",
   "metadata": {},
   "outputs": [],
   "source": []
  },
  {
   "cell_type": "code",
   "execution_count": null,
   "id": "76d69e9c",
   "metadata": {},
   "outputs": [],
   "source": []
  },
  {
   "cell_type": "code",
   "execution_count": null,
   "id": "80c9e940",
   "metadata": {},
   "outputs": [],
   "source": []
  },
  {
   "cell_type": "code",
   "execution_count": null,
   "id": "39851b94",
   "metadata": {},
   "outputs": [],
   "source": []
  },
  {
   "cell_type": "code",
   "execution_count": null,
   "id": "40d0dbdd",
   "metadata": {},
   "outputs": [],
   "source": []
  },
  {
   "cell_type": "code",
   "execution_count": null,
   "id": "37f8bb62",
   "metadata": {},
   "outputs": [],
   "source": []
  },
  {
   "cell_type": "code",
   "execution_count": null,
   "id": "f47aa720",
   "metadata": {},
   "outputs": [],
   "source": []
  },
  {
   "cell_type": "code",
   "execution_count": null,
   "id": "ce7931f4",
   "metadata": {},
   "outputs": [],
   "source": []
  },
  {
   "cell_type": "code",
   "execution_count": null,
   "id": "65b439e5",
   "metadata": {},
   "outputs": [],
   "source": []
  },
  {
   "cell_type": "code",
   "execution_count": null,
   "id": "df24c0cc",
   "metadata": {},
   "outputs": [],
   "source": []
  },
  {
   "cell_type": "code",
   "execution_count": null,
   "id": "3ccdc79b",
   "metadata": {},
   "outputs": [],
   "source": []
  },
  {
   "cell_type": "code",
   "execution_count": null,
   "id": "b85cb3de",
   "metadata": {},
   "outputs": [],
   "source": []
  },
  {
   "cell_type": "code",
   "execution_count": null,
   "id": "9f31ca3d",
   "metadata": {},
   "outputs": [],
   "source": []
  },
  {
   "cell_type": "code",
   "execution_count": null,
   "id": "e7112bf4",
   "metadata": {},
   "outputs": [],
   "source": []
  },
  {
   "cell_type": "code",
   "execution_count": null,
   "id": "fc00240a",
   "metadata": {},
   "outputs": [],
   "source": []
  },
  {
   "cell_type": "code",
   "execution_count": null,
   "id": "af64a708",
   "metadata": {},
   "outputs": [],
   "source": []
  },
  {
   "cell_type": "code",
   "execution_count": null,
   "id": "ed80ac8f",
   "metadata": {},
   "outputs": [],
   "source": []
  }
 ],
 "metadata": {
  "kernelspec": {
   "display_name": "Python 3 (ipykernel)",
   "language": "python",
   "name": "python3"
  },
  "language_info": {
   "codemirror_mode": {
    "name": "ipython",
    "version": 3
   },
   "file_extension": ".py",
   "mimetype": "text/x-python",
   "name": "python",
   "nbconvert_exporter": "python",
   "pygments_lexer": "ipython3",
   "version": "3.11.7"
  }
 },
 "nbformat": 4,
 "nbformat_minor": 5
}
