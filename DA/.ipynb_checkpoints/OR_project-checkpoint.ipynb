{
 "cells": [
  {
   "cell_type": "markdown",
   "id": "95c55c1a",
   "metadata": {},
   "source": [
    "## Hotel and activity coordinates"
   ]
  },
  {
   "cell_type": "code",
   "execution_count": 1,
   "id": "709a5afe-ddd0-4150-9d10-94a572bc910d",
   "metadata": {},
   "outputs": [],
   "source": [
    "# 导入必要的库\n",
    "import gurobipy as gp\n",
    "import math\n",
    "from gurobipy import Model, GRB, quicksum, tupledict\n",
    "from itertools import combinations\n",
    "import numpy as np\n",
    "import matplotlib.pyplot as plt\n",
    "import pandas"
   ]
  },
  {
   "cell_type": "code",
   "execution_count": 2,
   "id": "3d064724",
   "metadata": {},
   "outputs": [],
   "source": [
    "Start = (50,50) # Hotel coordinates\n",
    "points = [(Start)] #coordinates of all activities\n",
    "Start_id = 0 # Hotel idendifier\n",
    "points += [(17, 72), (97, 8), (32, 15), (63, 97), (57, 60), (83, 48), (100, 26), (12, 62), (3, 49), (55, 77), \n",
    "          (97, 98), (0, 89), (57, 34), (92, 29), (75, 13), (40, 3), (2, 3), (83, 69), (1, 48), (87, 27), \n",
    "          (54, 92), (3, 67), (28, 97), (56, 63), (70, 29), (44, 29), (86, 28), (97, 58), (37, 2), (53, 71), \n",
    "          (82, 12), (23, 80), (92, 37), (15, 95), (42, 92), (91, 64), (54, 64), (85, 24), (38, 36), (75, 63), \n",
    "          (64, 50), (75, 4), (61, 31), (95, 51), (53, 85), (22, 46), (70, 89), (99, 86), (94, 47), (11, 56)]\n",
    "\n",
    "n = len(points) # total number of nodes"
   ]
  },
  {
   "cell_type": "markdown",
   "id": "52a83d46",
   "metadata": {},
   "source": [
    "## Distance and time from node i to node j"
   ]
  },
  {
   "cell_type": "code",
   "execution_count": 3,
   "id": "2647f2b8",
   "metadata": {},
   "outputs": [],
   "source": [
    "# A dictionary of distance between two activities (i,j) \n",
    "distance = {(i, j):\n",
    "        math.sqrt(sum((points[i][k]-points[j][k])**2 for k in range(2)))\n",
    "        for i in range(n) for j in range(n)}"
   ]
  },
  {
   "cell_type": "markdown",
   "id": "86968461",
   "metadata": {},
   "source": [
    "## Utility or reward to do an activity"
   ]
  },
  {
   "cell_type": "code",
   "execution_count": 4,
   "id": "37940ef3",
   "metadata": {},
   "outputs": [],
   "source": [
    "reward = {46: 43.15033999478041, 50: 20.948831277616726, 8: 17.263102417797167, 1: 21.18033988749895, \n",
    "          32: 27.72004514666935, 23: 30.872991584635255, 34: 29.308440859369416, 12: 38.35909773257803, \n",
    "          22: 40.20360331117452, 9: 20.23606797749979, 19: 47.24717771720739, 17: 80.0253925397308, \n",
    "          29: 38.176560460191574, 16: 17.584482762024336, 3: 32.86129401644173, 26: 27.65863337187866, \n",
    "          39: 27.65863337187866, 41: 33.1049731745428, 6: 36.99351699454112, 36: 26.373825194236886, \n",
    "          28: 15.765391263519088, 44: 11.403215514898179, 49: 14.32114465280323, 33: 21.014692853577536, \n",
    "          27: 14.939759452009628, 38: 7.728656901081649, 20: 8.990716082598492, 14: 13.929168552452033, \n",
    "          7: 26.792291336212188, 2: 33.77246228715468, 31: 26.154320508994672, 42: 19.63014581273465, \n",
    "          15: 25.76305461424021, 25: 25.982599071533098, 43: 14.219544457292887, 13: 22.46424919657298, \n",
    "          40: 38.17800560721074, 18: 33.3452350598575, 48: 35.510760120453945, 11: 40.626024002111855, \n",
    "          47: 39.090644754250064, 4: 20.92577595372165, 21: 22.295630140987, 35: 25.038404810405297, \n",
    "          45: 21.28461606164062, 10: 14.57076657157208, 30: 13.395623132202235, 37: 9.307135789365265, \n",
    "          24: 5.39834563766817, 5: 15.368833275902082}\n",
    "reward[Start_id] = 0\n"
   ]
  },
  {
   "cell_type": "markdown",
   "id": "9f317891",
   "metadata": {},
   "source": [
    "## Time windows"
   ]
  },
  {
   "cell_type": "code",
   "execution_count": 5,
   "id": "ee486ba6",
   "metadata": {},
   "outputs": [],
   "source": [
    "early = {46: 0, 50: 0, 8: 12, 1: 22, 32: 39, 23: 53, 34: 69, 12: 91, 22: 109, 9: 111, 19: 156, 17: 191, 29: 194, 16: 209, 3: 227, 26: 236, 39: 255, 41: 274, 6: 292, 36: 300, 28: 308, 44: 312, 49: 322, 33: 333, 27: 337, 38: 340, 20: 346, 14: 354, 7: 373, 2: 388, 31: 399, 42: 408, 15: 425, 25: 434, 43: 439, 13: 456, 40: 466, 18: 490, 48: 502, 11: 530, 47: 541, 4: 551, 21: 563, 35: 576, 45: 584, 10: 591, 30: 598, 37: 600, 24: 603, 5: 615}\n",
    "late = {46: 35, 50: 41, 8: 53, 1: 63, 32: 80, 23: 94, 34: 110, 12: 132, 22: 150, 9: 152, 19: 197, 17: 232, 29: 235, 16: 250, 3: 268, 26: 277, 39: 296, 41: 315, 6: 333, 36: 341, 28: 349, 44: 353, 49: 363, 33: 374, 27: 378, 38: 381, 20: 387, 14: 395, 7: 414, 2: 429, 31: 440, 42: 449, 15: 466, 25: 475, 43: 480, 13: 497, 40: 507, 18: 531, 48: 543, 11: 571, 47: 582, 4: 592, 21: 604, 35: 617, 45: 625, 10: 632, 30: 639, 37: 641, 24: 644, 5: 656}\n"
   ]
  },
  {
   "cell_type": "markdown",
   "id": "5611a99a",
   "metadata": {},
   "source": [
    "## Groups of activities"
   ]
  },
  {
   "cell_type": "code",
   "execution_count": 6,
   "id": "7485db76",
   "metadata": {},
   "outputs": [],
   "source": [
    "Dining = [i for i in range(len(points)) if i % 3 == 0 and i != 0]\n",
    "Sightseeing = [i for i in range(len(points)) if i % 3 == 1]\n",
    "Recreational = [i for i in range(len(points)) if i % 3 == 2]\n",
    "G = [Dining, Sightseeing, Recreational]"
   ]
  },
  {
   "cell_type": "markdown",
   "id": "9beecd95",
   "metadata": {},
   "source": [
    "## Budget"
   ]
  },
  {
   "cell_type": "code",
   "execution_count": 7,
   "id": "84c05e6d",
   "metadata": {},
   "outputs": [],
   "source": [
    "B = 300\n",
    "cost = {e:2 for e in range(1,n)}\n"
   ]
  },
  {
   "cell_type": "code",
   "execution_count": 15,
   "id": "90cdf658-26de-49cb-8621-ad6d3f02898a",
   "metadata": {},
   "outputs": [
    {
     "name": "stdout",
     "output_type": "stream",
     "text": [
      "{1: 2, 2: 2, 3: 2, 4: 2, 5: 2, 6: 2, 7: 2, 8: 2, 9: 2, 10: 2, 11: 2, 12: 2, 13: 2, 14: 2, 15: 2, 16: 2, 17: 2, 18: 2, 19: 2, 20: 2, 21: 2, 22: 2, 23: 2, 24: 2, 25: 2, 26: 2, 27: 2, 28: 2, 29: 2, 30: 2, 31: 2, 32: 2, 33: 2, 34: 2, 35: 2, 36: 2, 37: 2, 38: 2, 39: 2, 40: 2, 41: 2, 42: 2, 43: 2, 44: 2, 45: 2, 46: 2, 47: 2, 48: 2, 49: 2, 50: 2}\n"
     ]
    }
   ],
   "source": [
    "print(cost)"
   ]
  },
  {
   "cell_type": "code",
   "execution_count": 8,
   "id": "4e65a4a1-3883-4080-b8da-5b03c562ca9b",
   "metadata": {},
   "outputs": [
    {
     "name": "stdout",
     "output_type": "stream",
     "text": [
      "[[3, 6, 9, 12, 15, 18, 21, 24, 27, 30, 33, 36, 39, 42, 45, 48], [1, 4, 7, 10, 13, 16, 19, 22, 25, 28, 31, 34, 37, 40, 43, 46, 49], [2, 5, 8, 11, 14, 17, 20, 23, 26, 29, 32, 35, 38, 41, 44, 47, 50]]\n"
     ]
    }
   ],
   "source": [
    "print(G)"
   ]
  },
  {
   "cell_type": "code",
   "execution_count": 16,
   "id": "756bd56e-4102-4f81-8b88-9ebe3294c05f",
   "metadata": {},
   "outputs": [
    {
     "name": "stdout",
     "output_type": "stream",
     "text": [
      "1\n"
     ]
    }
   ],
   "source": [
    "from gurobipy import tupledict\n",
    "\n",
    "x = tupledict()\n",
    "x[('a', 'b')] = 1\n",
    "x[('a', 'c')] = 2\n",
    "x[('b', 'c')] = 3\n",
    "print(x[('a', 'b')])  # Output will be 1\n",
    "\n"
   ]
  },
  {
   "cell_type": "code",
   "execution_count": null,
   "id": "2b9987ed-06e4-4741-a5d0-32c23abfe7f2",
   "metadata": {},
   "outputs": [],
   "source": [
    "m = gp.Model()\n",
    "\n",
    "# Create variables\n",
    "x = m.addVars(n, vtype=GRB.BINARY, name=\"x\")  # 活动是否被选择\n",
    "y = tupledict()\n",
    "for i, j in dist.keys():\n",
    "    y[i, j] = m.addVar(vtype=GRB.BINARY, name=f'y[{i},{j}]')\n",
    "\n",
    "# 目标函数：最大化总奖励\n",
    "m.setObjective(quicksum(reward[i] * x[i] for i in range(n) - quicksum(cost[i] * x[i] for i in range(n))), GRB.MAXIMIZE)\n",
    "\n",
    "# 约束条件1: 成本限制\n",
    "m.addConstr(quicksum(cost[i] * x[i] for i in range(1, n)) <= B, \"Budget\")\n",
    "\n",
    "# 约束条件2: 时间窗口约束，忽略酒店节点\n",
    "for i in range(1, n):  # Start at 1 to skip the hotel at 0\n",
    "    m.addConstr(x[i] * early[i] <= x[i] * late[i], f\"Time_window_{i}\")"
   ]
  },
  {
   "cell_type": "code",
   "execution_count": null,
   "id": "7c3369dd-07dd-45a2-853f-4c29a58804d5",
   "metadata": {},
   "outputs": [],
   "source": []
  },
  {
   "cell_type": "code",
   "execution_count": null,
   "id": "40960869-84f6-477a-903a-c8685eb0618a",
   "metadata": {},
   "outputs": [],
   "source": []
  },
  {
   "cell_type": "code",
   "execution_count": null,
   "id": "25012e4e-58ce-48aa-a69f-232e6506280d",
   "metadata": {},
   "outputs": [],
   "source": []
  },
  {
   "cell_type": "code",
   "execution_count": 14,
   "id": "5c131988-78a5-41ca-ad92-9b45571c8e58",
   "metadata": {},
   "outputs": [
    {
     "name": "stdout",
     "output_type": "stream",
     "text": [
      "Gurobi Optimizer version 11.0.0 build v11.0.0rc2 (mac64[rosetta2] - Darwin 21.6.0 21H1123)\n",
      "\n",
      "CPU model: Apple M1\n",
      "Thread count: 8 physical cores, 8 logical processors, using up to 8 threads\n",
      "\n",
      "Optimize a model with 108 rows, 2719 columns and 1438 nonzeros\n",
      "Model fingerprint: 0x7378f5d1\n",
      "Variable types: 51 continuous, 2668 integer (2652 binary)\n",
      "Coefficient statistics:\n",
      "  Matrix range     [1e+00, 4e+01]\n",
      "  Objective range  [5e+00, 8e+01]\n",
      "  Bounds range     [1e+00, 1e+00]\n",
      "  RHS range        [1e+00, 3e+02]\n",
      "Found heuristic solution: objective 76.8202572\n",
      "Presolve removed 108 rows and 2719 columns\n",
      "Presolve time: 0.00s\n",
      "Presolve: All rows and columns removed\n",
      "\n",
      "Explored 0 nodes (0 simplex iterations) in 0.01 seconds (0.00 work units)\n",
      "Thread count was 1 (of 8 available processors)\n",
      "\n",
      "Solution count 2: 202.625 76.8203 \n",
      "\n",
      "Optimal solution found (tolerance 1.00e-04)\n",
      "Best objective 2.026251849841e+02, best bound 2.026251849841e+02, gap 0.0000%\n",
      "最优解已找到:\n",
      "从酒店出发\n",
      "进餐活动 15\n",
      "从酒店出发\n",
      "\n",
      "Filtered y variable values where Follows > 0:\n",
      "       Pair  Follows\n",
      "0   (0, 15)      1.0\n",
      "1   (0, 16)      1.0\n",
      "2   (6, 50)      1.0\n",
      "3  (12, 50)      1.0\n",
      "4  (17, 48)      1.0\n",
      "5  (19, 48)      1.0\n"
     ]
    }
   ],
   "source": [
    "\n",
    "# 初始化模型\n",
    "m = gp.Model()\n",
    "\n",
    "# 添加决策变量\n",
    "\n",
    "x = m.addVars(n, vtype=GRB.BINARY, name=\"x\")  # 活动是否被选择\n",
    "y = m.addVars(n, n, vtype=GRB.BINARY, name=\"y\")  # 活动i是否紧跟在活动j之后\n",
    "\n",
    "# 目标函数：最大化总奖励\n",
    "m.setObjective(quicksum(reward[i] * x[i] for i in range(n) - quicksum(cost[i] * x[i] for i in range(n))), GRB.MAXIMIZE)\n",
    "\n",
    "# 约束条件1: 成本限制\n",
    "m.addConstr(quicksum(cost[i] * x[i] for i in range(1, n)) <= B, \"Budget\")\n",
    "\n",
    "\n",
    "# 约束条件2: 时间窗口约束，忽略酒店节点\n",
    "for i in range(1, n):  # Start at 1 to skip the hotel at 0\n",
    "    m.addConstr(x[i] * early[i] <= x[i] * late[i], f\"Time_window_{i}\")\n",
    "\n",
    "\n",
    "# 约束条件3: 每组活动只能选择一次，除了餐饮\n",
    "for g in G:\n",
    "    if g != Dining:\n",
    "        m.addConstr(quicksum(x[i] for i in g) <= 1, f\"One_activity_per_group_{g}\")\n",
    "\n",
    "# 约束条件4: 餐饮活动必须在不同的餐馆\n",
    "\n",
    "dining = m.addVars(Dining, vtype=GRB.INTEGER, ub=1, name=\"dining\")\n",
    "m.addConstr(dining.sum() == quicksum(x[i] for i in Dining), \"Dining_match\")\n",
    "\n",
    "# 约束条件5: 选择的活动必须有两次餐饮和两个其他不同的活动\n",
    "m.addConstr(quicksum(x[i] for i in range(1, n) if i not in Dining) == 2, \"Two_other_activities\")\n",
    "\n",
    "# 约束条件：顺序必须是 hotel–activity–dining–activity–dining–hotel\n",
    "# 确保从酒店开始和结束\n",
    "m.addConstr(quicksum(y[0, j] for j in range(1, n)) == 2, \"Start_and_End_at_Hotel\")\n",
    "\n",
    "# 确保两个餐饮活动和两个其他活动被选择\n",
    "m.addConstr(quicksum(x[i] for i in Dining) == 2, \"Select_two_dining_activities\")\n",
    "m.addConstr(quicksum(x[i] for i in range(1, n) if i not in Dining) == 2, \"Select_two_other_activities\")\n",
    "\n",
    "# 对于每个餐饮活动，确保有一个其他活动紧随其后\n",
    "for i in Dining:\n",
    "    m.addConstr(quicksum(y[i, j] for j in range(1, n) if j not in Dining) == x[i], f\"Dining_followed_by_activity_{i}\")\n",
    "\n",
    "# 对于每个非餐饮活动，确保它后面跟着的是餐饮活动\n",
    "for i in range(1, n):\n",
    "    if i not in Dining:\n",
    "        m.addConstr(quicksum(y[i, j] for j in Dining) == x[i], f\"Activity_followed_by_dining_{i}\")\n",
    "\n",
    "\n",
    "# 求解模型\n",
    "m.optimize()\n",
    "\n",
    "# 检查解决状态\n",
    "if m.status == GRB.OPTIMAL:\n",
    "    print(\"最优解已找到:\")\n",
    "\n",
    "    # 初始化游览顺序数组，假设酒店是节点0\n",
    "    tour = [0]  # 从酒店开始\n",
    "    current = 0\n",
    "\n",
    "    # 尝试按顺序访问每个节点\n",
    "    while True:\n",
    "        next_activity = None\n",
    "        # 查找紧跟在当前活动之后的活动\n",
    "        for j in range(n):\n",
    "            if y[current, j].X > 0.5 and j != current:\n",
    "                next_activity = j\n",
    "                break\n",
    "        if next_activity is None or next_activity == 0:\n",
    "            break  # 如果没有下一个活动或回到起点，结束循环\n",
    "        tour.append(next_activity)\n",
    "        current = next_activity\n",
    "\n",
    "    tour.append(0)  # 完成游览，返回酒店\n",
    "\n",
    "    # 打印游览顺序\n",
    "    for activity in tour:\n",
    "        if activity == 0:\n",
    "            if tour.index(activity) == 0:\n",
    "                print(\"从酒店出发\")\n",
    "            else:\n",
    "                print(\"返回酒店\")\n",
    "        elif activity in Dining:\n",
    "            print(f\"进餐活动 {activity}\")\n",
    "        else:\n",
    "            print(f\"其他活动 {activity}\")\n",
    "\n",
    "    # 创建 DataFrame 以查看 y 变量的值\n",
    "    y_values = {(i, j): y[i, j].X for i in range(n) for j in range(n) if y[i, j].X > 0}\n",
    "    df_y = pd.DataFrame(list(y_values.items()), columns=['Pair', 'Follows'])\n",
    "    print(\"\\nFiltered y variable values where Follows > 0:\")\n",
    "    print(df_y)\n",
    "\n",
    "else:\n",
    "    print(\"没有找到最优解\")\n",
    "\n",
    "\n"
   ]
  },
  {
   "cell_type": "code",
   "execution_count": 12,
   "id": "af6a8799-7a39-460c-8fad-74f3f2eeafb1",
   "metadata": {},
   "outputs": [
    {
     "name": "stdout",
     "output_type": "stream",
     "text": [
      "x variable values:\n",
      "    Activity  Selected\n",
      "0          0       0.0\n",
      "1          1       0.0\n",
      "2          2       0.0\n",
      "3          3       0.0\n",
      "4          4       0.0\n",
      "5          5       0.0\n",
      "6          6       1.0\n",
      "7          7       0.0\n",
      "8          8       0.0\n",
      "9          9       0.0\n",
      "10        10       0.0\n",
      "11        11       0.0\n",
      "12        12       1.0\n",
      "13        13       0.0\n",
      "14        14       0.0\n",
      "15        15       0.0\n",
      "16        16       0.0\n",
      "17        17       1.0\n",
      "18        18       0.0\n",
      "19        19       1.0\n",
      "20        20       0.0\n",
      "21        21       0.0\n",
      "22        22       0.0\n",
      "23        23       0.0\n",
      "24        24       0.0\n",
      "25        25       0.0\n",
      "26        26       0.0\n",
      "27        27       0.0\n",
      "28        28       0.0\n",
      "29        29       0.0\n",
      "30        30       0.0\n",
      "31        31       0.0\n",
      "32        32       0.0\n",
      "33        33       0.0\n",
      "34        34       0.0\n",
      "35        35       0.0\n",
      "36        36       0.0\n",
      "37        37       0.0\n",
      "38        38       0.0\n",
      "39        39       0.0\n",
      "40        40       0.0\n",
      "41        41       0.0\n",
      "42        42       0.0\n",
      "43        43       0.0\n",
      "44        44       0.0\n",
      "45        45       0.0\n",
      "46        46       0.0\n",
      "47        47       0.0\n",
      "48        48       0.0\n",
      "49        49       0.0\n",
      "50        50       0.0\n",
      "\n",
      "y variable values:\n",
      "          Pair  Follows\n",
      "0       (0, 0)      0.0\n",
      "1       (0, 1)      0.0\n",
      "2       (0, 2)      0.0\n",
      "3       (0, 3)      0.0\n",
      "4       (0, 4)      0.0\n",
      "...        ...      ...\n",
      "2596  (50, 46)      0.0\n",
      "2597  (50, 47)      0.0\n",
      "2598  (50, 48)      0.0\n",
      "2599  (50, 49)      0.0\n",
      "2600  (50, 50)      0.0\n",
      "\n",
      "[2601 rows x 2 columns]\n"
     ]
    }
   ],
   "source": [
    "import pandas as pd\n",
    "\n",
    "# 假设 m 已经被定义且模型已解决\n",
    "if m.status == GRB.OPTIMAL:\n",
    "    # 提取 x 变量的值\n",
    "    x_values = {i: x[i].X for i in range(n)}\n",
    "    df_x = pd.DataFrame(list(x_values.items()), columns=['Activity', 'Selected'])\n",
    "\n",
    "    # 提取 y 变量的值\n",
    "    y_values = {(i, j): y[i, j].X for i in range(n) for j in range(n)}\n",
    "    df_y = pd.DataFrame(list(y_values.items()), columns=['Pair', 'Follows'])\n",
    "\n",
    "    # 显示数据\n",
    "    print(\"x variable values:\")\n",
    "    print(df_x)\n",
    "    print(\"\\ny variable values:\")\n",
    "    print(df_y)\n",
    "else:\n",
    "    print(\"No optimal solution found or model not solved\")\n"
   ]
  },
  {
   "cell_type": "code",
   "execution_count": 13,
   "id": "25739c8f-f995-4932-8b17-87507d6c64c3",
   "metadata": {},
   "outputs": [
    {
     "name": "stdout",
     "output_type": "stream",
     "text": [
      "Filtered y variable values where Follows > 0:\n",
      "          Pair  Follows\n",
      "15     (0, 15)      1.0\n",
      "16     (0, 16)      1.0\n",
      "356    (6, 50)      1.0\n",
      "662   (12, 50)      1.0\n",
      "915   (17, 48)      1.0\n",
      "1017  (19, 48)      1.0\n"
     ]
    }
   ],
   "source": [
    "\n",
    "\n",
    "# 假设 df_y 已经被定义并且包含y变量的值\n",
    "# 这里我们只显示y[i, j] > 0的行，表示活动j确实紧跟在活动i后面\n",
    "\n",
    "# 筛选Follows列中大于0的行\n",
    "df_y_filtered = df_y[df_y['Follows'] > 0]\n",
    "\n",
    "# 显示筛选后的DataFrame\n",
    "print(\"Filtered y variable values where Follows > 0:\")\n",
    "print(df_y_filtered)\n"
   ]
  },
  {
   "cell_type": "code",
   "execution_count": null,
   "id": "bd7d8e19-0ce4-4e40-b709-69fbbeaa847d",
   "metadata": {},
   "outputs": [],
   "source": [
    "# 确保从酒店开始和结束\n",
    "m.addConstr(quicksum(y[0, j] for j in range(1, n)) == 2, \"Start_and_End_at_Hotel\")\n",
    "\n",
    "# 确保两个餐饮活动和两个其他活动被选择\n",
    "m.addConstr(quicksum(x[i] for i in Dining) == 2, \"Select_two_dining_activities\")\n",
    "m.addConstr(quicksum(x[i] for i in range(1, n) if i not in Dining) == 2, \"Select_two_other_activities\")\n",
    "\n",
    "# 对于每个餐饮活动，确保有一个其他活动紧随其后\n",
    "for i in Dining:\n",
    "    m.addConstr(quicksum(y[i, j] for j in range(1, n) if j not in Dining) == x[i], f\"Dining_followed_by_activity_{i}\")\n",
    "\n",
    "# 对于每个非餐饮活动，确保它后面跟着的是餐饮活动\n",
    "for i in range(1, n):\n",
    "    if i not in Dining:\n",
    "        m.addConstr(quicksum(y[i, j] for j in Dining) == x[i], f\"Activity_followed_by_dining_{i}\")\n"
   ]
  },
  {
   "cell_type": "code",
   "execution_count": null,
   "id": "e96e229a-5b1f-403c-be51-f71a500e4074",
   "metadata": {},
   "outputs": [],
   "source": []
  },
  {
   "cell_type": "code",
   "execution_count": null,
   "id": "2a5d3181-7fd4-44f5-8c1a-2f07e99df41b",
   "metadata": {},
   "outputs": [],
   "source": []
  },
  {
   "cell_type": "code",
   "execution_count": null,
   "id": "742c13d0-032d-431f-98d8-8a089d235618",
   "metadata": {},
   "outputs": [],
   "source": []
  },
  {
   "cell_type": "code",
   "execution_count": null,
   "id": "5a4dd54c-24dd-45bf-a40a-54750657a0c7",
   "metadata": {},
   "outputs": [],
   "source": []
  },
  {
   "cell_type": "code",
   "execution_count": 10,
   "id": "9eb73311-91a2-4e08-bb9f-4a4908daee29",
   "metadata": {},
   "outputs": [
    {
     "name": "stdout",
     "output_type": "stream",
     "text": [
      "[(50, 50), (17, 72), (97, 8), (32, 15), (63, 97), (57, 60), (83, 48), (100, 26), (12, 62), (3, 49), (55, 77), (97, 98), (0, 89), (57, 34), (92, 29), (75, 13), (40, 3), (2, 3), (83, 69), (1, 48), (87, 27), (54, 92), (3, 67), (28, 97), (56, 63), (70, 29), (44, 29), (86, 28), (97, 58), (37, 2), (53, 71), (82, 12), (23, 80), (92, 37), (15, 95), (42, 92), (91, 64), (54, 64), (85, 24), (38, 36), (75, 63), (64, 50), (75, 4), (61, 31), (95, 51), (53, 85), (22, 46), (70, 89), (99, 86), (94, 47), (11, 56), (1, 1), (2, 2), (3, 3), (4, 4), (5, 5), (6, 6), (7, 7), (8, 8), (9, 9), (10, 10), (11, 11), (12, 12), (13, 13), (14, 14), (15, 15), (16, 16), (17, 17), (18, 18), (19, 19), (20, 20), (21, 21), (22, 22), (23, 23), (24, 24), (25, 25), (26, 26), (27, 27), (28, 28), (29, 29), (30, 30), (31, 31), (32, 32), (33, 33), (34, 34), (35, 35), (36, 36), (37, 37), (38, 38), (39, 39), (40, 40), (41, 41), (42, 42), (43, 43), (44, 44), (45, 45), (46, 46), (47, 47), (48, 48), (49, 49), (1, 1), (2, 2), (3, 3), (4, 4), (5, 5), (6, 6), (7, 7), (8, 8), (9, 9), (10, 10), (11, 11), (12, 12), (13, 13), (14, 14), (15, 15), (16, 16), (17, 17), (18, 18), (19, 19), (20, 20), (21, 21), (22, 22), (23, 23), (24, 24), (25, 25), (26, 26), (27, 27), (28, 28), (29, 29), (30, 30), (31, 31), (32, 32), (33, 33), (34, 34), (35, 35), (36, 36), (37, 37), (38, 38), (39, 39), (40, 40), (41, 41), (42, 42), (43, 43), (44, 44), (45, 45), (46, 46), (47, 47), (48, 48), (49, 49), (1, 1), (2, 2), (3, 3), (4, 4), (5, 5), (6, 6), (7, 7), (8, 8), (9, 9), (10, 10), (11, 11), (12, 12), (13, 13), (14, 14), (15, 15), (16, 16), (17, 17), (18, 18), (19, 19), (20, 20), (21, 21), (22, 22), (23, 23), (24, 24), (25, 25), (26, 26), (27, 27), (28, 28), (29, 29), (30, 30), (31, 31), (32, 32), (33, 33), (34, 34), (35, 35), (36, 36), (37, 37), (38, 38), (39, 39), (40, 40), (41, 41), (42, 42), (43, 43), (44, 44), (45, 45), (46, 46), (47, 47), (48, 48), (49, 49)]\n"
     ]
    },
    {
     "ename": "NameError",
     "evalue": "name 'default_value' is not defined",
     "output_type": "error",
     "traceback": [
      "\u001b[0;31m---------------------------------------------------------------------------\u001b[0m",
      "\u001b[0;31mNameError\u001b[0m                                 Traceback (most recent call last)",
      "Cell \u001b[0;32mIn[10], line 7\u001b[0m\n\u001b[1;32m      5\u001b[0m \u001b[38;5;28mprint\u001b[39m(points)\n\u001b[1;32m      6\u001b[0m \u001b[38;5;66;03m# activity reward\u001b[39;00m\n\u001b[0;32m----> 7\u001b[0m reward \u001b[38;5;241m=\u001b[39m {i: reward\u001b[38;5;241m.\u001b[39mget(i, default_value) \u001b[38;5;28;01mfor\u001b[39;00m i \u001b[38;5;129;01min\u001b[39;00m \u001b[38;5;28mrange\u001b[39m(\u001b[38;5;28mlen\u001b[39m(points))}\n\u001b[1;32m      9\u001b[0m \u001b[38;5;28mprint\u001b[39m(reward)\n",
      "Cell \u001b[0;32mIn[10], line 7\u001b[0m, in \u001b[0;36m<dictcomp>\u001b[0;34m(.0)\u001b[0m\n\u001b[1;32m      5\u001b[0m \u001b[38;5;28mprint\u001b[39m(points)\n\u001b[1;32m      6\u001b[0m \u001b[38;5;66;03m# activity reward\u001b[39;00m\n\u001b[0;32m----> 7\u001b[0m reward \u001b[38;5;241m=\u001b[39m {i: reward\u001b[38;5;241m.\u001b[39mget(i, default_value) \u001b[38;5;28;01mfor\u001b[39;00m i \u001b[38;5;129;01min\u001b[39;00m \u001b[38;5;28mrange\u001b[39m(\u001b[38;5;28mlen\u001b[39m(points))}\n\u001b[1;32m      9\u001b[0m \u001b[38;5;28mprint\u001b[39m(reward)\n",
      "\u001b[0;31mNameError\u001b[0m: name 'default_value' is not defined"
     ]
    }
   ],
   "source": [
    "# Add coordinates of all activities \n",
    "for i in range(1, len(Sightseeing) + len(Dining) + len(Recreational)):\n",
    "    points.append(eval(f\"({i},{i})\"))  # Assume coordinates are stored in \"(x, y)\" format\n",
    "\n",
    "print(points)\n",
    "# activity reward\n",
    "reward = {i: reward.get(i, d) for i in range(len(points))}\n",
    "\n",
    "print(reward)"
   ]
  },
  {
   "cell_type": "code",
   "execution_count": null,
   "id": "290cc410-1a12-4346-8125-f58853f07dba",
   "metadata": {},
   "outputs": [],
   "source": [
    "\n",
    "# Define time windows (get from your code)\n",
    "early = {i: early[i] for i in range(len(points))}\n",
    "late = {i: late[i] for i in range(len(points))}\n",
    "\n",
    "# Define dining activity set (get from your code)\n",
    "Dining = [i for i in range(len(points)) if i % 3 == 0 and i != 0]\n",
    "\n",
    "# Define sightseeing activity set (get from your code)\n",
    "Sightseeing = [i for i in range(len(points)) if i % 3 == 1]\n",
    "\n",
    "# Define recreational activity set (get from your code)\n",
    "Recreational = [i for i in range(len(points)) if i % 3 == 2]\n",
    "\n",
    "# Define budget (get from your code)\n",
    "B = 300\n",
    "\n",
    "# Define activity travel costs (assume same travel cost for all activities)\n",
    "cost = {e: 2 for e in range(1, len(points))}\n",
    "\n",
    "# Create Gurobi model\n",
    "model = gp.Model(\"Itinerary Planning\")\n",
    "\n",
    "# Define variables\n",
    "# x[i][j] = 1 indicates moving from activity i to activity j\n",
    "# y[i] = 1 indicates dining at activity i\n",
    "x = [[gp.Var(vtype=gp.GRB.BINARY, name=f\"x_{i}_{j}\") for j in range(len(points))] for i in range(len(points))]\n",
    "y = [gp.Var(vtype=gp.GRB.BINARY, name=f\"y_{i}\") for i in range(len(points))]\n",
    "\n",
    "# Set objective function: maximize total reward\n",
    "objective = sum(reward[i] * x[Start_id][i] for i in range(len(points)))\n",
    "model.setObjective(objective, gp.GRB.MAXIMIZE)\n",
    "\n",
    "# Add constraints\n",
    "# 1. Must start and end at hotel\n",
    "model.addConstr(x[Start_id][Start_id] == 1)\n",
    "\n",
    "# 2. Can only choose one activity to move to\n",
    "for i in range(len(points)):\n",
    "    for j in range(len(points)):\n",
    "        if i != j:\n",
    "            for k in range(len(points)):\n",
    "                model.addConstr(x[i][j] <= x[k][i])\n",
    "                model.addConstr(x[i][j] >= x[j][i] - 1)\n",
    "\n",
    "# 3. Can only dine at dining activities\n",
    "for i in range(len(points)):\n",
    "    for j in Dining:\n",
    "        model.addConstr(y[i] <= x[i][j])\n",
    "\n",
    "# 4. Must dine at two different restaurants\n",
    "model.addConstr(y[Start_id] == 0)\n",
    "sum_y = sum(y)\n",
    "for i in Dining:\n",
    "    model.addConstr(y[i] == 0)\n",
    "\n",
    "model.addConstr(y[Start_id] == 1)\n",
    "y_copy = y.copy()\n",
    "for i in range(len(y)):\n",
    "    y[i] = 0\n",
    "    if sum(y_copy) == 1:\n",
    "        break\n",
    "    y_copy[i] = 0\n",
    "\n",
    "# 5. Subtour elimination constraints (ensure visit follows hotel -> activity -> ...)\n",
    "for i in range(1, len(points) - 1):  # Exclude hotel (Start_id) and last activity\n",
    "    for S in range(2, len(points)):  # Subtour size (minimum 2 activities)\n",
    "        # Create subset of activities excluding i\n",
    "        T = set(range(len(points))) - {i}\n",
    "        # Sum of x variables for entering the subset from any activity\n",
    "        In_S = sum(x[j][i] for j in T)\n",
    "        # Sum of x variables for leaving the subset to any activity\n",
    "        Out_S = sum(x[i][j] for j in T)\n",
    "        # Enforce at most S-1 activities can be visited within the subset (excluding i)\n",
    "        model.addConstr(In_S + Out_S <= S - 1)\n"
   ]
  }
 ],
 "metadata": {
  "kernelspec": {
   "display_name": "Python 3 (ipykernel)",
   "language": "python",
   "name": "python3"
  },
  "language_info": {
   "codemirror_mode": {
    "name": "ipython",
    "version": 3
   },
   "file_extension": ".py",
   "mimetype": "text/x-python",
   "name": "python",
   "nbconvert_exporter": "python",
   "pygments_lexer": "ipython3",
   "version": "3.11.7"
  }
 },
 "nbformat": 4,
 "nbformat_minor": 5
}
