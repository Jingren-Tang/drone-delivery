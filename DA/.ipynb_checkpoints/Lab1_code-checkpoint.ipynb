{
 "cells": [
  {
   "cell_type": "code",
   "execution_count": null,
   "id": "c6d2d7bd",
   "metadata": {},
   "outputs": [],
   "source": [
    "import gurobipy as gp"
   ]
  },
  {
   "cell_type": "code",
   "execution_count": null,
   "id": "fff884d0",
   "metadata": {},
   "outputs": [],
   "source": [
    "m = gp.Model()\n",
    "m.optimize()"
   ]
  },
  {
   "cell_type": "code",
   "execution_count": null,
   "id": "7836384d",
   "metadata": {},
   "outputs": [],
   "source": [
    "# Copyright 2023, Gurobi Optimization, LLC\n",
    "\n",
    "# This example formulates and solves the following simple MIP model:\n",
    "#  maximize\n",
    "#        x +   y + 2 z\n",
    "#  subject to\n",
    "#        x + 2 y + 3 z <= 4\n",
    "#        x +   y       >= 1\n",
    "#        x, y, z binary\n",
    "\n",
    "from gurobipy import GRB\n",
    "\n",
    "# Create a new model\n",
    "m = gp.Model(\"mip1\")\n",
    "\n",
    "# Create variables\n",
    "x = m.addVar(vtype=GRB.BINARY, name=\"x\")\n",
    "y = m.addVar(vtype=GRB.BINARY, name=\"y\")\n",
    "z = m.addVar(vtype=GRB.BINARY, name=\"z\")\n",
    "\n",
    "# Set objective\n",
    "m.setObjective(x + y + 2 * z, GRB.MAXIMIZE)\n",
    "\n",
    "# Add constraint: x + 2 y + 3 z <= 4\n",
    "m.addConstr(x + 2 * y + 3 * z <= 4, \"c0\")\n",
    "\n",
    "# Add constraint: x + y >= 1\n",
    "m.addConstr(x + y >= 1, \"c1\")\n",
    "\n",
    "# Optimize model\n",
    "m.setParam(\"OutputFlag\", 0)\n",
    "m.optimize()\n",
    "\n",
    "print(f\"Optimal objective = {m.ObjVal}\")\n",
    "print(f\"Optimal x value = {x.x}\")\n",
    "print(f\"Optimal y value = {y.x}\")\n",
    "print(f\"Optimal z value = {z.x}\")"
   ]
  },
  {
   "cell_type": "code",
   "execution_count": null,
   "id": "7e1144b8",
   "metadata": {},
   "outputs": [],
   "source": [
    "# First example\n",
    "\n",
    "m = gp.Model()\n",
    "\n",
    "inf = GRB.INFINITY\n",
    "x = m.addVar(lb = -inf, vtype=GRB.CONTINUOUS)\n",
    "\n",
    "# ..."
   ]
  },
  {
   "cell_type": "code",
   "execution_count": null,
   "id": "23e11416",
   "metadata": {},
   "outputs": [],
   "source": [
    "N = 15166\n",
    "B = 100\n",
    "A = 600"
   ]
  },
  {
   "cell_type": "code",
   "execution_count": null,
   "id": "2ed5d338",
   "metadata": {},
   "outputs": [],
   "source": [
    "import numpy as np\n",
    "a = np.load(\"Lab1_a.npy\")"
   ]
  },
  {
   "cell_type": "code",
   "execution_count": null,
   "id": "908a49ea",
   "metadata": {},
   "outputs": [],
   "source": [
    "F = (N + sum(a)) / (A*B)"
   ]
  },
  {
   "cell_type": "code",
   "execution_count": null,
   "id": "cdb3d7e8",
   "metadata": {},
   "outputs": [],
   "source": [
    "# Container storage problem\n",
    "\n",
    "inf = GRB.INFINITY\n",
    "\n",
    "m = gp.Model()\n",
    "\n",
    "x = {i: m.addVar(vtype=GRB.INTEGER) for i in range(B)}\n",
    "\n",
    "# ..."
   ]
  },
  {
   "cell_type": "code",
   "execution_count": null,
   "id": "fb896a22",
   "metadata": {},
   "outputs": [],
   "source": [
    "N = 20\n",
    "M = 30\n",
    "cost = np.load(\"Lab1_cost.npy\")\n",
    "output = np.load(\"Lab1_output.npy\")\n",
    "allocation = np.load(\"Lab1_allocation.npy\")"
   ]
  },
  {
   "cell_type": "code",
   "execution_count": null,
   "id": "003374c8",
   "metadata": {},
   "outputs": [],
   "source": [
    "# Transportation problem\n",
    "\n",
    "m = gp.Model()\n",
    "\n",
    "# ..."
   ]
  },
  {
   "cell_type": "code",
   "execution_count": null,
   "id": "b3b60904",
   "metadata": {},
   "outputs": [],
   "source": []
  }
 ],
 "metadata": {
  "kernelspec": {
   "display_name": "Python 3",
   "language": "python",
   "name": "python3"
  },
  "language_info": {
   "codemirror_mode": {
    "name": "ipython",
    "version": 3
   },
   "file_extension": ".py",
   "mimetype": "text/x-python",
   "name": "python",
   "nbconvert_exporter": "python",
   "pygments_lexer": "ipython3",
   "version": "3.8.8"
  }
 },
 "nbformat": 4,
 "nbformat_minor": 5
}
