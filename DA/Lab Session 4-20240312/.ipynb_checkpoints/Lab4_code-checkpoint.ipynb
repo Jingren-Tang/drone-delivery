{
 "cells": [
  {
   "cell_type": "code",
   "execution_count": null,
   "id": "0d355400",
   "metadata": {},
   "outputs": [],
   "source": [
    "import numpy as np\n",
    "import matplotlib.pyplot as plt\n",
    "import random\n",
    "import math\n",
    "import time"
   ]
  },
  {
   "cell_type": "markdown",
   "id": "a771cdc9",
   "metadata": {},
   "source": [
    "First, let's define the TSP problem. TSP stands for \"Traveling Salesman Problem\" and is a classical optimization problem in computer science. In TSP, given a set of cities and the distances between each pair of cities, the goal is to find the shortest possible route that visits every city exactly once and returns to the starting city."
   ]
  },
  {
   "cell_type": "code",
   "execution_count": null,
   "id": "a3e1213b",
   "metadata": {
    "scrolled": false
   },
   "outputs": [],
   "source": [
    "# Define the points as an array of (x,y) coordinates\n",
    "n = 50\n",
    "random.seed(1)\n",
    "points = np.array([[random.randint(0, 100), random.randint(0, 100)] for i in range(n)])\n",
    "\n",
    "# Plot the points on a 2D plane\n",
    "plt.rcParams['figure.figsize'] = [10, 7]\n",
    "plt.scatter(points[:,0], points[:,1], color = 'r', s=50)\n",
    "plt.show()\n",
    "\n",
    "# Compute the Euclidean distances between each pair of points to create the distance matrix\n",
    "distance_matrix = np.zeros((n, n))\n",
    "for i in range(n):\n",
    "    for j in range(n):\n",
    "        distance_matrix[i,j] = np.linalg.norm(points[i]-points[j])"
   ]
  },
  {
   "cell_type": "markdown",
   "id": "e83491d7",
   "metadata": {},
   "source": [
    "This code defines an array of (x,y) coordinates that represent the positions of each city on a 2D plane. It then uses the scatter() function from the matplotlib.pyplot module to plot the cities on the 2D plane. Finally, it computes the Euclidean distances between each pair of cities using the numpy.linalg.norm() function, and stores these distances in a distance matrix that can be used as input to any of the TSP-solving functions provided above."
   ]
  },
  {
   "cell_type": "code",
   "execution_count": null,
   "id": "d08a052d",
   "metadata": {},
   "outputs": [],
   "source": [
    "# plots a TSP solution\n",
    "def figure_TSP(sol):\n",
    "    ax = plt.gca()\n",
    "    ax.cla() # clear things for fresh plot\n",
    "\n",
    "    # change default range\n",
    "    ax.set_xlim((-5, 105))\n",
    "    ax.set_ylim((-5, 105))\n",
    "    a = []\n",
    "    b = []\n",
    "    \n",
    "    \n",
    "    for i in sol:\n",
    "        ax.plot(points[i][0],points[i][1], 'o',color = 'r', markersize=7)\n",
    "        a = np.append(a, points[i][0])\n",
    "        b = np.append(b, points[i][1])    \n",
    "    a = np.append(a, points[sol[0]][0])\n",
    "    b = np.append(b, points[sol[0]][1]) \n",
    "    ax.plot(a,b)\n",
    "    for i in sol:\n",
    "        ax.plot(points[i][0],points[i][1], 'o',color = 'r', markersize=7)\n",
    "    plt.show() "
   ]
  },
  {
   "cell_type": "code",
   "execution_count": null,
   "id": "87b985b2",
   "metadata": {},
   "outputs": [],
   "source": [
    "# compute the total length of a solution\n",
    "def total_distance(route, distance_matrix):\n",
    "    if not route[0] == route[-1]:\n",
    "        route.append(route[0])\n",
    "    total_dist = 0\n",
    "    for i in range(1, len(route)):\n",
    "        total_dist += distance_matrix[route[i-1], route[i]]\n",
    "    return total_dist"
   ]
  },
  {
   "cell_type": "markdown",
   "id": "ccfc2453",
   "metadata": {},
   "source": [
    "### Nearest Neighbour Heuristic\n",
    "The nearest neighbour heuristic is a simple algorithm that starts at a random city and repeatedly visits the nearest city that has not yet been visited. It returns the route obtained by this process."
   ]
  },
  {
   "cell_type": "code",
   "execution_count": null,
   "id": "4a7b88a1",
   "metadata": {},
   "outputs": [],
   "source": [
    "def nearest_neighbour_tsp(distance_matrix):\n",
    "    \"\"\"\n",
    "    Solve the TSP problem using the nearest neighbour heuristic.\n",
    "\n",
    "    Args:\n",
    "        distance_matrix: A square matrix where element (i,j) is the distance between city i and city j.\n",
    "\n",
    "    Returns:\n",
    "        A list containing the cities in the order they should be visited to obtain the shortest route.\n",
    "    \"\"\"\n",
    "    num_cities = distance_matrix.shape[0] \n",
    "    route = [0]  \n",
    "    unvisited_cities = set(range(1, num_cities)) \n",
    "    while unvisited_cities: \n",
    "        # take the city for which distance is minimized, \n",
    "        # call it \"nearest city\"\n",
    "        \n",
    "        # append \"nearest city\" to route\n",
    "        \n",
    "        # remove \"nearest city\" from unvisited cities\n",
    "    route.append(0) # Return to starting city\n",
    "    return route"
   ]
  },
  {
   "cell_type": "code",
   "execution_count": null,
   "id": "1c54df6d",
   "metadata": {},
   "outputs": [],
   "source": [
    "# distance between two cities i, j\n",
    "distance_matrix[i, j]\n",
    "\n",
    "# taking last element from route\n",
    "route[-1]\n",
    "\n",
    "# finding the element in a Set that minimizes a certain function:\n",
    "min_element = min(Set, key=lambda element: function(element))\n",
    "\n",
    "# add element to list\n",
    "List.append(element)\n",
    "\n",
    "# remove element from set \n",
    "Set.remove(element)"
   ]
  },
  {
   "cell_type": "markdown",
   "id": "67b70172",
   "metadata": {},
   "source": [
    "Here, we start at city 0 and initialize a set unvisited_cities with all the other cities. We repeatedly add the nearest unvisited city to the route until all cities have been visited. Finally, we return to the starting city. The min function with the key argument is used to find the nearest unvisited city."
   ]
  },
  {
   "cell_type": "code",
   "execution_count": null,
   "id": "505bb37a",
   "metadata": {
    "scrolled": false
   },
   "outputs": [],
   "source": [
    "start_time = time.time()\n",
    "nn_tour = nearest_neighbour_tsp(distance_matrix)\n",
    "solve_time = time.time()-start_time\n",
    "figure_TSP(nn_tour)\n",
    "total_length = total_distance(nn_tour, distance_matrix)\n",
    "print(\"Length = \",  total_length)\n",
    "print(\"Solve time = \", solve_time)"
   ]
  },
  {
   "cell_type": "markdown",
   "id": "7235fa19",
   "metadata": {},
   "source": [
    "### 2-Opt Heuristic\n",
    "The 2-opt heuristic is a local search algorithm that starts with a route and repeatedly tries to find better routes by swapping pairs of edges that intersect. It returns the best route obtained by this process."
   ]
  },
  {
   "cell_type": "code",
   "execution_count": null,
   "id": "afa0e742",
   "metadata": {},
   "outputs": [],
   "source": [
    "def two_opt_tsp(distance_matrix):\n",
    "    \"\"\"\n",
    "    Solve the TSP problem using the 2-opt heuristic.\n",
    "\n",
    "    Args:\n",
    "        distance_matrix: A square matrix where element (i,j) is the distance between city i and city j.\n",
    "\n",
    "    Returns:\n",
    "        A list containing the cities in the order they should be visited to obtain the shortest route.\n",
    "    \"\"\"\n",
    "    def reverse_segment(route, i, j):\n",
    "        \"\"\"Reverse the order of cities from index i to index j in a route.\"\"\"\n",
    "        new_route = route[:i] + route[i:j+1][::-1] + route[j+1:]\n",
    "        return new_route\n",
    "\n",
    "    # Start with NN route\n",
    "    route = nearest_neighbour_tsp(distance_matrix)\n",
    "    size = len(route)\n",
    "    improved = True\n",
    "    best_distance = total_distance(route, distance_matrix)\n",
    "    while improved:\n",
    "        best = total_distance(route, distance_matrix) \n",
    "        improved = False\n",
    "        # for all possible combinations of edges\n",
    "        for i in range(size-2): # edge i to i+1\n",
    "            for j in range(i+2, size-1): # edge j to j+1\n",
    "                # Calculate gain: old edges - new edges\n",
    "                # if gain > 0 then reverse the middle segment, \n",
    "                # set improved to True, update \"best_distance\" variable \n",
    "                # and exit the current j-loop (break)\n",
    "    return route"
   ]
  },
  {
   "cell_type": "markdown",
   "id": "ce3ced94",
   "metadata": {},
   "source": [
    "Here, we start with a simple route that visits cities in the order they appear. We repeatedly try to improve the route by swapping pairs of edges that intersect, until no further improvement is possible. The 'reverse_segment' function is used to swap the order of cities between two indices in a route."
   ]
  },
  {
   "cell_type": "code",
   "execution_count": null,
   "id": "4baf585f",
   "metadata": {},
   "outputs": [],
   "source": [
    "# insert a list2 into another list1 at element i \n",
    "new_list = list1[:i] + list2 + route[i+1:]\n",
    "\n",
    "# invert a list1\n",
    "new_list = list1[::-1]\n",
    "\n",
    "# take all elements from index i to index j from a list1:\n",
    "new_list = list1[i:j+1]\n",
    "\n",
    "# exit a loop at any point\n",
    "break\n",
    "\n",
    "# shorter notation for x = x - y \n",
    "x -= y"
   ]
  },
  {
   "cell_type": "code",
   "execution_count": null,
   "id": "1efe4956",
   "metadata": {
    "scrolled": false
   },
   "outputs": [],
   "source": [
    "start_time = time.time()\n",
    "TwoOpt_tour = two_opt_tsp(distance_matrix)\n",
    "solve_time = time.time()-start_time\n",
    "figure_TSP(TwoOpt_tour)\n",
    "total_length = total_distance(TwoOpt_tour, distance_matrix)\n",
    "print(\"Length = \",  total_length)\n",
    "print(\"Solve time = \", solve_time)"
   ]
  },
  {
   "cell_type": "markdown",
   "id": "8d2b8a91",
   "metadata": {},
   "source": [
    "### Random Insertion Heuristic\n",
    "The random insertion heuristic is another simple algorithm that selects a random city among the unvisited cities and inserts it in the position that minimizes the total length of the route. "
   ]
  },
  {
   "cell_type": "code",
   "execution_count": null,
   "id": "ab1bc87b",
   "metadata": {},
   "outputs": [],
   "source": [
    "# compute cost for inserting a city between two adjacent cities\n",
    "def cost(i, j, city, distance_matrix):\n",
    "    return distance_matrix[i, city] + distance_matrix[city, j] - distance_matrix[i, j]"
   ]
  },
  {
   "cell_type": "code",
   "execution_count": null,
   "id": "11906782",
   "metadata": {},
   "outputs": [],
   "source": [
    "def random_insertion_tsp(distance_matrix):\n",
    "    \"\"\"\n",
    "    Solve the TSP problem using the random insertion heuristic.\n",
    "\n",
    "    Args:\n",
    "        distance_matrix: A square matrix where element (i,j) is the distance between city i and city j.\n",
    "\n",
    "    Returns:\n",
    "        A list containing the cities in the order they should be visited to obtain the shortest route.\n",
    "    \"\"\"\n",
    "    random.seed(1)\n",
    "    num_cities = distance_matrix.shape[0]\n",
    "    unvisited_cities = set(range(num_cities))\n",
    "    start = random.choice(list(unvisited_cities)) # start from a random city\n",
    "    route = [start]\n",
    "    unvisited_cities.remove(start)\n",
    "    while unvisited_cities:\n",
    "        # choose random city amongst unvisited ones\n",
    "        # if the route so far contains 1 city we simply add the new city, else:\n",
    "        # find insertion position that minimizes added cost when inserted \n",
    "        # between i-1 and i, for all i in the route \n",
    "        # insert the random city at the index\n",
    "        # remove the random city from the unvisited cities\n",
    "    route.append(route[0])  # Return to starting city \n",
    "    return route"
   ]
  },
  {
   "cell_type": "markdown",
   "id": "6592c425",
   "metadata": {},
   "source": [
    "Here, we start at city 0 and initialize a set unvisited_cities with all the other cities. We repeatedly add a random city at the position in our current route where it minimizes the total length until all cities have been visited. Finally, we return to the starting city. The min function with the key argument is used to find the insertion index where the total length is minimized, and the random module is used to choose a random city for insertion."
   ]
  },
  {
   "cell_type": "code",
   "execution_count": null,
   "id": "bf975ee2",
   "metadata": {},
   "outputs": [],
   "source": [
    "# choose a random element from a set:\n",
    "random_element = random.choice(list(set))\n",
    "\n",
    "# find the index that minimizes a function over a list \"List\"\n",
    "index = min(list(range(len(List))), key=lambda i: function(i))\n",
    "\n",
    "# insert an element into a list at a specific index\n",
    "List.insert(insertion_index, element)\n",
    "\n",
    "# remove an element from a list\n",
    "List.remove(element)"
   ]
  },
  {
   "cell_type": "code",
   "execution_count": null,
   "id": "02d4c939",
   "metadata": {},
   "outputs": [],
   "source": [
    "start_time = time.time()\n",
    "rand_ins_tour = random_insertion_tsp(distance_matrix)\n",
    "solve_time = time.time()-start_time\n",
    "figure_TSP(rand_ins_tour)\n",
    "total_length = total_distance(rand_ins_tour, distance_matrix)\n",
    "print(\"Length = \",  total_length)\n",
    "print(\"Solve time = \", solve_time)"
   ]
  },
  {
   "cell_type": "markdown",
   "id": "b18231f0",
   "metadata": {},
   "source": [
    "### Destroy and rebuild metaheuristic\n",
    "The destroy and rebuild metaheuristic builds on the random insertion heuristic by first constructing a tour using the latter method, then randomly removing a certain number of cities (usually half), from which again randomly one city after the other is drawn to be inserted at the best place (minimizing added costs). This denotes one iteration of the method. This metaheuristic approximates the optimal solution more accurately the more iterations (removals and insertions) we perform. "
   ]
  },
  {
   "cell_type": "code",
   "execution_count": null,
   "id": "0fde00d0",
   "metadata": {},
   "outputs": [],
   "source": [
    "def random_insert_remove_tsp(distance_matrix, num_iterations=1000):\n",
    "    \"\"\"\n",
    "    Solve the TSP problem using the random insert random remove metaheuristic.\n",
    "\n",
    "    Args:\n",
    "        distance_matrix: A square matrix where element (i,j) is the distance between city i and city j.\n",
    "        num_iterations: Number of iterations to perform.\n",
    "\n",
    "    Returns:\n",
    "        A list containing the cities in the order they should be visited to obtain the shortest route.\n",
    "    \"\"\"\n",
    "    num_cities = distance_matrix.shape[0]\n",
    "    half_num_cities = round(num_cities/2)\n",
    "    # create a first tour by using random insertion\n",
    "    route = random_insertion_tsp(distance_matrix) \n",
    "    best_tour = route\n",
    "    best_length = total_distance(route, distance_matrix)\n",
    "    for i in range(num_iterations):\n",
    "        # remove randomly half of the cities\n",
    "        # use random insertion method as before to fill up the tour to full length \n",
    "        # (just copy paste the while loop)\n",
    "        # check if these new found route is shorter than the best route so far \n",
    "        # (using total_distance(route, distance_matrix))\n",
    "        # if yes, update the variables \"best_tour\" and \"best_length\"\n",
    "    return best_tour"
   ]
  },
  {
   "cell_type": "code",
   "execution_count": null,
   "id": "36652f74",
   "metadata": {},
   "outputs": [],
   "source": [
    "# take a random sample of size H from a list\n",
    "sample = random.sample(List, H)\n",
    "\n",
    "# list comprehension: define a list buy manipulating elements from another list\n",
    "# example: list1 = all elements in list2 that are not in list3\n",
    "list1 = [el for el in list2 if el not in list3]"
   ]
  },
  {
   "cell_type": "code",
   "execution_count": null,
   "id": "0714824e",
   "metadata": {},
   "outputs": [],
   "source": [
    "start_time = time.time()\n",
    "rand_ins_rem_tour = random_insert_remove_tsp(distance_matrix)\n",
    "solve_time = time.time()-start_time\n",
    "figure_TSP(rand_ins_rem_tour)\n",
    "total_length = total_distance(rand_ins_rem_tour, distance_matrix)\n",
    "print(\"Length = \",  total_length)\n",
    "print(\"Solve time = \", solve_time)"
   ]
  },
  {
   "cell_type": "code",
   "execution_count": null,
   "id": "d655dcbb",
   "metadata": {},
   "outputs": [],
   "source": []
  },
  {
   "cell_type": "code",
   "execution_count": null,
   "id": "07158b92",
   "metadata": {},
   "outputs": [],
   "source": []
  }
 ],
 "metadata": {
  "kernelspec": {
   "display_name": "Python 3",
   "language": "python",
   "name": "python3"
  },
  "language_info": {
   "codemirror_mode": {
    "name": "ipython",
    "version": 3
   },
   "file_extension": ".py",
   "mimetype": "text/x-python",
   "name": "python",
   "nbconvert_exporter": "python",
   "pygments_lexer": "ipython3",
   "version": "3.8.8"
  }
 },
 "nbformat": 4,
 "nbformat_minor": 5
}
